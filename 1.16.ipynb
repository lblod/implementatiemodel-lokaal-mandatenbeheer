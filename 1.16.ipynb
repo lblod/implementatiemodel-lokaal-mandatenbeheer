{
 "cells": [
  {
   "cell_type": "markdown",
   "metadata": {},
   "source": [
    "# 1.16 de mandataris die een verhinderde mandataris vervangt heeft een startdatum gelijk aan de einddatum van de verhinderde mandataris"
   ]
  },
  {
   "cell_type": "markdown",
   "metadata": {},
   "source": [
    "We load Javascript libraries to i) retrieve data (bindings) from a bestuurseenheid, ii) validate the document, and iii) display the JSON result."
   ]
  },
  {
   "cell_type": "code",
   "execution_count": 38,
   "metadata": {},
   "outputs": [],
   "source": [
    "import { getBestuurseenheidUrl } from \"./utils.ts\";\n",
    "import {  getBindingsFromTurtleContent, validateDocument, fetchDocument } from 'npm:@lblod/lib-decision-validation';\n",
    "import { display } from \"https://deno.land/x/display/mod.ts\";\n",
    "\n",
    "const bestuurseenheidUuid = '2fd8218dd4a404931eeaef879e33506ae998e38d4ca745620f4f6044c230dff3';\n",
    "const bestuurseenheidUrl = getBestuurseenheidUrl(bestuurseenheidUuid);\n",
    "const bestuurseenheidBindings = await fetchDocument(bestuurseenheidUrl);"
   ]
  },
  {
   "cell_type": "markdown",
   "metadata": {},
   "source": [
    "Below, we can find the SPARQL template query and SHACL shape for the use case.\n",
    "The Turtle string is converted into bindings."
   ]
  },
  {
   "cell_type": "code",
   "execution_count": 35,
   "metadata": {},
   "outputs": [],
   "source": [
    "const mandataris_1_query: string = `\n",
    "    PREFIX besluit: <http://data.vlaanderen.be/ns/besluit#>\n",
    "    PREFIX mandaat: <http://data.vlaanderen.be/ns/mandaat#>\n",
    "    PREFIX org: <http://www.w3.org/ns/org#>\n",
    "    PREFIX lmb: <http://lblod.data.gift/vocabularies/lmb/>\n",
    "    PREFIX generiek: <https://data.vlaanderen.be/ns/generiek#>\n",
    "\n",
    "    select DISTINCT ($this as ?this) ?value\n",
    "    where {\n",
    "        $this a mandaat:Mandataris ;\n",
    "            org:holds ?mandaat ;\n",
    "            mandaat:status <http://data.vlaanderen.be/id/concept/MandatarisStatusCode/c301248f-0199-45ca-b3e5-4c596731d5fe> ;\n",
    "            mandaat:einde ?eindeVerhinderdeMandataris .\n",
    "\n",
    "        FILTER NOT EXISTS {\n",
    "            ?vervangendeMandataris a mandaat:Mandataris ;\n",
    "                org:holds ?mandaat ;\n",
    "                mandaat:start ?eindeVerhinderdeMandataris .\n",
    "        }\n",
    "       \n",
    "        BIND (\"Deze mandataris is verhinderd, maar heeft geen vervangende mandataris met startdatum gelijk aan de einddatum van deze verhinderde mandataris.\" as ?value)\n",
    "    }`;\n",
    "    \n",
    "const mandataris_1_shape: string = `\n",
    "@prefix sh: <http://www.w3.org/ns/shacl#> .\n",
    "\n",
    "<http://example.org/mandataris_1_blueprint>\n",
    "  a sh:NodeShape ;\n",
    "  sh:targetClass <http://data.vlaanderen.be/ns/mandaat#Mandataris> ;\n",
    "  sh:sparql [\n",
    "\t\tsh:select \"\"\"${mandataris_1_query}\"\"\" ;\n",
    "        sh:message 'Deze mandataris is verhinderd, maar heeft geen vervangende mandataris met startdatum gelijk aan de einddatum van deze verhinderde mandataris.'\n",
    "] .`;\n",
    "\n",
    "const mandataris_1_bindings: Bindings[] = await getBindingsFromTurtleContent(mandataris_1_shape);"
   ]
  },
  {
   "cell_type": "markdown",
   "metadata": {},
   "source": [
    "To test the shape, we retrieved a subject from the triple store that is applicable. In this case, we choose a mandataris URI.\n",
    "Then, the template query from above is applied on this subject.\n",
    "Next, a Comunica URL is generated to debug the results of this validation."
   ]
  },
  {
   "cell_type": "code",
   "execution_count": 36,
   "metadata": {},
   "outputs": [
    {
     "name": "stdout",
     "output_type": "stream",
     "text": [
      "https://query.linkeddatafragments.org/#datasources=http%3A%2F%2Flocalhost%3A8890%2Fsparql%2F%3Fdefault-graph-uri%3D%26query%3D%250A%2520%2520%2520%2520construct%2520%257B%250A%2520%2520%2520%2520%2520%2520%2520%2520%253Fs%2520%253Fp%2520%253Fo%2520.%250A%2520%2520%2520%2520%257D%250A%2520%2520%2520%2520where%2520%257B%250A%2520%2520%2520%2520%2520%2520%2520%2520graph%2520%253Chttp%253A%252F%252Fmu.semte.ch%252Fgraphs%252Forganizations%252F32ff6774dcd0547c842f7b065f7b1f9441fba0ea2b2586700a0426795787b2f5%252FLoketLB-mandaatGebruiker%253E%2520%257B%250A%2520%2520%2520%2520%2520%2520%2520%2520%2520%2520%2520%2520%253Fs%2520%253Fp%2520%253Fo%2520.%250A%2520%2520%2520%2520%2520%2520%2520%2520%257D%250A%2520%2520%2520%2520%257D%250A%2520%2520%2520%2520&query=%0A%20%20%20%20PREFIX%20besluit%3A%20%3Chttp%3A%2F%2Fdata.vlaanderen.be%2Fns%2Fbesluit%23%3E%0A%20%20%20%20PREFIX%20mandaat%3A%20%3Chttp%3A%2F%2Fdata.vlaanderen.be%2Fns%2Fmandaat%23%3E%0A%20%20%20%20PREFIX%20org%3A%20%3Chttp%3A%2F%2Fwww.w3.org%2Fns%2Forg%23%3E%0A%20%20%20%20PREFIX%20lmb%3A%20%3Chttp%3A%2F%2Flblod.data.gift%2Fvocabularies%2Flmb%2F%3E%0A%20%20%20%20PREFIX%20generiek%3A%20%3Chttps%3A%2F%2Fdata.vlaanderen.be%2Fns%2Fgeneriek%23%3E%0A%0A%20%20%20%20select%20DISTINCT%20(%3Chttp%3A%2F%2Fdata.lblod.info%2Fid%2Fmandatarissen%2F4a979b34-e796-4db4-b102-f2e5b9b65b4d%3E%20as%20%3Fthis)%20%3Fvalue%0A%20%20%20%20where%20%7B%0A%20%20%20%20%20%20%20%20%3Chttp%3A%2F%2Fdata.lblod.info%2Fid%2Fmandatarissen%2F4a979b34-e796-4db4-b102-f2e5b9b65b4d%3E%20a%20mandaat%3AMandataris%20%3B%0A%20%20%20%20%20%20%20%20%20%20%20%20org%3Aholds%20%3Fmandaat%20%3B%0A%20%20%20%20%20%20%20%20%20%20%20%20mandaat%3Astatus%20%3Chttp%3A%2F%2Fdata.vlaanderen.be%2Fid%2Fconcept%2FMandatarisStatusCode%2Fc301248f-0199-45ca-b3e5-4c596731d5fe%3E%20%3B%0A%20%20%20%20%20%20%20%20%20%20%20%20mandaat%3Aeinde%20%3FeindeVerhinderdeMandataris%20.%0A%0A%20%20%20%20%20%20%20%20FILTER%20NOT%20EXISTS%20%7B%0A%20%20%20%20%20%20%20%20%20%20%20%20%3FvervangendeMandataris%20a%20mandaat%3AMandataris%20%3B%0A%20%20%20%20%20%20%20%20%20%20%20%20%20%20%20%20org%3Aholds%20%3Fmandaat%20%3B%0A%20%20%20%20%20%20%20%20%20%20%20%20%20%20%20%20mandaat%3Astart%20%3FeindeVerhinderdeMandataris%20.%0A%20%20%20%20%20%20%20%20%7D%0A%20%20%20%20%20%20%20%0A%20%20%20%20%20%20%20%20BIND%20(%22Deze%20mandataris%20is%20verhinderd%2C%20maar%20heeft%20geen%20vervangende%20mandataris%20met%20startdatum%20gelijk%20aan%20de%20einddatum%20van%20deze%20verhinderde%20mandataris.%22%20as%20%3Fvalue)%0A%20%20%20%20%7D\n"
     ]
    }
   ],
   "source": [
    "// Test subject\n",
    "const subject = 'http://data.lblod.info/id/mandatarissen/610B8C31B7632D000800006C';\n",
    "const mandataris_1_subject_query = mandataris_1_query.replaceAll('$this', `<${subject}>`);\n",
    "\n",
    "const mandataris_1_comunica = `https://query.linkeddatafragments.org/#datasources=${encodeURIComponent(bestuurseenheidUrl)}&query=${encodeURIComponent(mandataris_1_subject_query)}`;\n",
    "console.log(mandataris_1_comunica);"
   ]
  },
  {
   "cell_type": "markdown",
   "metadata": {},
   "source": [
    "The full validation on all mandatarissen happens below:"
   ]
  },
  {
   "cell_type": "code",
   "execution_count": 39,
   "metadata": {},
   "outputs": [
    {
     "data": {
      "application/json": {
       "classes": [
        {
         "className": "Mandataris",
         "classURI": "http://data.vlaanderen.be/ns/mandaat#Mandataris",
         "count": 72,
         "objects": [
          {
           "class": "http://data.vlaanderen.be/ns/mandaat#Mandataris",
           "className": "Mandataris",
           "properties": [],
           "shapeName": "mandataris_1_blueprint",
           "sparqlValidationResults": [],
           "totalCount": 0,
           "uri": "http://data.lblod.info/id/mandatarissen/0634e11b6f62c0e094e82021c34ca0edff3f1f1338b1ed66191852d82123b63d",
           "usedShape": "http://example.org/mandataris_1_blueprint",
           "validCount": 0
          },
          {
           "class": "http://data.vlaanderen.be/ns/mandaat#Mandataris",
           "className": "Mandataris",
           "properties": [],
           "shapeName": "mandataris_1_blueprint",
           "sparqlValidationResults": [],
           "totalCount": 0,
           "uri": "http://data.lblod.info/id/mandatarissen/08b9c5981db703ba677faa45cae6312328d966cc22c49ae2369f4d991707adfd",
           "usedShape": "http://example.org/mandataris_1_blueprint",
           "validCount": 0
          },
          {
           "class": "http://data.vlaanderen.be/ns/mandaat#Mandataris",
           "className": "Mandataris",
           "properties": [],
           "shapeName": "mandataris_1_blueprint",
           "sparqlValidationResults": [],
           "totalCount": 0,
           "uri": "http://data.lblod.info/id/mandatarissen/114aa12d3b16db3855abf3425925bab5a7bdafd76603ee20972d151d8ce653bb",
           "usedShape": "http://example.org/mandataris_1_blueprint",
           "validCount": 0
          },
          {
           "class": "http://data.vlaanderen.be/ns/mandaat#Mandataris",
           "className": "Mandataris",
           "properties": [],
           "shapeName": "mandataris_1_blueprint",
           "sparqlValidationResults": [],
           "totalCount": 0,
           "uri": "http://data.lblod.info/id/mandatarissen/165dbb66-f079-4c32-9055-53b4ca5b5647",
           "usedShape": "http://example.org/mandataris_1_blueprint",
           "validCount": 0
          },
          {
           "class": "http://data.vlaanderen.be/ns/mandaat#Mandataris",
           "className": "Mandataris",
           "properties": [],
           "shapeName": "mandataris_1_blueprint",
           "sparqlValidationResults": [],
           "totalCount": 0,
           "uri": "http://data.lblod.info/id/mandatarissen/16a00e54ef6bc56619907895739754eee48b354682082056f59eb06cfc620733",
           "usedShape": "http://example.org/mandataris_1_blueprint",
           "validCount": 0
          },
          {
           "class": "http://data.vlaanderen.be/ns/mandaat#Mandataris",
           "className": "Mandataris",
           "properties": [],
           "shapeName": "mandataris_1_blueprint",
           "sparqlValidationResults": [],
           "totalCount": 0,
           "uri": "http://data.lblod.info/id/mandatarissen/16ae5cfc199a285e0dd33deffed30213371b4bb6479f9ac9fffa5de10439ef24",
           "usedShape": "http://example.org/mandataris_1_blueprint",
           "validCount": 0
          },
          {
           "class": "http://data.vlaanderen.be/ns/mandaat#Mandataris",
           "className": "Mandataris",
           "properties": [],
           "shapeName": "mandataris_1_blueprint",
           "sparqlValidationResults": [],
           "totalCount": 0,
           "uri": "http://data.lblod.info/id/mandatarissen/1b090d2e70bdd505a59fb7ace7e26f28753e07b23f9c111d5995e247f583c7a5",
           "usedShape": "http://example.org/mandataris_1_blueprint",
           "validCount": 0
          },
          {
           "class": "http://data.vlaanderen.be/ns/mandaat#Mandataris",
           "className": "Mandataris",
           "properties": [],
           "shapeName": "mandataris_1_blueprint",
           "sparqlValidationResults": [],
           "totalCount": 0,
           "uri": "http://data.lblod.info/id/mandatarissen/23d9b3bb0ceb81f2317599b6de340ef83e4d9c79850c18e4ff7ae51d496c094a",
           "usedShape": "http://example.org/mandataris_1_blueprint",
           "validCount": 0
          },
          {
           "class": "http://data.vlaanderen.be/ns/mandaat#Mandataris",
           "className": "Mandataris",
           "properties": [],
           "shapeName": "mandataris_1_blueprint",
           "sparqlValidationResults": [],
           "totalCount": 0,
           "uri": "http://data.lblod.info/id/mandatarissen/26a74806ae313121ed2915fadf0f0bd1d6398ce9b1191e3446fbc37ce97fb993",
           "usedShape": "http://example.org/mandataris_1_blueprint",
           "validCount": 0
          },
          {
           "class": "http://data.vlaanderen.be/ns/mandaat#Mandataris",
           "className": "Mandataris",
           "properties": [],
           "shapeName": "mandataris_1_blueprint",
           "sparqlValidationResults": [],
           "totalCount": 0,
           "uri": "http://data.lblod.info/id/mandatarissen/2ba75b768cc448f44234a053fd2733ea711b00e9782f9d69a84aa5d7d36a6393",
           "usedShape": "http://example.org/mandataris_1_blueprint",
           "validCount": 0
          },
          {
           "class": "http://data.vlaanderen.be/ns/mandaat#Mandataris",
           "className": "Mandataris",
           "properties": [],
           "shapeName": "mandataris_1_blueprint",
           "sparqlValidationResults": [],
           "totalCount": 0,
           "uri": "http://data.lblod.info/id/mandatarissen/2d61325c51587a8febaf0b7bfdb944006c1b17730ae6c5e078991cdbaec836d3",
           "usedShape": "http://example.org/mandataris_1_blueprint",
           "validCount": 0
          },
          {
           "class": "http://data.vlaanderen.be/ns/mandaat#Mandataris",
           "className": "Mandataris",
           "properties": [],
           "shapeName": "mandataris_1_blueprint",
           "sparqlValidationResults": [],
           "totalCount": 0,
           "uri": "http://data.lblod.info/id/mandatarissen/30c6312ac555ac8f8ca4d95125fe125b2f55cde828e00a92cfe4018dbf515ab9",
           "usedShape": "http://example.org/mandataris_1_blueprint",
           "validCount": 0
          },
          {
           "class": "http://data.vlaanderen.be/ns/mandaat#Mandataris",
           "className": "Mandataris",
           "properties": [],
           "shapeName": "mandataris_1_blueprint",
           "sparqlValidationResults": [],
           "totalCount": 0,
           "uri": "http://data.lblod.info/id/mandatarissen/3c41eb3067d290ea0a186a45898dfb7e688af88376b4eb347d5f415dc7d14339",
           "usedShape": "http://example.org/mandataris_1_blueprint",
           "validCount": 0
          },
          {
           "class": "http://data.vlaanderen.be/ns/mandaat#Mandataris",
           "className": "Mandataris",
           "properties": [],
           "shapeName": "mandataris_1_blueprint",
           "sparqlValidationResults": [],
           "totalCount": 0,
           "uri": "http://data.lblod.info/id/mandatarissen/4082460e-7665-4f2c-8a27-a4962d94a23d",
           "usedShape": "http://example.org/mandataris_1_blueprint",
           "validCount": 0
          },
          {
           "class": "http://data.vlaanderen.be/ns/mandaat#Mandataris",
           "className": "Mandataris",
           "properties": [],
           "shapeName": "mandataris_1_blueprint",
           "sparqlValidationResults": [],
           "totalCount": 0,
           "uri": "http://data.lblod.info/id/mandatarissen/43fa516da72f8a2a2fb711caad40a478356d37838dd7ffd28dfd1a64bfa7ae54",
           "usedShape": "http://example.org/mandataris_1_blueprint",
           "validCount": 0
          },
          {
           "class": "http://data.vlaanderen.be/ns/mandaat#Mandataris",
           "className": "Mandataris",
           "properties": [],
           "shapeName": "mandataris_1_blueprint",
           "sparqlValidationResults": [],
           "totalCount": 0,
           "uri": "http://data.lblod.info/id/mandatarissen/46318d9c072c427e82c3bfa18bd444c077a76271d9397d9639caafed0739f11d",
           "usedShape": "http://example.org/mandataris_1_blueprint",
           "validCount": 0
          },
          {
           "class": "http://data.vlaanderen.be/ns/mandaat#Mandataris",
           "className": "Mandataris",
           "properties": [],
           "shapeName": "mandataris_1_blueprint",
           "sparqlValidationResults": [],
           "totalCount": 0,
           "uri": "http://data.lblod.info/id/mandatarissen/4727a876c3ce73d66d3bf68bda2816c5ced2b4dce9756fbea67dbf6478c725a7",
           "usedShape": "http://example.org/mandataris_1_blueprint",
           "validCount": 0
          },
          {
           "class": "http://data.vlaanderen.be/ns/mandaat#Mandataris",
           "className": "Mandataris",
           "properties": [],
           "shapeName": "mandataris_1_blueprint",
           "sparqlValidationResults": [],
           "totalCount": 0,
           "uri": "http://data.lblod.info/id/mandatarissen/49435e518142b5d0498cef3773792de8274976eb51bb7f37417ec9ebec64365a",
           "usedShape": "http://example.org/mandataris_1_blueprint",
           "validCount": 0
          },
          {
           "class": "http://data.vlaanderen.be/ns/mandaat#Mandataris",
           "className": "Mandataris",
           "properties": [],
           "shapeName": "mandataris_1_blueprint",
           "sparqlValidationResults": [],
           "totalCount": 0,
           "uri": "http://data.lblod.info/id/mandatarissen/4efcc482d761fffe873806288e204bec412b9f07fcf8bd9fbdb7c9539f3aed37",
           "usedShape": "http://example.org/mandataris_1_blueprint",
           "validCount": 0
          },
          {
           "class": "http://data.vlaanderen.be/ns/mandaat#Mandataris",
           "className": "Mandataris",
           "properties": [],
           "shapeName": "mandataris_1_blueprint",
           "sparqlValidationResults": [],
           "totalCount": 0,
           "uri": "http://data.lblod.info/id/mandatarissen/4f2118b6796d1e40a7eb58a4b22cc58f20b761e2d4e46a4e33b1a0ef3122ac47",
           "usedShape": "http://example.org/mandataris_1_blueprint",
           "validCount": 0
          },
          {
           "class": "http://data.vlaanderen.be/ns/mandaat#Mandataris",
           "className": "Mandataris",
           "properties": [],
           "shapeName": "mandataris_1_blueprint",
           "sparqlValidationResults": [],
           "totalCount": 0,
           "uri": "http://data.lblod.info/id/mandatarissen/5CAF4D50D5BECA000A00029A",
           "usedShape": "http://example.org/mandataris_1_blueprint",
           "validCount": 0
          },
          {
           "class": "http://data.vlaanderen.be/ns/mandaat#Mandataris",
           "className": "Mandataris",
           "properties": [],
           "shapeName": "mandataris_1_blueprint",
           "sparqlValidationResults": [],
           "totalCount": 0,
           "uri": "http://data.lblod.info/id/mandatarissen/5D359383A3ACB60008000062",
           "usedShape": "http://example.org/mandataris_1_blueprint",
           "validCount": 0
          },
          {
           "class": "http://data.vlaanderen.be/ns/mandaat#Mandataris",
           "className": "Mandataris",
           "properties": [],
           "shapeName": "mandataris_1_blueprint",
           "sparqlValidationResults": [],
           "totalCount": 0,
           "uri": "http://data.lblod.info/id/mandatarissen/5E4BB5A8A3ACB600090001B5",
           "usedShape": "http://example.org/mandataris_1_blueprint",
           "validCount": 0
          },
          {
           "class": "http://data.vlaanderen.be/ns/mandaat#Mandataris",
           "className": "Mandataris",
           "properties": [],
           "shapeName": "mandataris_1_blueprint",
           "sparqlValidationResults": [],
           "totalCount": 0,
           "uri": "http://data.lblod.info/id/mandatarissen/5E97069CA3ACB60008000577",
           "usedShape": "http://example.org/mandataris_1_blueprint",
           "validCount": 0
          },
          {
           "class": "http://data.vlaanderen.be/ns/mandaat#Mandataris",
           "className": "Mandataris",
           "properties": [],
           "shapeName": "mandataris_1_blueprint",
           "sparqlValidationResults": [],
           "totalCount": 0,
           "uri": "http://data.lblod.info/id/mandatarissen/5F5A15466111420009000526",
           "usedShape": "http://example.org/mandataris_1_blueprint",
           "validCount": 0
          },
          {
           "class": "http://data.vlaanderen.be/ns/mandaat#Mandataris",
           "className": "Mandataris",
           "properties": [],
           "shapeName": "mandataris_1_blueprint",
           "sparqlValidationResults": [],
           "totalCount": 0,
           "uri": "http://data.lblod.info/id/mandatarissen/5F86EB3061114200080003F7",
           "usedShape": "http://example.org/mandataris_1_blueprint",
           "validCount": 0
          },
          {
           "class": "http://data.vlaanderen.be/ns/mandaat#Mandataris",
           "className": "Mandataris",
           "properties": [],
           "shapeName": "mandataris_1_blueprint",
           "sparqlValidationResults": [],
           "totalCount": 0,
           "uri": "http://data.lblod.info/id/mandatarissen/5ba37815e6b87a8cb049254c2a1ba42c48e011d419a35e06e92ced58014cfb2f",
           "usedShape": "http://example.org/mandataris_1_blueprint",
           "validCount": 0
          },
          {
           "class": "http://data.vlaanderen.be/ns/mandaat#Mandataris",
           "className": "Mandataris",
           "properties": [],
           "shapeName": "mandataris_1_blueprint",
           "sparqlValidationResults": [],
           "totalCount": 0,
           "uri": "http://data.lblod.info/id/mandatarissen/5cea7c433c9edcc90b7fab531eb30a069a366cddc9a417258c526d00cc0eab49",
           "usedShape": "http://example.org/mandataris_1_blueprint",
           "validCount": 0
          },
          {
           "class": "http://data.vlaanderen.be/ns/mandaat#Mandataris",
           "className": "Mandataris",
           "properties": [],
           "shapeName": "mandataris_1_blueprint",
           "sparqlValidationResults": [],
           "totalCount": 0,
           "uri": "http://data.lblod.info/id/mandatarissen/604f9c86396ef3ef71af9a578e43b442e626134022fe52136152241fd6142fee",
           "usedShape": "http://example.org/mandataris_1_blueprint",
           "validCount": 0
          },
          {
           "class": "http://data.vlaanderen.be/ns/mandaat#Mandataris",
           "className": "Mandataris",
           "properties": [],
           "shapeName": "mandataris_1_blueprint",
           "sparqlValidationResults": [],
           "totalCount": 0,
           "uri": "http://data.lblod.info/id/mandatarissen/60A4CEBCABD6E00008000297",
           "usedShape": "http://example.org/mandataris_1_blueprint",
           "validCount": 0
          },
          {
           "class": "http://data.vlaanderen.be/ns/mandaat#Mandataris",
           "className": "Mandataris",
           "properties": [],
           "shapeName": "mandataris_1_blueprint",
           "sparqlValidationResults": [],
           "totalCount": 0,
           "uri": "http://data.lblod.info/id/mandatarissen/60A4CF11ABD6E0000800029A",
           "usedShape": "http://example.org/mandataris_1_blueprint",
           "validCount": 0
          },
          {
           "class": "http://data.vlaanderen.be/ns/mandaat#Mandataris",
           "className": "Mandataris",
           "properties": [],
           "shapeName": "mandataris_1_blueprint",
           "sparqlValidationResults": [
            {
             "focusNode": "http://data.lblod.info/id/mandatarissen/610B8C31B7632D000800006C",
             "resultMessage": "Deze mandataris is verhinderd, maar heeft geen vervangende mandataris met startdatum gelijk aan de einddatum van deze verhinderde mandataris.",
             "value": "Deze mandataris is verhinderd, maar heeft geen vervangende mandataris met startdatum gelijk aan de einddatum van deze verhinderde mandataris."
            }
           ],
           "totalCount": 0,
           "uri": "http://data.lblod.info/id/mandatarissen/610B8C31B7632D000800006C",
           "usedShape": "http://example.org/mandataris_1_blueprint",
           "validCount": 0
          },
          {
           "class": "http://data.vlaanderen.be/ns/mandaat#Mandataris",
           "className": "Mandataris",
           "properties": [],
           "shapeName": "mandataris_1_blueprint",
           "sparqlValidationResults": [],
           "totalCount": 0,
           "uri": "http://data.lblod.info/id/mandatarissen/610B8D3EB7632D000800006D",
           "usedShape": "http://example.org/mandataris_1_blueprint",
           "validCount": 0
          },
          {
           "class": "http://data.vlaanderen.be/ns/mandaat#Mandataris",
           "className": "Mandataris",
           "properties": [],
           "shapeName": "mandataris_1_blueprint",
           "sparqlValidationResults": [],
           "totalCount": 0,
           "uri": "http://data.lblod.info/id/mandatarissen/61C04EBDE446530008000305",
           "usedShape": "http://example.org/mandataris_1_blueprint",
           "validCount": 0
          },
          {
           "class": "http://data.vlaanderen.be/ns/mandaat#Mandataris",
           "className": "Mandataris",
           "properties": [],
           "shapeName": "mandataris_1_blueprint",
           "sparqlValidationResults": [],
           "totalCount": 0,
           "uri": "http://data.lblod.info/id/mandatarissen/61FA95425DA26800080000E7",
           "usedShape": "http://example.org/mandataris_1_blueprint",
           "validCount": 0
          },
          {
           "class": "http://data.vlaanderen.be/ns/mandaat#Mandataris",
           "className": "Mandataris",
           "properties": [],
           "shapeName": "mandataris_1_blueprint",
           "sparqlValidationResults": [],
           "totalCount": 0,
           "uri": "http://data.lblod.info/id/mandatarissen/621655755DA26800080001B6",
           "usedShape": "http://example.org/mandataris_1_blueprint",
           "validCount": 0
          },
          {
           "class": "http://data.vlaanderen.be/ns/mandaat#Mandataris",
           "className": "Mandataris",
           "properties": [],
           "shapeName": "mandataris_1_blueprint",
           "sparqlValidationResults": [
            {
             "focusNode": "http://data.lblod.info/id/mandatarissen/621655B45DA26800080001B7",
             "resultMessage": "Deze mandataris is verhinderd, maar heeft geen vervangende mandataris met startdatum gelijk aan de einddatum van deze verhinderde mandataris.",
             "value": "Deze mandataris is verhinderd, maar heeft geen vervangende mandataris met startdatum gelijk aan de einddatum van deze verhinderde mandataris."
            }
           ],
           "totalCount": 0,
           "uri": "http://data.lblod.info/id/mandatarissen/621655B45DA26800080001B7",
           "usedShape": "http://example.org/mandataris_1_blueprint",
           "validCount": 0
          },
          {
           "class": "http://data.vlaanderen.be/ns/mandaat#Mandataris",
           "className": "Mandataris",
           "properties": [],
           "shapeName": "mandataris_1_blueprint",
           "sparqlValidationResults": [],
           "totalCount": 0,
           "uri": "http://data.lblod.info/id/mandatarissen/6260de19adc4ff1ee2ae5f4bcf97facae15c5c6ef378498338ca4a875bec2907",
           "usedShape": "http://example.org/mandataris_1_blueprint",
           "validCount": 0
          },
          {
           "class": "http://data.vlaanderen.be/ns/mandaat#Mandataris",
           "className": "Mandataris",
           "properties": [],
           "shapeName": "mandataris_1_blueprint",
           "sparqlValidationResults": [],
           "totalCount": 0,
           "uri": "http://data.lblod.info/id/mandatarissen/62AC561E470F7A000800001A",
           "usedShape": "http://example.org/mandataris_1_blueprint",
           "validCount": 0
          },
          {
           "class": "http://data.vlaanderen.be/ns/mandaat#Mandataris",
           "className": "Mandataris",
           "properties": [],
           "shapeName": "mandataris_1_blueprint",
           "sparqlValidationResults": [],
           "totalCount": 0,
           "uri": "http://data.lblod.info/id/mandatarissen/62bcbb5db5231c4682b8e5b7dfedfd533a0c27aa3e225d039dd547f09864d910",
           "usedShape": "http://example.org/mandataris_1_blueprint",
           "validCount": 0
          },
          {
           "class": "http://data.vlaanderen.be/ns/mandaat#Mandataris",
           "className": "Mandataris",
           "properties": [],
           "shapeName": "mandataris_1_blueprint",
           "sparqlValidationResults": [],
           "totalCount": 0,
           "uri": "http://data.lblod.info/id/mandatarissen/63517d190d8ae086c943f34ec6764bdad116d4ebdec43fde6460a43a7b541551",
           "usedShape": "http://example.org/mandataris_1_blueprint",
           "validCount": 0
          },
          {
           "class": "http://data.vlaanderen.be/ns/mandaat#Mandataris",
           "className": "Mandataris",
           "properties": [],
           "shapeName": "mandataris_1_blueprint",
           "sparqlValidationResults": [],
           "totalCount": 0,
           "uri": "http://data.lblod.info/id/mandatarissen/671e0f2858cd3606d7bc06804a54248daebb944c5aa61d0ec4a2be3750d9e051",
           "usedShape": "http://example.org/mandataris_1_blueprint",
           "validCount": 0
          },
          {
           "class": "http://data.vlaanderen.be/ns/mandaat#Mandataris",
           "className": "Mandataris",
           "properties": [],
           "shapeName": "mandataris_1_blueprint",
           "sparqlValidationResults": [],
           "totalCount": 0,
           "uri": "http://data.lblod.info/id/mandatarissen/6a5504b24af3be714d3f5a9a1290eced9a8b811b2f15a30e67a906a17937af0b",
           "usedShape": "http://example.org/mandataris_1_blueprint",
           "validCount": 0
          },
          {
           "class": "http://data.vlaanderen.be/ns/mandaat#Mandataris",
           "className": "Mandataris",
           "properties": [],
           "shapeName": "mandataris_1_blueprint",
           "sparqlValidationResults": [],
           "totalCount": 0,
           "uri": "http://data.lblod.info/id/mandatarissen/6f4e2bb9ccf665842b0bc65119c30f582d14fb5ebee68a904b5b4e868448000d",
           "usedShape": "http://example.org/mandataris_1_blueprint",
           "validCount": 0
          },
          {
           "class": "http://data.vlaanderen.be/ns/mandaat#Mandataris",
           "className": "Mandataris",
           "properties": [],
           "shapeName": "mandataris_1_blueprint",
           "sparqlValidationResults": [],
           "totalCount": 0,
           "uri": "http://data.lblod.info/id/mandatarissen/71a4d6e31fcb0fef45aadab1e102475f0d573db1edf923e99aead071e9fb047d",
           "usedShape": "http://example.org/mandataris_1_blueprint",
           "validCount": 0
          },
          {
           "class": "http://data.vlaanderen.be/ns/mandaat#Mandataris",
           "className": "Mandataris",
           "properties": [],
           "shapeName": "mandataris_1_blueprint",
           "sparqlValidationResults": [],
           "totalCount": 0,
           "uri": "http://data.lblod.info/id/mandatarissen/7eb52d8a199d24e49e567acab059581716ef3ae1803a6997c13b9ac2f9fb6c55",
           "usedShape": "http://example.org/mandataris_1_blueprint",
           "validCount": 0
          },
          {
           "class": "http://data.vlaanderen.be/ns/mandaat#Mandataris",
           "className": "Mandataris",
           "properties": [],
           "shapeName": "mandataris_1_blueprint",
           "sparqlValidationResults": [],
           "totalCount": 0,
           "uri": "http://data.lblod.info/id/mandatarissen/7f10934f74bc9a5d95dde4bc02a2caa632bf21524b87162a077b3a477e67c6fc",
           "usedShape": "http://example.org/mandataris_1_blueprint",
           "validCount": 0
          },
          {
           "class": "http://data.vlaanderen.be/ns/mandaat#Mandataris",
           "className": "Mandataris",
           "properties": [],
           "shapeName": "mandataris_1_blueprint",
           "sparqlValidationResults": [],
           "totalCount": 0,
           "uri": "http://data.lblod.info/id/mandatarissen/8414c2f6e50bea311f285fb4bf19028cf7d81489431f86d36035ae1b7b07d0a5",
           "usedShape": "http://example.org/mandataris_1_blueprint",
           "validCount": 0
          },
          {
           "class": "http://data.vlaanderen.be/ns/mandaat#Mandataris",
           "className": "Mandataris",
           "properties": [],
           "shapeName": "mandataris_1_blueprint",
           "sparqlValidationResults": [],
           "totalCount": 0,
           "uri": "http://data.lblod.info/id/mandatarissen/84242e09590af5fb0ffc87b8d34141b8595b4735769483b1b0a278897b24a43f",
           "usedShape": "http://example.org/mandataris_1_blueprint",
           "validCount": 0
          },
          {
           "class": "http://data.vlaanderen.be/ns/mandaat#Mandataris",
           "className": "Mandataris",
           "properties": [],
           "shapeName": "mandataris_1_blueprint",
           "sparqlValidationResults": [],
           "totalCount": 0,
           "uri": "http://data.lblod.info/id/mandatarissen/86149f248dde584cbb2ff1d7f7f3456918533222179c72a530565781fe196374",
           "usedShape": "http://example.org/mandataris_1_blueprint",
           "validCount": 0
          },
          {
           "class": "http://data.vlaanderen.be/ns/mandaat#Mandataris",
           "className": "Mandataris",
           "properties": [],
           "shapeName": "mandataris_1_blueprint",
           "sparqlValidationResults": [],
           "totalCount": 0,
           "uri": "http://data.lblod.info/id/mandatarissen/881b3c2d-6a24-4477-85d3-9af4ea10ab36",
           "usedShape": "http://example.org/mandataris_1_blueprint",
           "validCount": 0
          },
          {
           "class": "http://data.vlaanderen.be/ns/mandaat#Mandataris",
           "className": "Mandataris",
           "properties": [],
           "shapeName": "mandataris_1_blueprint",
           "sparqlValidationResults": [],
           "totalCount": 0,
           "uri": "http://data.lblod.info/id/mandatarissen/88958cac01e9c86fc534515896393e42b71d167facb3f2c36f0de0525abed792",
           "usedShape": "http://example.org/mandataris_1_blueprint",
           "validCount": 0
          },
          {
           "class": "http://data.vlaanderen.be/ns/mandaat#Mandataris",
           "className": "Mandataris",
           "properties": [],
           "shapeName": "mandataris_1_blueprint",
           "sparqlValidationResults": [],
           "totalCount": 0,
           "uri": "http://data.lblod.info/id/mandatarissen/8cbc61f9-02d6-4180-b0cd-92e6b115b88b",
           "usedShape": "http://example.org/mandataris_1_blueprint",
           "validCount": 0
          },
          {
           "class": "http://data.vlaanderen.be/ns/mandaat#Mandataris",
           "className": "Mandataris",
           "properties": [],
           "shapeName": "mandataris_1_blueprint",
           "sparqlValidationResults": [],
           "totalCount": 0,
           "uri": "http://data.lblod.info/id/mandatarissen/9011cc8af707f5b54da7c274e02f238f1c3119122fd4c8ac3512e54333e69649",
           "usedShape": "http://example.org/mandataris_1_blueprint",
           "validCount": 0
          },
          {
           "class": "http://data.vlaanderen.be/ns/mandaat#Mandataris",
           "className": "Mandataris",
           "properties": [],
           "shapeName": "mandataris_1_blueprint",
           "sparqlValidationResults": [],
           "totalCount": 0,
           "uri": "http://data.lblod.info/id/mandatarissen/9b0aca0202d07b96913367abd103b0226b5fca3d588a9fe78c6c83052f0145df",
           "usedShape": "http://example.org/mandataris_1_blueprint",
           "validCount": 0
          },
          {
           "class": "http://data.vlaanderen.be/ns/mandaat#Mandataris",
           "className": "Mandataris",
           "properties": [],
           "shapeName": "mandataris_1_blueprint",
           "sparqlValidationResults": [],
           "totalCount": 0,
           "uri": "http://data.lblod.info/id/mandatarissen/ab12ba8209fa6d66eb4c29cc2ed4cc2423529029387480bd16a534c5bee4c85a",
           "usedShape": "http://example.org/mandataris_1_blueprint",
           "validCount": 0
          },
          {
           "class": "http://data.vlaanderen.be/ns/mandaat#Mandataris",
           "className": "Mandataris",
           "properties": [],
           "shapeName": "mandataris_1_blueprint",
           "sparqlValidationResults": [],
           "totalCount": 0,
           "uri": "http://data.lblod.info/id/mandatarissen/af16059e929a7079988f664a2eceb53aad841f0fb5ffb5b71162c0695e67b824",
           "usedShape": "http://example.org/mandataris_1_blueprint",
           "validCount": 0
          },
          {
           "class": "http://data.vlaanderen.be/ns/mandaat#Mandataris",
           "className": "Mandataris",
           "properties": [],
           "shapeName": "mandataris_1_blueprint",
           "sparqlValidationResults": [],
           "totalCount": 0,
           "uri": "http://data.lblod.info/id/mandatarissen/b7269150b2734f41584670bf20ee88f5641f35df06c4bc8118a0326b9793cdce",
           "usedShape": "http://example.org/mandataris_1_blueprint",
           "validCount": 0
          },
          {
           "class": "http://data.vlaanderen.be/ns/mandaat#Mandataris",
           "className": "Mandataris",
           "properties": [],
           "shapeName": "mandataris_1_blueprint",
           "sparqlValidationResults": [],
           "totalCount": 0,
           "uri": "http://data.lblod.info/id/mandatarissen/be5c2f0f1771e0b61e6129c1c16ea1dedf92911f8a01931eac7e5f9e4158fb56",
           "usedShape": "http://example.org/mandataris_1_blueprint",
           "validCount": 0
          },
          {
           "class": "http://data.vlaanderen.be/ns/mandaat#Mandataris",
           "className": "Mandataris",
           "properties": [],
           "shapeName": "mandataris_1_blueprint",
           "sparqlValidationResults": [],
           "totalCount": 0,
           "uri": "http://data.lblod.info/id/mandatarissen/d12df420e9adf798a2ffdb0d4ec8215db40158906a3de92033cc9c0bfd2016b2",
           "usedShape": "http://example.org/mandataris_1_blueprint",
           "validCount": 0
          },
          {
           "class": "http://data.vlaanderen.be/ns/mandaat#Mandataris",
           "className": "Mandataris",
           "properties": [],
           "shapeName": "mandataris_1_blueprint",
           "sparqlValidationResults": [],
           "totalCount": 0,
           "uri": "http://data.lblod.info/id/mandatarissen/d2fdc65a95017827e4d9841b84cf7b2807b62ad161bfbe82b20a737c5e0b03a3",
           "usedShape": "http://example.org/mandataris_1_blueprint",
           "validCount": 0
          },
          {
           "class": "http://data.vlaanderen.be/ns/mandaat#Mandataris",
           "className": "Mandataris",
           "properties": [],
           "shapeName": "mandataris_1_blueprint",
           "sparqlValidationResults": [],
           "totalCount": 0,
           "uri": "http://data.lblod.info/id/mandatarissen/d83d9ffe9a46f9fd35d9e367ff350b18b6364bc9ada799d664a85a4b5e9be6ee",
           "usedShape": "http://example.org/mandataris_1_blueprint",
           "validCount": 0
          },
          {
           "class": "http://data.vlaanderen.be/ns/mandaat#Mandataris",
           "className": "Mandataris",
           "properties": [],
           "shapeName": "mandataris_1_blueprint",
           "sparqlValidationResults": [],
           "totalCount": 0,
           "uri": "http://data.lblod.info/id/mandatarissen/e604cd55867018a39c0bebf947c3c3d694d68fad53c8ca179a02d4cb2061c770",
           "usedShape": "http://example.org/mandataris_1_blueprint",
           "validCount": 0
          },
          {
           "class": "http://data.vlaanderen.be/ns/mandaat#Mandataris",
           "className": "Mandataris",
           "properties": [],
           "shapeName": "mandataris_1_blueprint",
           "sparqlValidationResults": [],
           "totalCount": 0,
           "uri": "http://data.lblod.info/id/mandatarissen/e7ee79f682229381265ce9f93cb438c7ccf65122b5775a5f1a0877396ccb85ad",
           "usedShape": "http://example.org/mandataris_1_blueprint",
           "validCount": 0
          },
          {
           "class": "http://data.vlaanderen.be/ns/mandaat#Mandataris",
           "className": "Mandataris",
           "properties": [],
           "shapeName": "mandataris_1_blueprint",
           "sparqlValidationResults": [],
           "totalCount": 0,
           "uri": "http://data.lblod.info/id/mandatarissen/e8b4eedcb108fe023461c882d4f3a6c3cb96bc757f309b47d76a0b86742536de",
           "usedShape": "http://example.org/mandataris_1_blueprint",
           "validCount": 0
          },
          {
           "class": "http://data.vlaanderen.be/ns/mandaat#Mandataris",
           "className": "Mandataris",
           "properties": [],
           "shapeName": "mandataris_1_blueprint",
           "sparqlValidationResults": [],
           "totalCount": 0,
           "uri": "http://data.lblod.info/id/mandatarissen/f2554625-b3a1-4237-9a17-0810fc7a771d",
           "usedShape": "http://example.org/mandataris_1_blueprint",
           "validCount": 0
          },
          {
           "class": "http://data.vlaanderen.be/ns/mandaat#Mandataris",
           "className": "Mandataris",
           "properties": [],
           "shapeName": "mandataris_1_blueprint",
           "sparqlValidationResults": [],
           "totalCount": 0,
           "uri": "http://data.lblod.info/id/mandatarissen/f432aacdd5a4b06a48e14fe1093c372b9c7c7f42bb1b5005bdf983baf557c2f8",
           "usedShape": "http://example.org/mandataris_1_blueprint",
           "validCount": 0
          },
          {
           "class": "http://data.vlaanderen.be/ns/mandaat#Mandataris",
           "className": "Mandataris",
           "properties": [],
           "shapeName": "mandataris_1_blueprint",
           "sparqlValidationResults": [],
           "totalCount": 0,
           "uri": "http://data.lblod.info/id/mandatarissen/ff59704f-fccf-41fa-8998-517417b3c7a1",
           "usedShape": "http://example.org/mandataris_1_blueprint",
           "validCount": 0
          },
          {
           "class": "http://data.vlaanderen.be/ns/mandaat#Mandataris",
           "className": "Mandataris",
           "properties": [],
           "shapeName": "mandataris_1_blueprint",
           "sparqlValidationResults": [],
           "totalCount": 0,
           "uri": "http://data.lblod.info/id/mandatarissen/ffbfb657739871363fa692c25df9d17490b97fe452d116d4e157500ba1f1d9d2",
           "usedShape": "http://example.org/mandataris_1_blueprint",
           "validCount": 0
          },
          {
           "class": "http://data.vlaanderen.be/ns/mandaat#Mandataris",
           "className": "Mandataris",
           "properties": [],
           "shapeName": "mandataris_1_blueprint",
           "sparqlValidationResults": [],
           "totalCount": 0,
           "uri": "http://data.lblod.info/id/mandatarissen/4cffb863867feddc20ac43a76581465f671527b3526542c35bde126cdd6f84d4",
           "usedShape": "http://example.org/mandataris_1_blueprint",
           "validCount": 0
          },
          {
           "class": "http://data.vlaanderen.be/ns/mandaat#Mandataris",
           "className": "Mandataris",
           "properties": [],
           "shapeName": "mandataris_1_blueprint",
           "sparqlValidationResults": [],
           "totalCount": 0,
           "uri": "http://data.lblod.info/id/mandatarissen/5C45619857753A0009000007",
           "usedShape": "http://example.org/mandataris_1_blueprint",
           "validCount": 0
          },
          {
           "class": "http://data.vlaanderen.be/ns/mandaat#Mandataris",
           "className": "Mandataris",
           "properties": [],
           "shapeName": "mandataris_1_blueprint",
           "sparqlValidationResults": [],
           "totalCount": 0,
           "uri": "http://data.lblod.info/id/mandatarissen/5D08BDA8A3ACB6000800058E",
           "usedShape": "http://example.org/mandataris_1_blueprint",
           "validCount": 0
          }
         ]
        }
       ],
       "maturity": "Niveau 3"
      }
     },
     "metadata": {},
     "output_type": "display_data"
    }
   ],
   "source": [
    "const mandataris_1_validationReport = await validateDocument(bestuurseenheidBindings, mandataris_1_bindings);\n",
    "await display({ \"application/json\": mandataris_1_validationReport},{ raw: true });"
   ]
  }
 ],
 "metadata": {
  "kernelspec": {
   "display_name": "Deno",
   "language": "typescript",
   "name": "deno"
  },
  "language_info": {
   "codemirror_mode": "typescript",
   "file_extension": ".ts",
   "mimetype": "text/x.typescript",
   "name": "typescript",
   "nbconvert_exporter": "script",
   "pygments_lexer": "typescript",
   "version": "5.6.2"
  }
 },
 "nbformat": 4,
 "nbformat_minor": 4
}
