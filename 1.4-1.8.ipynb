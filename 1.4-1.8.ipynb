{
 "cells": [
  {
   "cell_type": "markdown",
   "metadata": {},
   "source": [
    "# 1.4 tem 1.8 een mandataris heeft steeds een publicatiestatus / status / startdatum / persoon / mandaat"
   ]
  },
  {
   "cell_type": "markdown",
   "metadata": {},
   "source": [
    "We load Javascript libraries to i) retrieve data (bindings) from a bestuurseenheid, ii) validate the document, and iii) display the JSON result."
   ]
  },
  {
   "cell_type": "code",
   "execution_count": 1,
   "metadata": {},
   "outputs": [],
   "source": [
    "import { getBestuurseenheidUrl } from \"./utils.ts\";\n",
    "import {  getBindingsFromTurtleContent, validateDocument, fetchDocument } from 'npm:@lblod/lib-decision-validation';\n",
    "import { display } from \"https://deno.land/x/display/mod.ts\";\n",
    "\n",
    "const bestuurseenheidUuid = 'd168033a9bac278fa744c425e078eeabd304397f953feaaf5327b4e039aecacb';\n",
    "const bestuurseenheidUrl = getBestuurseenheidUrl(bestuurseenheidUuid);\n",
    "const bestuurseenheidBindings = await fetchDocument(bestuurseenheidUrl);"
   ]
  },
  {
   "cell_type": "markdown",
   "metadata": {},
   "source": [
    "Below, we can find the SPARQL template query and SHACL shape for the 1.3 use case.\n",
    "The Turtle string is converted into bindings."
   ]
  },
  {
   "cell_type": "code",
   "execution_count": 2,
   "metadata": {},
   "outputs": [],
   "source": [
    "const mandataris_1_4_tem_8_shape: string = `\n",
    "@prefix sh: <http://www.w3.org/ns/shacl#> .\n",
    "\n",
    "<http://example.org/mandataris_1_4_tem_8_blueprint>\n",
    "  a sh:NodeShape ;\n",
    "  sh:targetClass <http://data.vlaanderen.be/ns/mandaat#Mandataris> ;\n",
    "  sh:property [\n",
    "\t\tsh:name \"isBestuurlijkeAliasVan\" ;\n",
    "\t\tsh:description \"De persoon die de mandatarisrol vervult.\" ;\n",
    "\t\tsh:path <http://data.vlaanderen.be/ns/mandaat#isBestuurlijkeAliasVan> ;\n",
    "\t\tsh:class <http://www.w3.org/ns/person#Person> ;\n",
    "\t\tsh:minCount 1 ;\n",
    "\t\tsh:maxCount 1 ;\n",
    "\t] ;\n",
    "\tsh:property [\n",
    "\t\tsh:name \"bekleedt\" ;\n",
    "\t\tsh:description \"Het mandaat dat deze mandataris bekleedt.\" ;\n",
    "\t\tsh:path <http://www.w3.org/ns/org#holds> ;\n",
    "\t\tsh:class <http://data.vlaanderen.be/ns/mandaat#Mandaat> ;\n",
    "\t\tsh:minCount 1 ;\n",
    "\t\tsh:maxCount 1 ;\n",
    "\t] ;\n",
    "\tsh:property [\n",
    "\t\tsh:name \"start\" ;\n",
    "\t\tsh:description \"Tijdstip vanaf wanneer de mandataris het mandaat opneemt.\" ;\n",
    "\t\tsh:path <http://data.vlaanderen.be/ns/mandaat#start> ;\n",
    "\t\tsh:datatype <http://www.w3.org/2001/XMLSchema#dateTime> ;\n",
    "\t\tsh:minCount 1 ;\n",
    "\t\tsh:maxCount 1 ;\n",
    "\t] ;\n",
    "\tsh:property [\n",
    "\t\tsh:name \"status\" ;\n",
    "\t\tsh:description \"De gesteldheid van de mandataris.\" ;\n",
    "\t\tsh:path <http://data.vlaanderen.be/ns/mandaat#status> ;\n",
    "\t\tsh:class <http://www.w3.org/2004/02/skos/core#Concept> ;\n",
    "\t\tsh:minCount 1 ;\n",
    "\t\tsh:maxCount 1 ;\n",
    "\t] ;\n",
    "\tsh:property [\n",
    "\t\tsh:name \"publicatiestatus\" ;\n",
    "\t\tsh:description \"De publicatiestatus van de mandataris.\" ;\n",
    "\t\tsh:path <http://lblod.data.gift/vocabularies/lmb/hasPublicationStatus> ;\n",
    "\t\tsh:class <http://www.w3.org/2004/02/skos/core#Concept> ;\n",
    "\t\tsh:minCount 1 ;\n",
    "\t\tsh:maxCount 1 ;\n",
    "\t]\n",
    "   .`;\n",
    "\n",
    "const mandataris_1_4_tem_8_bindings: Bindings[] = await getBindingsFromTurtleContent(mandataris_1_4_tem_8_shape);"
   ]
  },
  {
   "cell_type": "markdown",
   "metadata": {},
   "source": [
    "The full validation on all mandatarissen happens below:"
   ]
  },
  {
   "cell_type": "code",
   "execution_count": 3,
   "metadata": {},
   "outputs": [
    {
     "ename": "",
     "evalue": "",
     "output_type": "error",
     "traceback": [
      "\u001b[1;31mThe Kernel crashed while executing code in the current cell or a previous cell. \n",
      "\u001b[1;31mPlease review the code in the cell(s) to identify a possible cause of the failure. \n",
      "\u001b[1;31mClick <a href='https://aka.ms/vscodeJupyterKernelCrash'>here</a> for more info. \n",
      "\u001b[1;31mView Jupyter <a href='command:jupyter.viewOutput'>log</a> for further details."
     ]
    }
   ],
   "source": [
    "const mandataris_1_4_tem_8_validationReport = await validateDocument(bestuurseenheidBindings, mandataris_1_4_tem_8_bindings);\n",
    "await display({ \"application/json\": mandataris_1_4_tem_8_validationReport},{ raw: true });"
   ]
  }
 ],
 "metadata": {
  "kernelspec": {
   "display_name": "Deno",
   "language": "typescript",
   "name": "deno"
  },
  "language_info": {
   "codemirror_mode": "typescript",
   "file_extension": ".ts",
   "mimetype": "text/x.typescript",
   "name": "typescript",
   "nbconvert_exporter": "script",
   "pygments_lexer": "typescript",
   "version": "5.6.2"
  }
 },
 "nbformat": 4,
 "nbformat_minor": 4
}
