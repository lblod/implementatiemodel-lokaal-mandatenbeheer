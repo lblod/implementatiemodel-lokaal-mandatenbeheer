{
 "cells": [
  {
   "cell_type": "markdown",
   "metadata": {},
   "source": [
    "# 2.2 een mandaat heeft steeds een naam"
   ]
  },
  {
   "cell_type": "markdown",
   "metadata": {},
   "source": [
    "We load Javascript libraries to i) retrieve data (bindings) from a bestuurseenheid, ii) validate the document, and iii) display the JSON result."
   ]
  },
  {
   "cell_type": "code",
   "execution_count": 1,
   "metadata": {},
   "outputs": [],
   "source": [
    "import { getBestuurseenheidUrl } from \"./utils.ts\";\n",
    "import {  getBindingsFromTurtleContent, validateDocument, fetchDocument } from 'npm:@lblod/lib-decision-validation';\n",
    "import { display } from \"https://deno.land/x/display/mod.ts\";\n",
    "\n",
    "const bestuurseenheidUuid = 'd168033a9bac278fa744c425e078eeabd304397f953feaaf5327b4e039aecacb';\n",
    "const bestuurseenheidUrl = getBestuurseenheidUrl(bestuurseenheidUuid);\n",
    "const bestuurseenheidBindings = await fetchDocument(bestuurseenheidUrl);"
   ]
  },
  {
   "cell_type": "markdown",
   "metadata": {},
   "source": [
    "Below, we can find the SPARQL template query and SHACL shape for the use case.\n",
    "The Turtle string is converted into bindings."
   ]
  },
  {
   "cell_type": "code",
   "execution_count": 2,
   "metadata": {},
   "outputs": [],
   "source": [
    "const mandataris_2_query: string = `\n",
    "    PREFIX besluit: <http://data.vlaanderen.be/ns/besluit#>\n",
    "    PREFIX mandaat: <http://data.vlaanderen.be/ns/mandaat#>\n",
    "    PREFIX org: <http://www.w3.org/ns/org#>\n",
    "    PREFIX lmb: <http://lblod.data.gift/vocabularies/lmb/>\n",
    "    PREFIX generiek: <https://data.vlaanderen.be/ns/generiek#>\n",
    "    PREFIX skos: <http://www.w3.org/2004/02/skos/core#>\n",
    "    \n",
    "    select DISTINCT ($this as ?this) ?value\n",
    "    where {\n",
    "        $this a mandaat:Mandaat .\n",
    "\n",
    "        FILTER NOT EXISTS {\n",
    "            $this org:role/skos:prefLabel ?naam .\n",
    "        }\n",
    "        \n",
    "        BIND (\"Dit mandaat heeft geen classificatie OF heeft classificatie zonder naam.\" as ?value)\n",
    "    }`;\n",
    "    \n",
    "const mandataris_2_shape: string = `\n",
    "@prefix sh: <http://www.w3.org/ns/shacl#> .\n",
    "\n",
    "<http://example.org/mandataris_1_blueprint>\n",
    "  a sh:NodeShape ;\n",
    "  sh:targetClass <http://data.vlaanderen.be/ns/mandaat#Mandaat> ;\n",
    "  sh:sparql [\n",
    "\t\tsh:select \"\"\"${mandataris_2_query}\"\"\" ;\n",
    "        sh:message 'Dit mandaat heeft geen classificatie OF heeft classificatie zonder naam.'\n",
    "] .`;\n",
    "\n",
    "const mandataris_2_bindings: Bindings[] = await getBindingsFromTurtleContent(mandataris_2_shape);"
   ]
  },
  {
   "cell_type": "markdown",
   "metadata": {},
   "source": [
    "To test the shape, we retrieved a subject from the triple store that is applicable. In this case, we choose a mandataris URI.\n",
    "Then, the template query from above is applied on this subject.\n",
    "Next, a Comunica URL is generated to debug the results of this validation."
   ]
  },
  {
   "cell_type": "code",
   "execution_count": 3,
   "metadata": {},
   "outputs": [
    {
     "name": "stdout",
     "output_type": "stream",
     "text": [
      "https://query.linkeddatafragments.org/#datasources=http%3A%2F%2Flocalhost%3A8890%2Fsparql%2F%3Fdefault-graph-uri%3D%26query%3D%250A%2520%2520%2520%2520construct%2520%257B%250A%2520%2520%2520%2520%2520%2520%2520%2520%253Fs%2520%253Fp%2520%253Fo%2520.%250A%2520%2520%2520%2520%257D%250A%2520%2520%2520%2520where%2520%257B%250A%2520%2520%2520%2520%2520%2520%2520%2520graph%2520%253Chttp%253A%252F%252Fmu.semte.ch%252Fgraphs%252Forganizations%252Fd168033a9bac278fa744c425e078eeabd304397f953feaaf5327b4e039aecacb%252FLoketLB-mandaatGebruiker%253E%2520%257B%250A%2520%2520%2520%2520%2520%2520%2520%2520%2520%2520%2520%2520%253Fs%2520%253Fp%2520%253Fo%2520.%250A%2520%2520%2520%2520%2520%2520%2520%2520%257D%250A%2520%2520%2520%2520%257D%250A%2520%2520%2520%2520&query=%0A%20%20%20%20PREFIX%20besluit%3A%20%3Chttp%3A%2F%2Fdata.vlaanderen.be%2Fns%2Fbesluit%23%3E%0A%20%20%20%20PREFIX%20mandaat%3A%20%3Chttp%3A%2F%2Fdata.vlaanderen.be%2Fns%2Fmandaat%23%3E%0A%20%20%20%20PREFIX%20org%3A%20%3Chttp%3A%2F%2Fwww.w3.org%2Fns%2Forg%23%3E%0A%20%20%20%20PREFIX%20lmb%3A%20%3Chttp%3A%2F%2Flblod.data.gift%2Fvocabularies%2Flmb%2F%3E%0A%20%20%20%20PREFIX%20generiek%3A%20%3Chttps%3A%2F%2Fdata.vlaanderen.be%2Fns%2Fgeneriek%23%3E%0A%0A%20%20%20%20select%20DISTINCT%20(%3Chttp%3A%2F%2Fdata.lblod.info%2Fid%2Fmandaten%2F10a337d6496abbc1e70da985bd259b83d36f974a4473561c2e7bc4efe881e0db%3E%20as%20%3Fthis)%20%3Fvalue%0A%20%20%20%20where%20%7B%0A%20%20%20%20%20%20%20%20%3Chttp%3A%2F%2Fdata.lblod.info%2Fid%2Fmandaten%2F10a337d6496abbc1e70da985bd259b83d36f974a4473561c2e7bc4efe881e0db%3E%20a%20mandaat%3AMandaat%20.%0A%0A%20%20%20%20%20%20%20%20FILTER%20NOT%20EXISTS%20%7B%0A%20%20%20%20%20%20%20%20%20%20%20%20%3Chttp%3A%2F%2Fdata.lblod.info%2Fid%2Fmandaten%2F10a337d6496abbc1e70da985bd259b83d36f974a4473561c2e7bc4efe881e0db%3E%20org%3Arole%20%3Fnaam%20.%0A%20%20%20%20%20%20%20%20%7D%0A%20%20%20%20%20%20%20%20%0A%20%20%20%20%20%20%20%20BIND%20(%22Dit%20mandaat%20heeft%20geen%20classificatie%20OF%20heeft%20classificatie%20zonder%20naam.%22%20as%20%3Fvalue)%0A%20%20%20%20%7D\n"
     ]
    }
   ],
   "source": [
    "// Test subject\n",
    "const subject = 'http://data.lblod.info/id/mandaten/10a337d6496abbc1e70da985bd259b83d36f974a4473561c2e7bc4efe881e0db';\n",
    "const mandataris_2_subject_query = mandataris_2_query.replaceAll('$this', `<${subject}>`);\n",
    "\n",
    "const mandataris_2_comunica = `https://query.linkeddatafragments.org/#datasources=${encodeURIComponent(bestuurseenheidUrl)}&query=${encodeURIComponent(mandataris_2_subject_query)}`;\n",
    "console.log(mandataris_2_comunica);"
   ]
  },
  {
   "cell_type": "markdown",
   "metadata": {},
   "source": [
    "The full validation on all mandatarissen happens below:"
   ]
  },
  {
   "cell_type": "code",
   "execution_count": 4,
   "metadata": {},
   "outputs": [
    {
     "data": {
      "application/json": {
       "classes": [
        {
         "className": "Mandaat",
         "classURI": "http://data.vlaanderen.be/ns/mandaat#Mandaat",
         "count": 22,
         "objects": [
          {
           "class": "http://data.vlaanderen.be/ns/mandaat#Mandaat",
           "className": "Mandaat",
           "properties": [],
           "shapeName": "mandataris_1_blueprint",
           "sparqlValidationResults": [],
           "totalCount": 0,
           "uri": "http://data.lblod.info/id/mandaten/10a337d6496abbc1e70da985bd259b83d36f974a4473561c2e7bc4efe881e0db",
           "usedShape": "http://example.org/mandataris_1_blueprint",
           "validCount": 0
          },
          {
           "class": "http://data.vlaanderen.be/ns/mandaat#Mandaat",
           "className": "Mandaat",
           "properties": [],
           "shapeName": "mandataris_1_blueprint",
           "sparqlValidationResults": [],
           "totalCount": 0,
           "uri": "http://data.lblod.info/id/mandaten/2bc5a0ee3dc3d95bd3cdeb3b12166af11f5973332244139bad1f5c752bcaa796",
           "usedShape": "http://example.org/mandataris_1_blueprint",
           "validCount": 0
          },
          {
           "class": "http://data.vlaanderen.be/ns/mandaat#Mandaat",
           "className": "Mandaat",
           "properties": [],
           "shapeName": "mandataris_1_blueprint",
           "sparqlValidationResults": [],
           "totalCount": 0,
           "uri": "http://data.lblod.info/id/mandaten/32a57b9f850efb2b80069c536279f624852ff3f997c8f46ff273673be68b146c",
           "usedShape": "http://example.org/mandataris_1_blueprint",
           "validCount": 0
          },
          {
           "class": "http://data.vlaanderen.be/ns/mandaat#Mandaat",
           "className": "Mandaat",
           "properties": [],
           "shapeName": "mandataris_1_blueprint",
           "sparqlValidationResults": [],
           "totalCount": 0,
           "uri": "http://data.lblod.info/id/mandaten/50e44a2dd236421692a2eebeb02e7fd2261dc038dbee6c429febbceb2c329f34",
           "usedShape": "http://example.org/mandataris_1_blueprint",
           "validCount": 0
          },
          {
           "class": "http://data.vlaanderen.be/ns/mandaat#Mandaat",
           "className": "Mandaat",
           "properties": [],
           "shapeName": "mandataris_1_blueprint",
           "sparqlValidationResults": [],
           "totalCount": 0,
           "uri": "http://data.lblod.info/id/mandaten/5f987a22d19f500765244b9d7c4453244db814035cbb3458ee1d40e66b8b8085",
           "usedShape": "http://example.org/mandataris_1_blueprint",
           "validCount": 0
          },
          {
           "class": "http://data.vlaanderen.be/ns/mandaat#Mandaat",
           "className": "Mandaat",
           "properties": [],
           "shapeName": "mandataris_1_blueprint",
           "sparqlValidationResults": [],
           "totalCount": 0,
           "uri": "http://data.lblod.info/id/mandaten/65fbc588eab4e58120cbc83282ff503e2193405bef15d7839303df1b58588797",
           "usedShape": "http://example.org/mandataris_1_blueprint",
           "validCount": 0
          },
          {
           "class": "http://data.vlaanderen.be/ns/mandaat#Mandaat",
           "className": "Mandaat",
           "properties": [],
           "shapeName": "mandataris_1_blueprint",
           "sparqlValidationResults": [],
           "totalCount": 0,
           "uri": "http://data.lblod.info/id/mandaten/be3ec586d34688778d984ef4f02cb9d1aa1079ac08f244a6c5855085ac196ee2",
           "usedShape": "http://example.org/mandataris_1_blueprint",
           "validCount": 0
          },
          {
           "class": "http://data.vlaanderen.be/ns/mandaat#Mandaat",
           "className": "Mandaat",
           "properties": [],
           "shapeName": "mandataris_1_blueprint",
           "sparqlValidationResults": [],
           "totalCount": 0,
           "uri": "http://data.lblod.info/id/mandaten/c067fae38ea67b5384de8e987439245ad2b99084f37cc47dd113cb6e4f05ac68",
           "usedShape": "http://example.org/mandataris_1_blueprint",
           "validCount": 0
          },
          {
           "class": "http://data.vlaanderen.be/ns/mandaat#Mandaat",
           "className": "Mandaat",
           "properties": [],
           "shapeName": "mandataris_1_blueprint",
           "sparqlValidationResults": [],
           "totalCount": 0,
           "uri": "http://data.lblod.info/id/mandaten/cbf1bdd963b71f36b74cf3d3d87dd661d9346d19ba6a1000a2ab215e2db0a1e3",
           "usedShape": "http://example.org/mandataris_1_blueprint",
           "validCount": 0
          },
          {
           "class": "http://data.vlaanderen.be/ns/mandaat#Mandaat",
           "className": "Mandaat",
           "properties": [],
           "shapeName": "mandataris_1_blueprint",
           "sparqlValidationResults": [],
           "totalCount": 0,
           "uri": "http://data.lblod.info/id/mandaten/cdc77e9a9a2180537d0e1f0c2b5774e83a904b92fc68ba4074d98c65fa14fad0",
           "usedShape": "http://example.org/mandataris_1_blueprint",
           "validCount": 0
          },
          {
           "class": "http://data.vlaanderen.be/ns/mandaat#Mandaat",
           "className": "Mandaat",
           "properties": [],
           "shapeName": "mandataris_1_blueprint",
           "sparqlValidationResults": [],
           "totalCount": 0,
           "uri": "http://data.lblod.info/id/mandaten/7fc28c897c210488312b5cdd6bf113add0b7fdfeeb23857a8dd06f3f3611d96b",
           "usedShape": "http://example.org/mandataris_1_blueprint",
           "validCount": 0
          },
          {
           "class": "http://data.vlaanderen.be/ns/mandaat#Mandaat",
           "className": "Mandaat",
           "properties": [],
           "shapeName": "mandataris_1_blueprint",
           "sparqlValidationResults": [],
           "totalCount": 0,
           "uri": "http://data.lblod.info/id/mandaten/eefe07a5cf3bcdff672c680613de92f44787f4ab7b14929604dfb5ba3a0963c8",
           "usedShape": "http://example.org/mandataris_1_blueprint",
           "validCount": 0
          },
          {
           "class": "http://data.vlaanderen.be/ns/mandaat#Mandaat",
           "className": "Mandaat",
           "properties": [],
           "shapeName": "mandataris_1_blueprint",
           "sparqlValidationResults": [],
           "totalCount": 0,
           "uri": "http://data.lblod.info/id/mandaten/51dd80fa8848e78ba8b11d479f87ac8b9f9ce6bd4bd6580c1ab572d1fb969616",
           "usedShape": "http://example.org/mandataris_1_blueprint",
           "validCount": 0
          },
          {
           "class": "http://data.vlaanderen.be/ns/mandaat#Mandaat",
           "className": "Mandaat",
           "properties": [],
           "shapeName": "mandataris_1_blueprint",
           "sparqlValidationResults": [],
           "totalCount": 0,
           "uri": "http://data.lblod.info/id/mandaten/40c676c2fb89340ddf9fd9140cd596649bc98dfa2327efb37b9c81aa662b667b",
           "usedShape": "http://example.org/mandataris_1_blueprint",
           "validCount": 0
          },
          {
           "class": "http://data.vlaanderen.be/ns/mandaat#Mandaat",
           "className": "Mandaat",
           "properties": [],
           "shapeName": "mandataris_1_blueprint",
           "sparqlValidationResults": [],
           "totalCount": 0,
           "uri": "http://data.lblod.info/id/mandaten/06c5f759620e75d5297866995b864371ce0da72915da09250349116cc3b0b751",
           "usedShape": "http://example.org/mandataris_1_blueprint",
           "validCount": 0
          },
          {
           "class": "http://data.vlaanderen.be/ns/mandaat#Mandaat",
           "className": "Mandaat",
           "properties": [],
           "shapeName": "mandataris_1_blueprint",
           "sparqlValidationResults": [],
           "totalCount": 0,
           "uri": "http://data.lblod.info/id/mandaten/362a23b71055304f95ceb7e123c3c2fd05a2b2d5e234567af2b06f1ea229a06e",
           "usedShape": "http://example.org/mandataris_1_blueprint",
           "validCount": 0
          },
          {
           "class": "http://data.vlaanderen.be/ns/mandaat#Mandaat",
           "className": "Mandaat",
           "properties": [],
           "shapeName": "mandataris_1_blueprint",
           "sparqlValidationResults": [],
           "totalCount": 0,
           "uri": "http://data.lblod.info/id/mandaten/efa3e6532f9411b5aaddbc3c8ed49d229cd6ec1cb63b81b0c240f10ab42f41f2",
           "usedShape": "http://example.org/mandataris_1_blueprint",
           "validCount": 0
          },
          {
           "class": "http://data.vlaanderen.be/ns/mandaat#Mandaat",
           "className": "Mandaat",
           "properties": [],
           "shapeName": "mandataris_1_blueprint",
           "sparqlValidationResults": [],
           "totalCount": 0,
           "uri": "http://data.lblod.info/id/mandaten/513e1ef3cca87be4f46e59546ab2f82e53b025704f4cb091fe02616f0e93e24c",
           "usedShape": "http://example.org/mandataris_1_blueprint",
           "validCount": 0
          },
          {
           "class": "http://data.vlaanderen.be/ns/mandaat#Mandaat",
           "className": "Mandaat",
           "properties": [],
           "shapeName": "mandataris_1_blueprint",
           "sparqlValidationResults": [],
           "totalCount": 0,
           "uri": "http://data.lblod.info/id/mandaten/2ae93adc54a84a33a1cc11374da3ba0b3d6b562fd1ef99886b3b43af9d41f7f1",
           "usedShape": "http://example.org/mandataris_1_blueprint",
           "validCount": 0
          },
          {
           "class": "http://data.vlaanderen.be/ns/mandaat#Mandaat",
           "className": "Mandaat",
           "properties": [],
           "shapeName": "mandataris_1_blueprint",
           "sparqlValidationResults": [],
           "totalCount": 0,
           "uri": "http://data.lblod.info/id/mandaten/e70b0477728337b82bd69b34a8695fd3e3ebf54a899de2c599120c23ec00d6bf",
           "usedShape": "http://example.org/mandataris_1_blueprint",
           "validCount": 0
          },
          {
           "class": "http://data.vlaanderen.be/ns/mandaat#Mandaat",
           "className": "Mandaat",
           "properties": [],
           "shapeName": "mandataris_1_blueprint",
           "sparqlValidationResults": [],
           "totalCount": 0,
           "uri": "http://data.lblod.info/id/mandaten/d888704186f9a8c8f755b944c646b0392e42652e65994a9e4359f8cffa1fa970",
           "usedShape": "http://example.org/mandataris_1_blueprint",
           "validCount": 0
          },
          {
           "class": "http://data.vlaanderen.be/ns/mandaat#Mandaat",
           "className": "Mandaat",
           "properties": [],
           "shapeName": "mandataris_1_blueprint",
           "sparqlValidationResults": [],
           "totalCount": 0,
           "uri": "http://data.lblod.info/id/mandaten/f2dc6cbd5869dc3b46f9a10336919029bb70e452fbd5ac57babf36bfa878baf4",
           "usedShape": "http://example.org/mandataris_1_blueprint",
           "validCount": 0
          }
         ]
        }
       ],
       "maturity": "Niveau 3"
      }
     },
     "metadata": {},
     "output_type": "display_data"
    }
   ],
   "source": [
    "const mandataris_2_validationReport = await validateDocument(bestuurseenheidBindings, mandataris_2_bindings);\n",
    "await display({ \"application/json\": mandataris_2_validationReport},{ raw: true });"
   ]
  }
 ],
 "metadata": {
  "kernelspec": {
   "display_name": "Deno",
   "language": "typescript",
   "name": "deno"
  },
  "language_info": {
   "codemirror_mode": "typescript",
   "file_extension": ".ts",
   "mimetype": "text/x.typescript",
   "name": "typescript",
   "nbconvert_exporter": "script",
   "pygments_lexer": "typescript",
   "version": "5.6.2"
  }
 },
 "nbformat": 4,
 "nbformat_minor": 4
}
