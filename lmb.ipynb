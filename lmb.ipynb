{
 "cells": [
  {
   "cell_type": "markdown",
   "metadata": {},
   "source": [
    "Welcome to the Notebook for running and developing validations using the LBLOD validation tool."
   ]
  },
  {
   "cell_type": "markdown",
   "metadata": {},
   "source": [
    "We load Javascript libraries to i) run the validation tool, ii) display the JSON result, and iii) use Comunica to parse Turtle"
   ]
  },
  {
   "cell_type": "code",
   "execution_count": 1,
   "metadata": {},
   "outputs": [],
   "source": [
    "import { validateDocument, fetchDocument } from '@lblod/lib-decision-validation';\n",
    "import { display } from \"https://deno.land/x/display/mod.ts\";\n",
    "\n",
    "import QueryEngine from '@comunica/query-sparql';\n",
    "const engine = new QueryEngine.QueryEngine();"
   ]
  },
  {
   "cell_type": "markdown",
   "metadata": {},
   "source": [
    "This is a help function to parse Turtle text into bindings, which is expected by the validation tool.\n",
    "Turtle is used for defining the SHACL shapes and data input."
   ]
  },
  {
   "cell_type": "code",
   "execution_count": 2,
   "metadata": {},
   "outputs": [],
   "source": [
    "export async function getBindingsFromTurtle(content: string): Promise<Bindings[]> {\n",
    "    const bindingsStream: BindingsStream = await engine.queryBindings(\n",
    "      `\n",
    "        SELECT ?s ?p ?o\n",
    "        WHERE {\n",
    "          ?s ?p ?o .\n",
    "        }\n",
    "      `,\n",
    "      {\n",
    "        sources: [\n",
    "          {\n",
    "            type: 'serialized',\n",
    "            value: content,\n",
    "            mediaType: 'text/turtle',\n",
    "            baseIRI: 'http://example.org/',\n",
    "          },\n",
    "        ],\n",
    "      },\n",
    "    );\n",
    "  \n",
    "    return bindingsStream.toArray();\n",
    "  }"
   ]
  },
  {
   "cell_type": "markdown",
   "metadata": {},
   "source": [
    "The next block defines a SPARQL CONSTRUCT query and SPARQL endpoint URL to retrieve all triples in Turtle format from a municipality (in this case, Hooglede)."
   ]
  },
  {
   "cell_type": "code",
   "execution_count": 3,
   "metadata": {},
   "outputs": [
    {
     "name": "stdout",
     "output_type": "stream",
     "text": [
      "http://localhost:8890/sparql/?default-graph-uri=&query=%0Aconstruct%20%7B%0A%20%20%3Fs%20%3Fp%20%3Fo%20.%0A%7D%0Awhere%20%7B%0Agraph%20%3Chttp%3A%2F%2Fmu.semte.ch%2Fgraphs%2Forganizations%2Fd168033a9bac278fa744c425e078eeabd304397f953feaaf5327b4e039aecacb%2FLoketLB-mandaatGebruiker%3E%20%7B%0A%20%20%20%20%3Fs%20%3Fp%20%3Fo%20.%0A%20%20%7D%0A%7D%0A\n"
     ]
    }
   ],
   "source": [
    "const bestuurseenheidUuid = 'd168033a9bac278fa744c425e078eeabd304397f953feaaf5327b4e039aecacb';\n",
    "\n",
    "const bestuurseenheidQuery = `\n",
    "construct {\n",
    "  ?s ?p ?o .\n",
    "}\n",
    "where {\n",
    "graph <http://mu.semte.ch/graphs/organizations/${bestuurseenheidUuid}/LoketLB-mandaatGebruiker> {\n",
    "    ?s ?p ?o .\n",
    "  }\n",
    "}\n",
    "`;\n",
    "const bestuurseenheidUrl = `http://localhost:8890/sparql/?default-graph-uri=&query=${encodeURIComponent(bestuurseenheidQuery)}`;\n",
    "const bestuurseenheidBindings = await fetchDocument(bestuurseenheidUrl);\n",
    "console.log(bestuurseenheidUrl);"
   ]
  },
  {
   "cell_type": "markdown",
   "metadata": {},
   "source": [
    "Overview of all use cases we want to cover for LMB:\n",
    "\n",
    "1 mandatarissen\n",
    "1.1 een persoon heeft voor 1 mandaat geen overlappende mandatarissen\n",
    "1.2 voor een mandataris vallen de start- en einddatums steeds binnen de \n",
    "bindingStart en bindingEinde van het bestuursorgaan\n",
    "1.3 voor een orgaan valt het aantal mandatarissen op elk moment tussen \n",
    "de min en max aantallen\n",
    "1.4 een mandataris heeft steeds een publicatiestatus\n",
    "1.5 een mandataris heeft steeds een status\n",
    "1.6 een mandataris heeft steeds een startdatum\n",
    "1.7 een mandataris heeft steeds een persoon\n",
    "1.8 een mandataris heeft steeds een mandaat\n",
    "1.9 een mandataris in gemeenteraad, burgemeester of college van \n",
    "burgemeester en schepenen organen zit altijd in een fractie (of is \n",
    "onafhankelijk)\n",
    "1.10 enkel mandatarissen van type schepen of burgemeester hebben \n",
    "beleidsdomeinen\n",
    "1.11 (optioneel, faciliteitengemeenten doen dit niet): een mandataris in \n",
    "de gemeenteraad zetelt ook als lid van het ocmw\n",
    "1.12 (optioneel, faciliteitengemeenten doen dit niet): een mandataris \n",
    "voorzitter van de gemeenteraad zetelt ook als voorzitter van het ocmw\n",
    "1.13 (optioneel, faciliteitengemeenten doen dit niet): een mandataris in \n",
    "het college van burgemeester en schepenen zetelt ook in het vast bureau\n",
    "1.14 (optioneel, faciliteitengemeenten doen dit niet): een (evt. \n",
    "aangewezen) burgemeester is ook voorzitter van het vast bureau\n",
    "1.15 de voorzitter van het bcsd is ook lid van raad van maatschappelijk \n",
    "welzijn of vast bureau\n",
    "1.16 de mandataris die een verhinderde mandataris vervangt heeft een \n",
    "startdatum gelijk aan de startdatum van de verhinderde mandataris\n",
    "1.17 een mandataris van gemeenteraad, burgemeester en college \n",
    "burgemeester en schepenen is gebonden aan een persoon uit een kieslijst \n",
    "van de overeenkomstige periode\n",
    "1.18 een mandataris met de publicatiestatus bekrachtigd heeft steeds een \n",
    "link naar een besluit (of een lmb:linkToBesluit als dat niet als linked \n",
    "data is gepubliceerd)\n",
    "1.19 mandatarissen met een classificatie schepen, toegevoegde schepen of \n",
    "gemeenteraadslid hebben steeds een rangorde"
   ]
  },
  {
   "cell_type": "markdown",
   "metadata": {},
   "source": [
    "1.1 een persoon heeft voor 1 mandaat geen overlappende mandatarissen\n",
    "\n",
    "Below, we can find the SPARQL template query and SHACL shape for the 1.1 use case.\n",
    "The Turtle string is converted into bindings."
   ]
  },
  {
   "cell_type": "code",
   "execution_count": 4,
   "metadata": {},
   "outputs": [],
   "source": [
    "const mandataris_1_1_query: string = `\n",
    "    PREFIX besluit: <http://data.vlaanderen.be/ns/besluit#>\n",
    "    PREFIX mandaat: <http://data.vlaanderen.be/ns/mandaat#>\n",
    "    PREFIX org: <http://www.w3.org/ns/org#>\n",
    "                \n",
    "    select DISTINCT ($this as ?this) ?value\n",
    "    where {\n",
    "        {\n",
    "            select (count(distinct(?mandataris)) as ?aantalMandatarissen)\n",
    "            where {\n",
    "                ?mandataris mandaat:isBestuurlijkeAliasVan $this ;\n",
    "                                org:holds ?mandaat .\n",
    "            }\n",
    "            group by ?mandaat\n",
    "        }\n",
    "            \n",
    "        FILTER (?aantalMandatarissen > 1)\n",
    "        BIND (\"Persoon heeft voor 1 mandaat overlappende/meerdere mandatarissen\" as ?value)\n",
    "    }`;\n",
    "    \n",
    "const mandataris_1_1_shape: string = `\n",
    "@prefix sh: <http://www.w3.org/ns/shacl#> .\n",
    "\n",
    "<http://example.org/mandataris_1_1_blueprint>\n",
    "  a sh:NodeShape ;\n",
    "  sh:targetClass <http://www.w3.org/ns/person#Person> ;\n",
    "  sh:sparql [\n",
    "\t\tsh:select \"\"\"${mandataris_1_1_query}\"\"\" ;\n",
    "        sh:message 'Persoon heeft voor 1 mandaat overlappende/meerdere mandatarissen'\n",
    "] .`;\n",
    "\n",
    "const mandataris_1_1_bindings: Bindings[] = await getBindingsFromTurtle(mandataris_1_1_shape);"
   ]
  },
  {
   "cell_type": "code",
   "execution_count": null,
   "metadata": {},
   "outputs": [],
   "source": [
    "To test the shape, we retrieved a subject from the triple store that is applicable. In this case, we choose a person URI.\n",
    "Then, the template query from above is applied on this subject.\n",
    "Next, a Comunica URL is generated to debug the results of this validation."
   ]
  },
  {
   "cell_type": "code",
   "execution_count": 5,
   "metadata": {},
   "outputs": [
    {
     "name": "stdout",
     "output_type": "stream",
     "text": [
      "https://query.linkeddatafragments.org/#datasources=http://localhost:8890/sparql/?default-graph-uri=&query=%0Aconstruct%20%7B%0A%20%20%3Fs%20%3Fp%20%3Fo%20.%0A%7D%0Awhere%20%7B%0Agraph%20%3Chttp%3A%2F%2Fmu.semte.ch%2Fgraphs%2Forganizations%2Fd168033a9bac278fa744c425e078eeabd304397f953feaaf5327b4e039aecacb%2FLoketLB-mandaatGebruiker%3E%20%7B%0A%20%20%20%20%3Fs%20%3Fp%20%3Fo%20.%0A%20%20%7D%0A%7D%0A&query=%0A%20%20%20%20PREFIX%20besluit%3A%20%3Chttp%3A%2F%2Fdata.vlaanderen.be%2Fns%2Fbesluit%23%3E%0A%20%20%20%20PREFIX%20mandaat%3A%20%3Chttp%3A%2F%2Fdata.vlaanderen.be%2Fns%2Fmandaat%23%3E%0A%20%20%20%20PREFIX%20org%3A%20%3Chttp%3A%2F%2Fwww.w3.org%2Fns%2Forg%23%3E%0A%20%20%20%20%20%20%20%20%20%20%20%20%20%20%20%20%0A%20%20%20%20select%20DISTINCT%20(%3Chttp%3A%2F%2Fdata.lblod.info%2Fid%2Fpersonen%2F51ecbbe8e8cdd33ec1c45e69f986b4c6e88dbbcb475747faf69cea6550debb17%3E%20as%20%3Fthis)%20%3Fvalue%0A%20%20%20%20where%20%7B%0A%20%20%20%20%20%20%20%20%7B%0A%20%20%20%20%20%20%20%20%20%20%20%20select%20(count(distinct(%3Fmandataris))%20as%20%3FaantalMandatarissen)%0A%20%20%20%20%20%20%20%20%20%20%20%20where%20%7B%0A%20%20%20%20%20%20%20%20%20%20%20%20%20%20%20%20%3Fmandataris%20mandaat%3AisBestuurlijkeAliasVan%20%3Chttp%3A%2F%2Fdata.lblod.info%2Fid%2Fpersonen%2F51ecbbe8e8cdd33ec1c45e69f986b4c6e88dbbcb475747faf69cea6550debb17%3E%20%3B%0A%20%20%20%20%20%20%20%20%20%20%20%20%20%20%20%20%20%20%20%20%20%20%20%20%20%20%20%20%20%20%20%20org%3Aholds%20%3Fmandaat%20.%0A%20%20%20%20%20%20%20%20%20%20%20%20%7D%0A%20%20%20%20%20%20%20%20%20%20%20%20group%20by%20%3Fmandaat%0A%20%20%20%20%20%20%20%20%7D%0A%20%20%20%20%20%20%20%20%20%20%20%20%0A%20%20%20%20%20%20%20%20FILTER%20(%3FaantalMandatarissen%20%3E%201)%0A%20%20%20%20%20%20%20%20BIND%20(%22Persoon%20heeft%20voor%201%20mandaat%20overlappende%2Fmeerdere%20mandatarissen%22%20as%20%3Fvalue)%0A%20%20%20%20%7D\n"
     ]
    }
   ],
   "source": [
    "// Test subject\n",
    "const subject = 'http://data.lblod.info/id/personen/51ecbbe8e8cdd33ec1c45e69f986b4c6e88dbbcb475747faf69cea6550debb17';\n",
    "const mandataris_1_1_subject_query = mandataris_1_1_query.replaceAll('$this', `<${subject}>`);\n",
    "\n",
    "const mandataris_1_1_comunica = `https://query.linkeddatafragments.org/#datasources=${bestuurseenheidUrl}&query=${encodeURIComponent(mandataris_1_1_subject_query)}`;\n",
    "console.log(mandataris_1_1_comunica);"
   ]
  },
  {
   "cell_type": "markdown",
   "metadata": {},
   "source": [
    "The full validation on all persons happens below:"
   ]
  },
  {
   "cell_type": "code",
   "execution_count": 7,
   "metadata": {},
   "outputs": [
    {
     "data": {
      "application/json": {
       "classes": [
        {
         "className": "Person",
         "classURI": "http://www.w3.org/ns/person#Person",
         "count": 158,
         "objects": [
          {
           "class": "http://www.w3.org/ns/person#Person",
           "className": "Person",
           "properties": [],
           "shapeName": "mandataris_1_1_blueprint",
           "sparqlValidationResults": [],
           "totalCount": 0,
           "uri": "http://data.lblod.info/id/personen/0973452d-0b55-40ce-bc99-6327488df49f",
           "usedShape": "http://example.org/mandataris_1_1_blueprint",
           "validCount": 0
          },
          {
           "class": "http://www.w3.org/ns/person#Person",
           "className": "Person",
           "properties": [],
           "shapeName": "mandataris_1_1_blueprint",
           "sparqlValidationResults": [],
           "totalCount": 0,
           "uri": "http://data.lblod.info/id/personen/154ab488-a4eb-493f-b820-a2cc9aae25ac",
           "usedShape": "http://example.org/mandataris_1_1_blueprint",
           "validCount": 0
          },
          {
           "class": "http://www.w3.org/ns/person#Person",
           "className": "Person",
           "properties": [],
           "shapeName": "mandataris_1_1_blueprint",
           "sparqlValidationResults": [],
           "totalCount": 0,
           "uri": "http://data.lblod.info/id/personen/2390455a-1a72-411b-a5e7-0b375f27c4fa",
           "usedShape": "http://example.org/mandataris_1_1_blueprint",
           "validCount": 0
          },
          {
           "class": "http://www.w3.org/ns/person#Person",
           "className": "Person",
           "properties": [],
           "shapeName": "mandataris_1_1_blueprint",
           "sparqlValidationResults": [],
           "totalCount": 0,
           "uri": "http://data.lblod.info/id/personen/2425102c-0dd8-4882-80e6-a4deefde6dcc",
           "usedShape": "http://example.org/mandataris_1_1_blueprint",
           "validCount": 0
          },
          {
           "class": "http://www.w3.org/ns/person#Person",
           "className": "Person",
           "properties": [],
           "shapeName": "mandataris_1_1_blueprint",
           "sparqlValidationResults": [],
           "totalCount": 0,
           "uri": "http://data.lblod.info/id/personen/26302c92-fdb7-4486-bb8f-1e79bd40d44f",
           "usedShape": "http://example.org/mandataris_1_1_blueprint",
           "validCount": 0
          },
          {
           "class": "http://www.w3.org/ns/person#Person",
           "className": "Person",
           "properties": [],
           "shapeName": "mandataris_1_1_blueprint",
           "sparqlValidationResults": [],
           "totalCount": 0,
           "uri": "http://data.lblod.info/id/personen/318cb84b-5f60-4d4e-a04a-83a50353f51c",
           "usedShape": "http://example.org/mandataris_1_1_blueprint",
           "validCount": 0
          },
          {
           "class": "http://www.w3.org/ns/person#Person",
           "className": "Person",
           "properties": [],
           "shapeName": "mandataris_1_1_blueprint",
           "sparqlValidationResults": [],
           "totalCount": 0,
           "uri": "http://data.lblod.info/id/personen/35d365ee-6d9f-490d-b9ec-481095b2d1db",
           "usedShape": "http://example.org/mandataris_1_1_blueprint",
           "validCount": 0
          },
          {
           "class": "http://www.w3.org/ns/person#Person",
           "className": "Person",
           "properties": [],
           "shapeName": "mandataris_1_1_blueprint",
           "sparqlValidationResults": [],
           "totalCount": 0,
           "uri": "http://data.lblod.info/id/personen/489a236c-4714-4dbc-bb7d-5ab382e346fb",
           "usedShape": "http://example.org/mandataris_1_1_blueprint",
           "validCount": 0
          },
          {
           "class": "http://www.w3.org/ns/person#Person",
           "className": "Person",
           "properties": [],
           "shapeName": "mandataris_1_1_blueprint",
           "sparqlValidationResults": [],
           "totalCount": 0,
           "uri": "http://data.lblod.info/id/personen/4c946fd9-e06b-4e46-a5ee-f92bac4be197",
           "usedShape": "http://example.org/mandataris_1_1_blueprint",
           "validCount": 0
          },
          {
           "class": "http://www.w3.org/ns/person#Person",
           "className": "Person",
           "properties": [],
           "shapeName": "mandataris_1_1_blueprint",
           "sparqlValidationResults": [],
           "totalCount": 0,
           "uri": "http://data.lblod.info/id/personen/4d8d2578-bc58-4882-9514-62f13d0bbae1",
           "usedShape": "http://example.org/mandataris_1_1_blueprint",
           "validCount": 0
          },
          {
           "class": "http://www.w3.org/ns/person#Person",
           "className": "Person",
           "properties": [],
           "shapeName": "mandataris_1_1_blueprint",
           "sparqlValidationResults": [],
           "totalCount": 0,
           "uri": "http://data.lblod.info/id/personen/50ff0e92-5ac4-4af3-85fc-591a4d59321b",
           "usedShape": "http://example.org/mandataris_1_1_blueprint",
           "validCount": 0
          },
          {
           "class": "http://www.w3.org/ns/person#Person",
           "className": "Person",
           "properties": [],
           "shapeName": "mandataris_1_1_blueprint",
           "sparqlValidationResults": [],
           "totalCount": 0,
           "uri": "http://data.lblod.info/id/personen/54731d22-36c5-4a44-bbe7-232d08d78e3d",
           "usedShape": "http://example.org/mandataris_1_1_blueprint",
           "validCount": 0
          },
          {
           "class": "http://www.w3.org/ns/person#Person",
           "className": "Person",
           "properties": [],
           "shapeName": "mandataris_1_1_blueprint",
           "sparqlValidationResults": [],
           "totalCount": 0,
           "uri": "http://data.lblod.info/id/personen/547e6cc9-9816-454e-a777-26f368cd3a84",
           "usedShape": "http://example.org/mandataris_1_1_blueprint",
           "validCount": 0
          },
          {
           "class": "http://www.w3.org/ns/person#Person",
           "className": "Person",
           "properties": [],
           "shapeName": "mandataris_1_1_blueprint",
           "sparqlValidationResults": [],
           "totalCount": 0,
           "uri": "http://data.lblod.info/id/personen/5bd50129-bca9-49a0-9065-9952afcab556",
           "usedShape": "http://example.org/mandataris_1_1_blueprint",
           "validCount": 0
          },
          {
           "class": "http://www.w3.org/ns/person#Person",
           "className": "Person",
           "properties": [],
           "shapeName": "mandataris_1_1_blueprint",
           "sparqlValidationResults": [],
           "totalCount": 0,
           "uri": "http://data.lblod.info/id/personen/5d0135ff4628fce784a3b79a1fd359b4584b76b5520bd142d8d4faacefc353cb",
           "usedShape": "http://example.org/mandataris_1_1_blueprint",
           "validCount": 0
          },
          {
           "class": "http://www.w3.org/ns/person#Person",
           "className": "Person",
           "properties": [],
           "shapeName": "mandataris_1_1_blueprint",
           "sparqlValidationResults": [],
           "totalCount": 0,
           "uri": "http://data.lblod.info/id/personen/5d357017dcb8d4045315b916698c834bee95ffe80135777f4f9d949f5f5d268e",
           "usedShape": "http://example.org/mandataris_1_1_blueprint",
           "validCount": 0
          },
          {
           "class": "http://www.w3.org/ns/person#Person",
           "className": "Person",
           "properties": [],
           "shapeName": "mandataris_1_1_blueprint",
           "sparqlValidationResults": [],
           "totalCount": 0,
           "uri": "http://data.lblod.info/id/personen/5d488b4c6741a62ce4b2a18869192dde9c7a7fc2cce49723564fc27b3440ea79",
           "usedShape": "http://example.org/mandataris_1_1_blueprint",
           "validCount": 0
          },
          {
           "class": "http://www.w3.org/ns/person#Person",
           "className": "Person",
           "properties": [],
           "shapeName": "mandataris_1_1_blueprint",
           "sparqlValidationResults": [],
           "totalCount": 0,
           "uri": "http://data.lblod.info/id/personen/629b7356dbf7555b785e4d41e3a6bead67827440e1bd434fd49b8d1ac39cb09a",
           "usedShape": "http://example.org/mandataris_1_1_blueprint",
           "validCount": 0
          },
          {
           "class": "http://www.w3.org/ns/person#Person",
           "className": "Person",
           "properties": [],
           "shapeName": "mandataris_1_1_blueprint",
           "sparqlValidationResults": [],
           "totalCount": 0,
           "uri": "http://data.lblod.info/id/personen/64fbe44824e538593ab3619b5bf739fee7fa812030872b85a68357bfe18e08b6",
           "usedShape": "http://example.org/mandataris_1_1_blueprint",
           "validCount": 0
          },
          {
           "class": "http://www.w3.org/ns/person#Person",
           "className": "Person",
           "properties": [],
           "shapeName": "mandataris_1_1_blueprint",
           "sparqlValidationResults": [],
           "totalCount": 0,
           "uri": "http://data.lblod.info/id/personen/6667989d52723c49cb56c2263ad65510d5f5ee1c02ba12da62fd996246baed4e",
           "usedShape": "http://example.org/mandataris_1_1_blueprint",
           "validCount": 0
          },
          {
           "class": "http://www.w3.org/ns/person#Person",
           "className": "Person",
           "properties": [],
           "shapeName": "mandataris_1_1_blueprint",
           "sparqlValidationResults": [],
           "totalCount": 0,
           "uri": "http://data.lblod.info/id/personen/677be254c81936d7b7f8fa6fb27e0b902d70a61981f0bd7079123d424e99031e",
           "usedShape": "http://example.org/mandataris_1_1_blueprint",
           "validCount": 0
          },
          {
           "class": "http://www.w3.org/ns/person#Person",
           "className": "Person",
           "properties": [],
           "shapeName": "mandataris_1_1_blueprint",
           "sparqlValidationResults": [],
           "totalCount": 0,
           "uri": "http://data.lblod.info/id/personen/6897a48d239b7b58c72be6521c9438315ded69848eece859c8023e79b4041052",
           "usedShape": "http://example.org/mandataris_1_1_blueprint",
           "validCount": 0
          },
          {
           "class": "http://www.w3.org/ns/person#Person",
           "className": "Person",
           "properties": [],
           "shapeName": "mandataris_1_1_blueprint",
           "sparqlValidationResults": [],
           "totalCount": 0,
           "uri": "http://data.lblod.info/id/personen/7112d1461e04ce4846d87471ace974b22c934ef08e0b24a1836e15b328e191ae",
           "usedShape": "http://example.org/mandataris_1_1_blueprint",
           "validCount": 0
          },
          {
           "class": "http://www.w3.org/ns/person#Person",
           "className": "Person",
           "properties": [],
           "shapeName": "mandataris_1_1_blueprint",
           "sparqlValidationResults": [],
           "totalCount": 0,
           "uri": "http://data.lblod.info/id/personen/75a5e1dd-1ea5-4670-919e-29a8b51d3ac9",
           "usedShape": "http://example.org/mandataris_1_1_blueprint",
           "validCount": 0
          },
          {
           "class": "http://www.w3.org/ns/person#Person",
           "className": "Person",
           "properties": [],
           "shapeName": "mandataris_1_1_blueprint",
           "sparqlValidationResults": [],
           "totalCount": 0,
           "uri": "http://data.lblod.info/id/personen/763eec5427c7db725e672da374dd975b7ba94e602a3511522b57b400ae36369e",
           "usedShape": "http://example.org/mandataris_1_1_blueprint",
           "validCount": 0
          },
          {
           "class": "http://www.w3.org/ns/person#Person",
           "className": "Person",
           "properties": [],
           "shapeName": "mandataris_1_1_blueprint",
           "sparqlValidationResults": [],
           "totalCount": 0,
           "uri": "http://data.lblod.info/id/personen/7e6624c406f468e4c3935bf6e530998bfab2ce1339e80028ec967adf7a8758bc",
           "usedShape": "http://example.org/mandataris_1_1_blueprint",
           "validCount": 0
          },
          {
           "class": "http://www.w3.org/ns/person#Person",
           "className": "Person",
           "properties": [],
           "shapeName": "mandataris_1_1_blueprint",
           "sparqlValidationResults": [],
           "totalCount": 0,
           "uri": "http://data.lblod.info/id/personen/8290317d-4b03-43d6-a454-c5b8be5e93a1",
           "usedShape": "http://example.org/mandataris_1_1_blueprint",
           "validCount": 0
          },
          {
           "class": "http://www.w3.org/ns/person#Person",
           "className": "Person",
           "properties": [],
           "shapeName": "mandataris_1_1_blueprint",
           "sparqlValidationResults": [],
           "totalCount": 0,
           "uri": "http://data.lblod.info/id/personen/82b90d1f2a8c8ebcbcf5d589d06bde516ef31c436d179bfed65d8ef15083849a",
           "usedShape": "http://example.org/mandataris_1_1_blueprint",
           "validCount": 0
          },
          {
           "class": "http://www.w3.org/ns/person#Person",
           "className": "Person",
           "properties": [],
           "shapeName": "mandataris_1_1_blueprint",
           "sparqlValidationResults": [],
           "totalCount": 0,
           "uri": "http://data.lblod.info/id/personen/83562bfcca769b4b135c1b891e0243362871dceecff6d638420c564e8d679cdd",
           "usedShape": "http://example.org/mandataris_1_1_blueprint",
           "validCount": 0
          },
          {
           "class": "http://www.w3.org/ns/person#Person",
           "className": "Person",
           "properties": [],
           "shapeName": "mandataris_1_1_blueprint",
           "sparqlValidationResults": [],
           "totalCount": 0,
           "uri": "http://data.lblod.info/id/personen/87066285817fa215384bb6204464f02d58dfd01089010aa41d94738903d105f9",
           "usedShape": "http://example.org/mandataris_1_1_blueprint",
           "validCount": 0
          },
          {
           "class": "http://www.w3.org/ns/person#Person",
           "className": "Person",
           "properties": [],
           "shapeName": "mandataris_1_1_blueprint",
           "sparqlValidationResults": [],
           "totalCount": 0,
           "uri": "http://data.lblod.info/id/personen/8a86efad-9c41-443c-a72f-37187fcbec36",
           "usedShape": "http://example.org/mandataris_1_1_blueprint",
           "validCount": 0
          },
          {
           "class": "http://www.w3.org/ns/person#Person",
           "className": "Person",
           "properties": [],
           "shapeName": "mandataris_1_1_blueprint",
           "sparqlValidationResults": [],
           "totalCount": 0,
           "uri": "http://data.lblod.info/id/personen/8ad7279c-6c23-4740-bdc6-167b755db094",
           "usedShape": "http://example.org/mandataris_1_1_blueprint",
           "validCount": 0
          },
          {
           "class": "http://www.w3.org/ns/person#Person",
           "className": "Person",
           "properties": [],
           "shapeName": "mandataris_1_1_blueprint",
           "sparqlValidationResults": [],
           "totalCount": 0,
           "uri": "http://data.lblod.info/id/personen/8bae66eaabb4b1230c94795ad76e1896ecb8ee78267256a151928c6acace94bc",
           "usedShape": "http://example.org/mandataris_1_1_blueprint",
           "validCount": 0
          },
          {
           "class": "http://www.w3.org/ns/person#Person",
           "className": "Person",
           "properties": [],
           "shapeName": "mandataris_1_1_blueprint",
           "sparqlValidationResults": [],
           "totalCount": 0,
           "uri": "http://data.lblod.info/id/personen/8c04a768dc93e9684066aca160dd474ad1f56e2f06d9e9d29e6cfc85cf6d7e43",
           "usedShape": "http://example.org/mandataris_1_1_blueprint",
           "validCount": 0
          },
          {
           "class": "http://www.w3.org/ns/person#Person",
           "className": "Person",
           "properties": [],
           "shapeName": "mandataris_1_1_blueprint",
           "sparqlValidationResults": [],
           "totalCount": 0,
           "uri": "http://data.lblod.info/id/personen/8e021f583f477f436ce203c30755522287fabd7e40bcc5ae961fe7912d17fba8",
           "usedShape": "http://example.org/mandataris_1_1_blueprint",
           "validCount": 0
          },
          {
           "class": "http://www.w3.org/ns/person#Person",
           "className": "Person",
           "properties": [],
           "shapeName": "mandataris_1_1_blueprint",
           "sparqlValidationResults": [],
           "totalCount": 0,
           "uri": "http://data.lblod.info/id/personen/8f721e2bdbe3cfcdffca6d7c8ce51a753b3deeb49d85169390e210c0cadaeaaa",
           "usedShape": "http://example.org/mandataris_1_1_blueprint",
           "validCount": 0
          },
          {
           "class": "http://www.w3.org/ns/person#Person",
           "className": "Person",
           "properties": [],
           "shapeName": "mandataris_1_1_blueprint",
           "sparqlValidationResults": [],
           "totalCount": 0,
           "uri": "http://data.lblod.info/id/personen/9140e2b1-6e00-472a-b0f4-8a686424ac42",
           "usedShape": "http://example.org/mandataris_1_1_blueprint",
           "validCount": 0
          },
          {
           "class": "http://www.w3.org/ns/person#Person",
           "className": "Person",
           "properties": [],
           "shapeName": "mandataris_1_1_blueprint",
           "sparqlValidationResults": [],
           "totalCount": 0,
           "uri": "http://data.lblod.info/id/personen/975291615882ae61341eed5210f30e4ab9cee420d15ffcd1a254340c86e902cf",
           "usedShape": "http://example.org/mandataris_1_1_blueprint",
           "validCount": 0
          },
          {
           "class": "http://www.w3.org/ns/person#Person",
           "className": "Person",
           "properties": [],
           "shapeName": "mandataris_1_1_blueprint",
           "sparqlValidationResults": [],
           "totalCount": 0,
           "uri": "http://data.lblod.info/id/personen/9846860e1043e4ae0360cda705b181566f52067d803a1b6b91e154307b617b37",
           "usedShape": "http://example.org/mandataris_1_1_blueprint",
           "validCount": 0
          },
          {
           "class": "http://www.w3.org/ns/person#Person",
           "className": "Person",
           "properties": [],
           "shapeName": "mandataris_1_1_blueprint",
           "sparqlValidationResults": [],
           "totalCount": 0,
           "uri": "http://data.lblod.info/id/personen/984a5128-d5d9-4161-8ca7-835aa991ba4b",
           "usedShape": "http://example.org/mandataris_1_1_blueprint",
           "validCount": 0
          },
          {
           "class": "http://www.w3.org/ns/person#Person",
           "className": "Person",
           "properties": [],
           "shapeName": "mandataris_1_1_blueprint",
           "sparqlValidationResults": [],
           "totalCount": 0,
           "uri": "http://data.lblod.info/id/personen/9d9a0b89-a47d-483b-acda-85e66d2fd296",
           "usedShape": "http://example.org/mandataris_1_1_blueprint",
           "validCount": 0
          },
          {
           "class": "http://www.w3.org/ns/person#Person",
           "className": "Person",
           "properties": [],
           "shapeName": "mandataris_1_1_blueprint",
           "sparqlValidationResults": [],
           "totalCount": 0,
           "uri": "http://data.lblod.info/id/personen/9dbad16beb506f6f5a8f77bc0ea645939a225f662020e88ea5c4346d366f0642",
           "usedShape": "http://example.org/mandataris_1_1_blueprint",
           "validCount": 0
          },
          {
           "class": "http://www.w3.org/ns/person#Person",
           "className": "Person",
           "properties": [],
           "shapeName": "mandataris_1_1_blueprint",
           "sparqlValidationResults": [],
           "totalCount": 0,
           "uri": "http://data.lblod.info/id/personen/9dbd8623def7d7b69e3370ff1f89181b54e57b9430b5c22b20cc86964464960a",
           "usedShape": "http://example.org/mandataris_1_1_blueprint",
           "validCount": 0
          },
          {
           "class": "http://www.w3.org/ns/person#Person",
           "className": "Person",
           "properties": [],
           "shapeName": "mandataris_1_1_blueprint",
           "sparqlValidationResults": [],
           "totalCount": 0,
           "uri": "http://data.lblod.info/id/personen/a2bc4e013fcf195f812f4cc82354a4e32479477abe353ddb106c59d7a8c9e3fe",
           "usedShape": "http://example.org/mandataris_1_1_blueprint",
           "validCount": 0
          },
          {
           "class": "http://www.w3.org/ns/person#Person",
           "className": "Person",
           "properties": [],
           "shapeName": "mandataris_1_1_blueprint",
           "sparqlValidationResults": [],
           "totalCount": 0,
           "uri": "http://data.lblod.info/id/personen/a6953ea8f98a3d242d253f4390e538ef9bc35924cdad6794104b356c9197cb45",
           "usedShape": "http://example.org/mandataris_1_1_blueprint",
           "validCount": 0
          },
          {
           "class": "http://www.w3.org/ns/person#Person",
           "className": "Person",
           "properties": [],
           "shapeName": "mandataris_1_1_blueprint",
           "sparqlValidationResults": [],
           "totalCount": 0,
           "uri": "http://data.lblod.info/id/personen/a8b270e62642700102f4feb80ce57a60fa2710b047b5f44bfc36c30becd7ce1a",
           "usedShape": "http://example.org/mandataris_1_1_blueprint",
           "validCount": 0
          },
          {
           "class": "http://www.w3.org/ns/person#Person",
           "className": "Person",
           "properties": [],
           "shapeName": "mandataris_1_1_blueprint",
           "sparqlValidationResults": [],
           "totalCount": 0,
           "uri": "http://data.lblod.info/id/personen/ad00a8913100477684b958e4f86b315eee5ee323373210f9716c521fabb2a6e7",
           "usedShape": "http://example.org/mandataris_1_1_blueprint",
           "validCount": 0
          },
          {
           "class": "http://www.w3.org/ns/person#Person",
           "className": "Person",
           "properties": [],
           "shapeName": "mandataris_1_1_blueprint",
           "sparqlValidationResults": [],
           "totalCount": 0,
           "uri": "http://data.lblod.info/id/personen/b22c3955-eabc-4e83-9c40-37c84f3efad4",
           "usedShape": "http://example.org/mandataris_1_1_blueprint",
           "validCount": 0
          },
          {
           "class": "http://www.w3.org/ns/person#Person",
           "className": "Person",
           "properties": [],
           "shapeName": "mandataris_1_1_blueprint",
           "sparqlValidationResults": [],
           "totalCount": 0,
           "uri": "http://data.lblod.info/id/personen/b288dd96829c4cb2afe52b6fd1b15b9b227badbea3040cc2d5055a356ee25296",
           "usedShape": "http://example.org/mandataris_1_1_blueprint",
           "validCount": 0
          },
          {
           "class": "http://www.w3.org/ns/person#Person",
           "className": "Person",
           "properties": [],
           "shapeName": "mandataris_1_1_blueprint",
           "sparqlValidationResults": [],
           "totalCount": 0,
           "uri": "http://data.lblod.info/id/personen/b3cb3762640567fffef3b947c5abbb2a2bf8ad282f846693697433bf3c01833a",
           "usedShape": "http://example.org/mandataris_1_1_blueprint",
           "validCount": 0
          },
          {
           "class": "http://www.w3.org/ns/person#Person",
           "className": "Person",
           "properties": [],
           "shapeName": "mandataris_1_1_blueprint",
           "sparqlValidationResults": [],
           "totalCount": 0,
           "uri": "http://data.lblod.info/id/personen/b45de55f-8323-47e8-95b6-7487d1b57fef",
           "usedShape": "http://example.org/mandataris_1_1_blueprint",
           "validCount": 0
          },
          {
           "class": "http://www.w3.org/ns/person#Person",
           "className": "Person",
           "properties": [],
           "shapeName": "mandataris_1_1_blueprint",
           "sparqlValidationResults": [],
           "totalCount": 0,
           "uri": "http://data.lblod.info/id/personen/b5d6b155-eb8c-4ba6-bf21-798771e3e1e6",
           "usedShape": "http://example.org/mandataris_1_1_blueprint",
           "validCount": 0
          },
          {
           "class": "http://www.w3.org/ns/person#Person",
           "className": "Person",
           "properties": [],
           "shapeName": "mandataris_1_1_blueprint",
           "sparqlValidationResults": [],
           "totalCount": 0,
           "uri": "http://data.lblod.info/id/personen/b9610e7bb67c010c3ca8aa2258d6972f439780e9921825df749c1f1feb92806e",
           "usedShape": "http://example.org/mandataris_1_1_blueprint",
           "validCount": 0
          },
          {
           "class": "http://www.w3.org/ns/person#Person",
           "className": "Person",
           "properties": [],
           "shapeName": "mandataris_1_1_blueprint",
           "sparqlValidationResults": [],
           "totalCount": 0,
           "uri": "http://data.lblod.info/id/personen/bbb8e9189869295bf4f3fd500563b42871e741d964dccbabe1ea288204cb0b9b",
           "usedShape": "http://example.org/mandataris_1_1_blueprint",
           "validCount": 0
          },
          {
           "class": "http://www.w3.org/ns/person#Person",
           "className": "Person",
           "properties": [],
           "shapeName": "mandataris_1_1_blueprint",
           "sparqlValidationResults": [],
           "totalCount": 0,
           "uri": "http://data.lblod.info/id/personen/be928f8d-8e10-414f-9579-de0618837c92",
           "usedShape": "http://example.org/mandataris_1_1_blueprint",
           "validCount": 0
          },
          {
           "class": "http://www.w3.org/ns/person#Person",
           "className": "Person",
           "properties": [],
           "shapeName": "mandataris_1_1_blueprint",
           "sparqlValidationResults": [],
           "totalCount": 0,
           "uri": "http://data.lblod.info/id/personen/bfe93509011427f2e4d1d677e1dcd131afa094ccf91de313413b194e96cca49a",
           "usedShape": "http://example.org/mandataris_1_1_blueprint",
           "validCount": 0
          },
          {
           "class": "http://www.w3.org/ns/person#Person",
           "className": "Person",
           "properties": [],
           "shapeName": "mandataris_1_1_blueprint",
           "sparqlValidationResults": [],
           "totalCount": 0,
           "uri": "http://data.lblod.info/id/personen/c08ddb2d94c479ac2146c49d682985a965c6ca48fe45174db48dedc4f735b0a8",
           "usedShape": "http://example.org/mandataris_1_1_blueprint",
           "validCount": 0
          },
          {
           "class": "http://www.w3.org/ns/person#Person",
           "className": "Person",
           "properties": [],
           "shapeName": "mandataris_1_1_blueprint",
           "sparqlValidationResults": [],
           "totalCount": 0,
           "uri": "http://data.lblod.info/id/personen/c13948723c1b81669ac1b8ffd79e551feb4da16d295b04e343b378cdd00f6e4b",
           "usedShape": "http://example.org/mandataris_1_1_blueprint",
           "validCount": 0
          },
          {
           "class": "http://www.w3.org/ns/person#Person",
           "className": "Person",
           "properties": [],
           "shapeName": "mandataris_1_1_blueprint",
           "sparqlValidationResults": [],
           "totalCount": 0,
           "uri": "http://data.lblod.info/id/personen/c14d49544cfe6eb3d91218bddb02611ddfc4c43e2958bfdbc72c36b2fef07e11",
           "usedShape": "http://example.org/mandataris_1_1_blueprint",
           "validCount": 0
          },
          {
           "class": "http://www.w3.org/ns/person#Person",
           "className": "Person",
           "properties": [],
           "shapeName": "mandataris_1_1_blueprint",
           "sparqlValidationResults": [],
           "totalCount": 0,
           "uri": "http://data.lblod.info/id/personen/c229ef2824ed95968d38611f0653c3bcb02415dac43fa27d46713da464d785af",
           "usedShape": "http://example.org/mandataris_1_1_blueprint",
           "validCount": 0
          },
          {
           "class": "http://www.w3.org/ns/person#Person",
           "className": "Person",
           "properties": [],
           "shapeName": "mandataris_1_1_blueprint",
           "sparqlValidationResults": [],
           "totalCount": 0,
           "uri": "http://data.lblod.info/id/personen/c5985196dc7c482964a16ed130db0feb6a8bb1f11aeefd4112f93d4a7b7af38e",
           "usedShape": "http://example.org/mandataris_1_1_blueprint",
           "validCount": 0
          },
          {
           "class": "http://www.w3.org/ns/person#Person",
           "className": "Person",
           "properties": [],
           "shapeName": "mandataris_1_1_blueprint",
           "sparqlValidationResults": [],
           "totalCount": 0,
           "uri": "http://data.lblod.info/id/personen/c59a711e1d83a3c79ac169e7d2877ac0d425b571e8756c480ae2fa754ecc1814",
           "usedShape": "http://example.org/mandataris_1_1_blueprint",
           "validCount": 0
          },
          {
           "class": "http://www.w3.org/ns/person#Person",
           "className": "Person",
           "properties": [],
           "shapeName": "mandataris_1_1_blueprint",
           "sparqlValidationResults": [],
           "totalCount": 0,
           "uri": "http://data.lblod.info/id/personen/c86912b2-17c6-4b67-824c-40aca9adea98",
           "usedShape": "http://example.org/mandataris_1_1_blueprint",
           "validCount": 0
          },
          {
           "class": "http://www.w3.org/ns/person#Person",
           "className": "Person",
           "properties": [],
           "shapeName": "mandataris_1_1_blueprint",
           "sparqlValidationResults": [],
           "totalCount": 0,
           "uri": "http://data.lblod.info/id/personen/ce6f81e6b6f6532385fef31d06869b38c42bfeac154eb4c38e82fcd7c6c4a0b6",
           "usedShape": "http://example.org/mandataris_1_1_blueprint",
           "validCount": 0
          },
          {
           "class": "http://www.w3.org/ns/person#Person",
           "className": "Person",
           "properties": [],
           "shapeName": "mandataris_1_1_blueprint",
           "sparqlValidationResults": [],
           "totalCount": 0,
           "uri": "http://data.lblod.info/id/personen/d1f3f6564ad35654e4dcddf56974686501ae21f6ff9b90ceedf6f5d9b6962d2e",
           "usedShape": "http://example.org/mandataris_1_1_blueprint",
           "validCount": 0
          },
          {
           "class": "http://www.w3.org/ns/person#Person",
           "className": "Person",
           "properties": [],
           "shapeName": "mandataris_1_1_blueprint",
           "sparqlValidationResults": [],
           "totalCount": 0,
           "uri": "http://data.lblod.info/id/personen/d2b1ea47-de5a-4c38-844a-b800c30459c0",
           "usedShape": "http://example.org/mandataris_1_1_blueprint",
           "validCount": 0
          },
          {
           "class": "http://www.w3.org/ns/person#Person",
           "className": "Person",
           "properties": [],
           "shapeName": "mandataris_1_1_blueprint",
           "sparqlValidationResults": [],
           "totalCount": 0,
           "uri": "http://data.lblod.info/id/personen/00417bd0c735c148c740fca378e4bafe5ce8b0a2009d6700ab7f599f25b32815",
           "usedShape": "http://example.org/mandataris_1_1_blueprint",
           "validCount": 0
          },
          {
           "class": "http://www.w3.org/ns/person#Person",
           "className": "Person",
           "properties": [],
           "shapeName": "mandataris_1_1_blueprint",
           "sparqlValidationResults": [],
           "totalCount": 0,
           "uri": "http://data.lblod.info/id/personen/034efc463758ea2a4239c50eb2756aebf8bc8c3f18cd54668fb9246c0074aed1",
           "usedShape": "http://example.org/mandataris_1_1_blueprint",
           "validCount": 0
          },
          {
           "class": "http://www.w3.org/ns/person#Person",
           "className": "Person",
           "properties": [],
           "shapeName": "mandataris_1_1_blueprint",
           "sparqlValidationResults": [],
           "totalCount": 0,
           "uri": "http://data.lblod.info/id/personen/044f54d095aed82ec44ce1d56e93c0fc452bf643a59123cbb21c7b064484e1d2",
           "usedShape": "http://example.org/mandataris_1_1_blueprint",
           "validCount": 0
          },
          {
           "class": "http://www.w3.org/ns/person#Person",
           "className": "Person",
           "properties": [],
           "shapeName": "mandataris_1_1_blueprint",
           "sparqlValidationResults": [],
           "totalCount": 0,
           "uri": "http://data.lblod.info/id/personen/0a245018a9973b50f237b61712637714ea19ae1a2ab240f9f338d70cc2942d06",
           "usedShape": "http://example.org/mandataris_1_1_blueprint",
           "validCount": 0
          },
          {
           "class": "http://www.w3.org/ns/person#Person",
           "className": "Person",
           "properties": [],
           "shapeName": "mandataris_1_1_blueprint",
           "sparqlValidationResults": [],
           "totalCount": 0,
           "uri": "http://data.lblod.info/id/personen/0e870fa0bc32dfdabab30e8358bef800f19e8eea7f036a5164b890b7f0a29c52",
           "usedShape": "http://example.org/mandataris_1_1_blueprint",
           "validCount": 0
          },
          {
           "class": "http://www.w3.org/ns/person#Person",
           "className": "Person",
           "properties": [],
           "shapeName": "mandataris_1_1_blueprint",
           "sparqlValidationResults": [],
           "totalCount": 0,
           "uri": "http://data.lblod.info/id/personen/10a3f62bfa145c1d07537328ff9085fa875b1f3f37bf867615b55603477b45ee",
           "usedShape": "http://example.org/mandataris_1_1_blueprint",
           "validCount": 0
          },
          {
           "class": "http://www.w3.org/ns/person#Person",
           "className": "Person",
           "properties": [],
           "shapeName": "mandataris_1_1_blueprint",
           "sparqlValidationResults": [],
           "totalCount": 0,
           "uri": "http://data.lblod.info/id/personen/1fea10fe948b1160f0b2a088ed0f797829aa3625f9f2cb9404d00a70e2e561ab",
           "usedShape": "http://example.org/mandataris_1_1_blueprint",
           "validCount": 0
          },
          {
           "class": "http://www.w3.org/ns/person#Person",
           "className": "Person",
           "properties": [],
           "shapeName": "mandataris_1_1_blueprint",
           "sparqlValidationResults": [],
           "totalCount": 0,
           "uri": "http://data.lblod.info/id/personen/20a6fe7b63995cdcc9632a6ae6c6714027c3d4ddbef8b194360413c990b054d5",
           "usedShape": "http://example.org/mandataris_1_1_blueprint",
           "validCount": 0
          },
          {
           "class": "http://www.w3.org/ns/person#Person",
           "className": "Person",
           "properties": [],
           "shapeName": "mandataris_1_1_blueprint",
           "sparqlValidationResults": [],
           "totalCount": 0,
           "uri": "http://data.lblod.info/id/personen/252ac7ecd4d0956030cd6434dbef01b8c8ef417af65bcc0f5376eca4dfd8fd9d",
           "usedShape": "http://example.org/mandataris_1_1_blueprint",
           "validCount": 0
          },
          {
           "class": "http://www.w3.org/ns/person#Person",
           "className": "Person",
           "properties": [],
           "shapeName": "mandataris_1_1_blueprint",
           "sparqlValidationResults": [],
           "totalCount": 0,
           "uri": "http://data.lblod.info/id/personen/26fcf94ce763d97d336f8edc13363bc130010efd69114388f335c8b7977997a1",
           "usedShape": "http://example.org/mandataris_1_1_blueprint",
           "validCount": 0
          },
          {
           "class": "http://www.w3.org/ns/person#Person",
           "className": "Person",
           "properties": [],
           "shapeName": "mandataris_1_1_blueprint",
           "sparqlValidationResults": [],
           "totalCount": 0,
           "uri": "http://data.lblod.info/id/personen/27392078f0572f614574ea0cbc6083ba674eeada0e66e375cfa4613a3479d203",
           "usedShape": "http://example.org/mandataris_1_1_blueprint",
           "validCount": 0
          },
          {
           "class": "http://www.w3.org/ns/person#Person",
           "className": "Person",
           "properties": [],
           "shapeName": "mandataris_1_1_blueprint",
           "sparqlValidationResults": [],
           "totalCount": 0,
           "uri": "http://data.lblod.info/id/personen/2c42fb0980fb217e73170ffe422dd17014fde8aaf088cd1d88bdba21963d3386",
           "usedShape": "http://example.org/mandataris_1_1_blueprint",
           "validCount": 0
          },
          {
           "class": "http://www.w3.org/ns/person#Person",
           "className": "Person",
           "properties": [],
           "shapeName": "mandataris_1_1_blueprint",
           "sparqlValidationResults": [],
           "totalCount": 0,
           "uri": "http://data.lblod.info/id/personen/2e305c14266b973077d05dbad3aa1d1481f062fe37e1a61e8f62b29e8a1f096f",
           "usedShape": "http://example.org/mandataris_1_1_blueprint",
           "validCount": 0
          },
          {
           "class": "http://www.w3.org/ns/person#Person",
           "className": "Person",
           "properties": [],
           "shapeName": "mandataris_1_1_blueprint",
           "sparqlValidationResults": [],
           "totalCount": 0,
           "uri": "http://data.lblod.info/id/personen/30a91623c80d1a8f07097e178957c3bf87cb5b79d651d735058849b0e398e566",
           "usedShape": "http://example.org/mandataris_1_1_blueprint",
           "validCount": 0
          },
          {
           "class": "http://www.w3.org/ns/person#Person",
           "className": "Person",
           "properties": [],
           "shapeName": "mandataris_1_1_blueprint",
           "sparqlValidationResults": [],
           "totalCount": 0,
           "uri": "http://data.lblod.info/id/personen/31ae58e072e967a782ec1fd41f8f88be7023b017a1d481d614abf91114e9aee7",
           "usedShape": "http://example.org/mandataris_1_1_blueprint",
           "validCount": 0
          },
          {
           "class": "http://www.w3.org/ns/person#Person",
           "className": "Person",
           "properties": [],
           "shapeName": "mandataris_1_1_blueprint",
           "sparqlValidationResults": [],
           "totalCount": 0,
           "uri": "http://data.lblod.info/id/personen/36b2c8eb97452b5878fb2a5c0b29c5ef01e1ef7e119d11f6e2b4e5bceb10de01",
           "usedShape": "http://example.org/mandataris_1_1_blueprint",
           "validCount": 0
          },
          {
           "class": "http://www.w3.org/ns/person#Person",
           "className": "Person",
           "properties": [],
           "shapeName": "mandataris_1_1_blueprint",
           "sparqlValidationResults": [],
           "totalCount": 0,
           "uri": "http://data.lblod.info/id/personen/3730b20e83541f843ef549779bf7ee86797df8c9ace155378bb66d96a5d61876",
           "usedShape": "http://example.org/mandataris_1_1_blueprint",
           "validCount": 0
          },
          {
           "class": "http://www.w3.org/ns/person#Person",
           "className": "Person",
           "properties": [],
           "shapeName": "mandataris_1_1_blueprint",
           "sparqlValidationResults": [],
           "totalCount": 0,
           "uri": "http://data.lblod.info/id/personen/39ac2002a274fcc421d6ffb3341a6c09ba16001a00e141a246028a302748f01c",
           "usedShape": "http://example.org/mandataris_1_1_blueprint",
           "validCount": 0
          },
          {
           "class": "http://www.w3.org/ns/person#Person",
           "className": "Person",
           "properties": [],
           "shapeName": "mandataris_1_1_blueprint",
           "sparqlValidationResults": [],
           "totalCount": 0,
           "uri": "http://data.lblod.info/id/personen/3c41a58867b398c944a98317deb0ddc5a65209cc99833663249a614453464e98",
           "usedShape": "http://example.org/mandataris_1_1_blueprint",
           "validCount": 0
          },
          {
           "class": "http://www.w3.org/ns/person#Person",
           "className": "Person",
           "properties": [],
           "shapeName": "mandataris_1_1_blueprint",
           "sparqlValidationResults": [],
           "totalCount": 0,
           "uri": "http://data.lblod.info/id/personen/44e758034ec3e93a70897e32d4266b9522477bba78848bc143439c4ad9e30f3c",
           "usedShape": "http://example.org/mandataris_1_1_blueprint",
           "validCount": 0
          },
          {
           "class": "http://www.w3.org/ns/person#Person",
           "className": "Person",
           "properties": [],
           "shapeName": "mandataris_1_1_blueprint",
           "sparqlValidationResults": [],
           "totalCount": 0,
           "uri": "http://data.lblod.info/id/personen/4b328657397953dffb21df5a7198e1803ec447e0e3379eafbc3375a46e32a768",
           "usedShape": "http://example.org/mandataris_1_1_blueprint",
           "validCount": 0
          },
          {
           "class": "http://www.w3.org/ns/person#Person",
           "className": "Person",
           "properties": [],
           "shapeName": "mandataris_1_1_blueprint",
           "sparqlValidationResults": [],
           "totalCount": 0,
           "uri": "http://data.lblod.info/id/personen/4cde91471415e07f8f87a6dd8a6bd853ef03aeee86c4a404f74436499973877b",
           "usedShape": "http://example.org/mandataris_1_1_blueprint",
           "validCount": 0
          },
          {
           "class": "http://www.w3.org/ns/person#Person",
           "className": "Person",
           "properties": [],
           "shapeName": "mandataris_1_1_blueprint",
           "sparqlValidationResults": [],
           "totalCount": 0,
           "uri": "http://data.lblod.info/id/personen/50fa4067b4f15dbb00d8d748e02c1db4bbde94f14356a419f05392c8a35fdbdd",
           "usedShape": "http://example.org/mandataris_1_1_blueprint",
           "validCount": 0
          },
          {
           "class": "http://www.w3.org/ns/person#Person",
           "className": "Person",
           "properties": [],
           "shapeName": "mandataris_1_1_blueprint",
           "sparqlValidationResults": [],
           "totalCount": 0,
           "uri": "http://data.lblod.info/id/personen/51ecbbe8e8cdd33ec1c45e69f986b4c6e88dbbcb475747faf69cea6550debb17",
           "usedShape": "http://example.org/mandataris_1_1_blueprint",
           "validCount": 0
          },
          {
           "class": "http://www.w3.org/ns/person#Person",
           "className": "Person",
           "properties": [],
           "shapeName": "mandataris_1_1_blueprint",
           "sparqlValidationResults": [],
           "totalCount": 0,
           "uri": "http://data.lblod.info/id/personen/51f1bdcfa304656e5284fcb833378ea9d486b99dd5d71f6f1ee69e5a7842b823",
           "usedShape": "http://example.org/mandataris_1_1_blueprint",
           "validCount": 0
          },
          {
           "class": "http://www.w3.org/ns/person#Person",
           "className": "Person",
           "properties": [],
           "shapeName": "mandataris_1_1_blueprint",
           "sparqlValidationResults": [],
           "totalCount": 0,
           "uri": "http://data.lblod.info/id/personen/5219393997026168e35b8bcde81526c667c5426092610c91b359f550197be62e",
           "usedShape": "http://example.org/mandataris_1_1_blueprint",
           "validCount": 0
          },
          {
           "class": "http://www.w3.org/ns/person#Person",
           "className": "Person",
           "properties": [],
           "shapeName": "mandataris_1_1_blueprint",
           "sparqlValidationResults": [],
           "totalCount": 0,
           "uri": "http://data.lblod.info/id/personen/52535026487e42603a4aca17fbccf0f889a75665dbe86b5652d7b1cd188219fb",
           "usedShape": "http://example.org/mandataris_1_1_blueprint",
           "validCount": 0
          },
          {
           "class": "http://www.w3.org/ns/person#Person",
           "className": "Person",
           "properties": [],
           "shapeName": "mandataris_1_1_blueprint",
           "sparqlValidationResults": [],
           "totalCount": 0,
           "uri": "http://data.lblod.info/id/personen/52c5a769f4a833c723c58cef11f31070f418b75b701f797cf3a9947b1cf34f7e",
           "usedShape": "http://example.org/mandataris_1_1_blueprint",
           "validCount": 0
          },
          {
           "class": "http://www.w3.org/ns/person#Person",
           "className": "Person",
           "properties": [],
           "shapeName": "mandataris_1_1_blueprint",
           "sparqlValidationResults": [],
           "totalCount": 0,
           "uri": "http://data.lblod.info/id/personen/534931952097d48fe6e5335165d7435f5bba641bd74d2f78162420562050acc2",
           "usedShape": "http://example.org/mandataris_1_1_blueprint",
           "validCount": 0
          },
          {
           "class": "http://www.w3.org/ns/person#Person",
           "className": "Person",
           "properties": [],
           "shapeName": "mandataris_1_1_blueprint",
           "sparqlValidationResults": [],
           "totalCount": 0,
           "uri": "http://data.lblod.info/id/personen/540a41e1d5535347ba55988d7f25166a3eee8b5a9f6b67db494f9a0cede986fc",
           "usedShape": "http://example.org/mandataris_1_1_blueprint",
           "validCount": 0
          },
          {
           "class": "http://www.w3.org/ns/person#Person",
           "className": "Person",
           "properties": [],
           "shapeName": "mandataris_1_1_blueprint",
           "sparqlValidationResults": [],
           "totalCount": 0,
           "uri": "http://data.lblod.info/id/personen/59f1cffbff5321a082944ea9eed32aea7bc4a507236b4e17bec3ce0a83dc903e",
           "usedShape": "http://example.org/mandataris_1_1_blueprint",
           "validCount": 0
          },
          {
           "class": "http://www.w3.org/ns/person#Person",
           "className": "Person",
           "properties": [],
           "shapeName": "mandataris_1_1_blueprint",
           "sparqlValidationResults": [],
           "totalCount": 0,
           "uri": "http://data.lblod.info/id/personen/04a9a44b-93ab-4c7f-b85f-60976b43f462",
           "usedShape": "http://example.org/mandataris_1_1_blueprint",
           "validCount": 0
          },
          {
           "class": "http://www.w3.org/ns/person#Person",
           "className": "Person",
           "properties": [],
           "shapeName": "mandataris_1_1_blueprint",
           "sparqlValidationResults": [],
           "totalCount": 0,
           "uri": "http://data.lblod.info/id/personen/04cf48fa-1897-4d32-b37e-1c950af00dd6",
           "usedShape": "http://example.org/mandataris_1_1_blueprint",
           "validCount": 0
          },
          {
           "class": "http://www.w3.org/ns/person#Person",
           "className": "Person",
           "properties": [],
           "shapeName": "mandataris_1_1_blueprint",
           "sparqlValidationResults": [],
           "totalCount": 0,
           "uri": "http://data.lblod.info/id/personen/0a11b5b0-c557-449b-a76f-b0a4a0ebbe12",
           "usedShape": "http://example.org/mandataris_1_1_blueprint",
           "validCount": 0
          },
          {
           "class": "http://www.w3.org/ns/person#Person",
           "className": "Person",
           "properties": [],
           "shapeName": "mandataris_1_1_blueprint",
           "sparqlValidationResults": [],
           "totalCount": 0,
           "uri": "http://data.lblod.info/id/personen/1242f660-47f2-4f4d-8356-d0a005cbddf1",
           "usedShape": "http://example.org/mandataris_1_1_blueprint",
           "validCount": 0
          },
          {
           "class": "http://www.w3.org/ns/person#Person",
           "className": "Person",
           "properties": [],
           "shapeName": "mandataris_1_1_blueprint",
           "sparqlValidationResults": [],
           "totalCount": 0,
           "uri": "http://data.lblod.info/id/personen/1436fb35-ae33-440a-a339-c2a7d3e365a8",
           "usedShape": "http://example.org/mandataris_1_1_blueprint",
           "validCount": 0
          },
          {
           "class": "http://www.w3.org/ns/person#Person",
           "className": "Person",
           "properties": [],
           "shapeName": "mandataris_1_1_blueprint",
           "sparqlValidationResults": [],
           "totalCount": 0,
           "uri": "http://data.lblod.info/id/personen/171184da-6e12-420d-8e15-aff5f88fa82b",
           "usedShape": "http://example.org/mandataris_1_1_blueprint",
           "validCount": 0
          },
          {
           "class": "http://www.w3.org/ns/person#Person",
           "className": "Person",
           "properties": [],
           "shapeName": "mandataris_1_1_blueprint",
           "sparqlValidationResults": [],
           "totalCount": 0,
           "uri": "http://data.lblod.info/id/personen/18bd10ed-c339-4362-86d5-5d0a5b13d0b2",
           "usedShape": "http://example.org/mandataris_1_1_blueprint",
           "validCount": 0
          },
          {
           "class": "http://www.w3.org/ns/person#Person",
           "className": "Person",
           "properties": [],
           "shapeName": "mandataris_1_1_blueprint",
           "sparqlValidationResults": [],
           "totalCount": 0,
           "uri": "http://data.lblod.info/id/personen/2f64a9ce-bab8-4300-9e27-63e38dfa20c3",
           "usedShape": "http://example.org/mandataris_1_1_blueprint",
           "validCount": 0
          },
          {
           "class": "http://www.w3.org/ns/person#Person",
           "className": "Person",
           "properties": [],
           "shapeName": "mandataris_1_1_blueprint",
           "sparqlValidationResults": [],
           "totalCount": 0,
           "uri": "http://data.lblod.info/id/personen/33945acd-e7fb-4d0a-8097-1c734243fd1e",
           "usedShape": "http://example.org/mandataris_1_1_blueprint",
           "validCount": 0
          },
          {
           "class": "http://www.w3.org/ns/person#Person",
           "className": "Person",
           "properties": [],
           "shapeName": "mandataris_1_1_blueprint",
           "sparqlValidationResults": [],
           "totalCount": 0,
           "uri": "http://data.lblod.info/id/personen/3ad650fe-a80d-4347-a355-940214e15742",
           "usedShape": "http://example.org/mandataris_1_1_blueprint",
           "validCount": 0
          },
          {
           "class": "http://www.w3.org/ns/person#Person",
           "className": "Person",
           "properties": [],
           "shapeName": "mandataris_1_1_blueprint",
           "sparqlValidationResults": [],
           "totalCount": 0,
           "uri": "http://data.lblod.info/id/personen/3f90c3dd-3a55-48f0-be41-521c40472cb8",
           "usedShape": "http://example.org/mandataris_1_1_blueprint",
           "validCount": 0
          },
          {
           "class": "http://www.w3.org/ns/person#Person",
           "className": "Person",
           "properties": [],
           "shapeName": "mandataris_1_1_blueprint",
           "sparqlValidationResults": [],
           "totalCount": 0,
           "uri": "http://data.lblod.info/id/personen/4427129e-73a0-44c1-88c3-8a7a5294f551",
           "usedShape": "http://example.org/mandataris_1_1_blueprint",
           "validCount": 0
          },
          {
           "class": "http://www.w3.org/ns/person#Person",
           "className": "Person",
           "properties": [],
           "shapeName": "mandataris_1_1_blueprint",
           "sparqlValidationResults": [],
           "totalCount": 0,
           "uri": "http://data.lblod.info/id/personen/4ba23c61-6969-4681-9631-ea6d09219292",
           "usedShape": "http://example.org/mandataris_1_1_blueprint",
           "validCount": 0
          },
          {
           "class": "http://www.w3.org/ns/person#Person",
           "className": "Person",
           "properties": [],
           "shapeName": "mandataris_1_1_blueprint",
           "sparqlValidationResults": [],
           "totalCount": 0,
           "uri": "http://data.lblod.info/id/personen/4ce00f05-3197-4d09-a327-02b0bf9cb252",
           "usedShape": "http://example.org/mandataris_1_1_blueprint",
           "validCount": 0
          },
          {
           "class": "http://www.w3.org/ns/person#Person",
           "className": "Person",
           "properties": [],
           "shapeName": "mandataris_1_1_blueprint",
           "sparqlValidationResults": [],
           "totalCount": 0,
           "uri": "http://data.lblod.info/id/personen/50fdc499-19d2-4bdb-9997-0a32445ee901",
           "usedShape": "http://example.org/mandataris_1_1_blueprint",
           "validCount": 0
          },
          {
           "class": "http://www.w3.org/ns/person#Person",
           "className": "Person",
           "properties": [],
           "shapeName": "mandataris_1_1_blueprint",
           "sparqlValidationResults": [],
           "totalCount": 0,
           "uri": "http://data.lblod.info/id/personen/55c78634-3dad-4c34-ba1d-9ae4f54f7d16",
           "usedShape": "http://example.org/mandataris_1_1_blueprint",
           "validCount": 0
          },
          {
           "class": "http://www.w3.org/ns/person#Person",
           "className": "Person",
           "properties": [],
           "shapeName": "mandataris_1_1_blueprint",
           "sparqlValidationResults": [],
           "totalCount": 0,
           "uri": "http://data.lblod.info/id/personen/6143ca26-9540-4de9-b4e6-d50ed23400bf",
           "usedShape": "http://example.org/mandataris_1_1_blueprint",
           "validCount": 0
          },
          {
           "class": "http://www.w3.org/ns/person#Person",
           "className": "Person",
           "properties": [],
           "shapeName": "mandataris_1_1_blueprint",
           "sparqlValidationResults": [],
           "totalCount": 0,
           "uri": "http://data.lblod.info/id/personen/617e670c-7aff-4e4c-8c0c-524a61c1762a",
           "usedShape": "http://example.org/mandataris_1_1_blueprint",
           "validCount": 0
          },
          {
           "class": "http://www.w3.org/ns/person#Person",
           "className": "Person",
           "properties": [],
           "shapeName": "mandataris_1_1_blueprint",
           "sparqlValidationResults": [],
           "totalCount": 0,
           "uri": "http://data.lblod.info/id/personen/64d5abc4-2f54-4331-af97-037b10292fc3",
           "usedShape": "http://example.org/mandataris_1_1_blueprint",
           "validCount": 0
          },
          {
           "class": "http://www.w3.org/ns/person#Person",
           "className": "Person",
           "properties": [],
           "shapeName": "mandataris_1_1_blueprint",
           "sparqlValidationResults": [],
           "totalCount": 0,
           "uri": "http://data.lblod.info/id/personen/64df3228-e871-4c8e-8bf2-37235090054f",
           "usedShape": "http://example.org/mandataris_1_1_blueprint",
           "validCount": 0
          },
          {
           "class": "http://www.w3.org/ns/person#Person",
           "className": "Person",
           "properties": [],
           "shapeName": "mandataris_1_1_blueprint",
           "sparqlValidationResults": [],
           "totalCount": 0,
           "uri": "http://data.lblod.info/id/personen/69b88c24-2759-489d-bfa9-c60b438be227",
           "usedShape": "http://example.org/mandataris_1_1_blueprint",
           "validCount": 0
          },
          {
           "class": "http://www.w3.org/ns/person#Person",
           "className": "Person",
           "properties": [],
           "shapeName": "mandataris_1_1_blueprint",
           "sparqlValidationResults": [],
           "totalCount": 0,
           "uri": "http://data.lblod.info/id/personen/747bd642-3f1d-4b00-881f-ebd52d25bba4",
           "usedShape": "http://example.org/mandataris_1_1_blueprint",
           "validCount": 0
          },
          {
           "class": "http://www.w3.org/ns/person#Person",
           "className": "Person",
           "properties": [],
           "shapeName": "mandataris_1_1_blueprint",
           "sparqlValidationResults": [],
           "totalCount": 0,
           "uri": "http://data.lblod.info/id/personen/7ad32e11-056f-4a08-8847-3dc9fc1900cf",
           "usedShape": "http://example.org/mandataris_1_1_blueprint",
           "validCount": 0
          },
          {
           "class": "http://www.w3.org/ns/person#Person",
           "className": "Person",
           "properties": [],
           "shapeName": "mandataris_1_1_blueprint",
           "sparqlValidationResults": [],
           "totalCount": 0,
           "uri": "http://data.lblod.info/id/personen/898ac0ed-c374-4f6a-a3a0-35c9f59b2f2d",
           "usedShape": "http://example.org/mandataris_1_1_blueprint",
           "validCount": 0
          },
          {
           "class": "http://www.w3.org/ns/person#Person",
           "className": "Person",
           "properties": [],
           "shapeName": "mandataris_1_1_blueprint",
           "sparqlValidationResults": [],
           "totalCount": 0,
           "uri": "http://data.lblod.info/id/personen/89b7f103-ff85-4bcd-b5c3-bfff7570f7b0",
           "usedShape": "http://example.org/mandataris_1_1_blueprint",
           "validCount": 0
          },
          {
           "class": "http://www.w3.org/ns/person#Person",
           "className": "Person",
           "properties": [],
           "shapeName": "mandataris_1_1_blueprint",
           "sparqlValidationResults": [],
           "totalCount": 0,
           "uri": "http://data.lblod.info/id/personen/8dfbd0b8-a986-484a-944d-bc07304f2d1b",
           "usedShape": "http://example.org/mandataris_1_1_blueprint",
           "validCount": 0
          },
          {
           "class": "http://www.w3.org/ns/person#Person",
           "className": "Person",
           "properties": [],
           "shapeName": "mandataris_1_1_blueprint",
           "sparqlValidationResults": [],
           "totalCount": 0,
           "uri": "http://data.lblod.info/id/personen/9df6aa1b-3946-48fe-86dd-d24c627104fb",
           "usedShape": "http://example.org/mandataris_1_1_blueprint",
           "validCount": 0
          },
          {
           "class": "http://www.w3.org/ns/person#Person",
           "className": "Person",
           "properties": [],
           "shapeName": "mandataris_1_1_blueprint",
           "sparqlValidationResults": [],
           "totalCount": 0,
           "uri": "http://data.lblod.info/id/personen/b015c9db-f1f6-4775-9135-0366f297a61d",
           "usedShape": "http://example.org/mandataris_1_1_blueprint",
           "validCount": 0
          },
          {
           "class": "http://www.w3.org/ns/person#Person",
           "className": "Person",
           "properties": [],
           "shapeName": "mandataris_1_1_blueprint",
           "sparqlValidationResults": [],
           "totalCount": 0,
           "uri": "http://data.lblod.info/id/personen/b0cb19e5-36e1-48af-bb43-14f7a773cfb5",
           "usedShape": "http://example.org/mandataris_1_1_blueprint",
           "validCount": 0
          },
          {
           "class": "http://www.w3.org/ns/person#Person",
           "className": "Person",
           "properties": [],
           "shapeName": "mandataris_1_1_blueprint",
           "sparqlValidationResults": [],
           "totalCount": 0,
           "uri": "http://data.lblod.info/id/personen/b587b886-deda-450e-aabe-79445c0b7b7c",
           "usedShape": "http://example.org/mandataris_1_1_blueprint",
           "validCount": 0
          },
          {
           "class": "http://www.w3.org/ns/person#Person",
           "className": "Person",
           "properties": [],
           "shapeName": "mandataris_1_1_blueprint",
           "sparqlValidationResults": [],
           "totalCount": 0,
           "uri": "http://data.lblod.info/id/personen/bc0f80d2-2517-4130-ad06-25798b01334a",
           "usedShape": "http://example.org/mandataris_1_1_blueprint",
           "validCount": 0
          },
          {
           "class": "http://www.w3.org/ns/person#Person",
           "className": "Person",
           "properties": [],
           "shapeName": "mandataris_1_1_blueprint",
           "sparqlValidationResults": [],
           "totalCount": 0,
           "uri": "http://data.lblod.info/id/personen/bd186bd3-583e-45ec-82cb-ab9c61f8838b",
           "usedShape": "http://example.org/mandataris_1_1_blueprint",
           "validCount": 0
          },
          {
           "class": "http://www.w3.org/ns/person#Person",
           "className": "Person",
           "properties": [],
           "shapeName": "mandataris_1_1_blueprint",
           "sparqlValidationResults": [],
           "totalCount": 0,
           "uri": "http://data.lblod.info/id/personen/bd4dd402-d97c-4f75-8a31-99dce28fb8e1",
           "usedShape": "http://example.org/mandataris_1_1_blueprint",
           "validCount": 0
          },
          {
           "class": "http://www.w3.org/ns/person#Person",
           "className": "Person",
           "properties": [],
           "shapeName": "mandataris_1_1_blueprint",
           "sparqlValidationResults": [],
           "totalCount": 0,
           "uri": "http://data.lblod.info/id/personen/be9306b6-4d10-42ee-bb2b-b938c1418b7e",
           "usedShape": "http://example.org/mandataris_1_1_blueprint",
           "validCount": 0
          },
          {
           "class": "http://www.w3.org/ns/person#Person",
           "className": "Person",
           "properties": [],
           "shapeName": "mandataris_1_1_blueprint",
           "sparqlValidationResults": [],
           "totalCount": 0,
           "uri": "http://data.lblod.info/id/personen/ca1e3ad1-d191-4100-b323-076c866a13c0",
           "usedShape": "http://example.org/mandataris_1_1_blueprint",
           "validCount": 0
          },
          {
           "class": "http://www.w3.org/ns/person#Person",
           "className": "Person",
           "properties": [],
           "shapeName": "mandataris_1_1_blueprint",
           "sparqlValidationResults": [],
           "totalCount": 0,
           "uri": "http://data.lblod.info/id/personen/cd65e860-b372-4473-b9af-403aeb9f3abd",
           "usedShape": "http://example.org/mandataris_1_1_blueprint",
           "validCount": 0
          },
          {
           "class": "http://www.w3.org/ns/person#Person",
           "className": "Person",
           "properties": [],
           "shapeName": "mandataris_1_1_blueprint",
           "sparqlValidationResults": [],
           "totalCount": 0,
           "uri": "http://data.lblod.info/id/personen/d084e54e-da58-41cb-9a4c-f9a8a278f583",
           "usedShape": "http://example.org/mandataris_1_1_blueprint",
           "validCount": 0
          },
          {
           "class": "http://www.w3.org/ns/person#Person",
           "className": "Person",
           "properties": [],
           "shapeName": "mandataris_1_1_blueprint",
           "sparqlValidationResults": [],
           "totalCount": 0,
           "uri": "http://data.lblod.info/id/personen/d5835cf6-2cbc-4b6b-892d-357449042bc4",
           "usedShape": "http://example.org/mandataris_1_1_blueprint",
           "validCount": 0
          },
          {
           "class": "http://www.w3.org/ns/person#Person",
           "className": "Person",
           "properties": [],
           "shapeName": "mandataris_1_1_blueprint",
           "sparqlValidationResults": [],
           "totalCount": 0,
           "uri": "http://data.lblod.info/id/personen/d829a74d-1268-4abe-9c4d-f38862874e6e",
           "usedShape": "http://example.org/mandataris_1_1_blueprint",
           "validCount": 0
          },
          {
           "class": "http://www.w3.org/ns/person#Person",
           "className": "Person",
           "properties": [],
           "shapeName": "mandataris_1_1_blueprint",
           "sparqlValidationResults": [],
           "totalCount": 0,
           "uri": "http://data.lblod.info/id/personen/d89f6517dfc1bc39760e9acc277728750b13c271c0e99ed1f045203778140cf6",
           "usedShape": "http://example.org/mandataris_1_1_blueprint",
           "validCount": 0
          },
          {
           "class": "http://www.w3.org/ns/person#Person",
           "className": "Person",
           "properties": [],
           "shapeName": "mandataris_1_1_blueprint",
           "sparqlValidationResults": [],
           "totalCount": 0,
           "uri": "http://data.lblod.info/id/personen/da790286240d4b5830cc730aca4a8c596407568e04eeb7d0e0b6a8b7d4e400a5",
           "usedShape": "http://example.org/mandataris_1_1_blueprint",
           "validCount": 0
          },
          {
           "class": "http://www.w3.org/ns/person#Person",
           "className": "Person",
           "properties": [],
           "shapeName": "mandataris_1_1_blueprint",
           "sparqlValidationResults": [],
           "totalCount": 0,
           "uri": "http://data.lblod.info/id/personen/dcf9de6e270482ea21e004ffe4a838096ca56cd7e59aa66751e8b7b1d124e613",
           "usedShape": "http://example.org/mandataris_1_1_blueprint",
           "validCount": 0
          },
          {
           "class": "http://www.w3.org/ns/person#Person",
           "className": "Person",
           "properties": [],
           "shapeName": "mandataris_1_1_blueprint",
           "sparqlValidationResults": [],
           "totalCount": 0,
           "uri": "http://data.lblod.info/id/personen/dd6158f2-6797-45db-a280-c8fda00954b4",
           "usedShape": "http://example.org/mandataris_1_1_blueprint",
           "validCount": 0
          },
          {
           "class": "http://www.w3.org/ns/person#Person",
           "className": "Person",
           "properties": [],
           "shapeName": "mandataris_1_1_blueprint",
           "sparqlValidationResults": [],
           "totalCount": 0,
           "uri": "http://data.lblod.info/id/personen/e03f9f9796e46aa55982db0d637e796b292ce6b577c00a2e499a05a4bcf6734b",
           "usedShape": "http://example.org/mandataris_1_1_blueprint",
           "validCount": 0
          },
          {
           "class": "http://www.w3.org/ns/person#Person",
           "className": "Person",
           "properties": [],
           "shapeName": "mandataris_1_1_blueprint",
           "sparqlValidationResults": [],
           "totalCount": 0,
           "uri": "http://data.lblod.info/id/personen/e1fb8588-9a28-4cb4-8c8a-1b29cc55e2a1",
           "usedShape": "http://example.org/mandataris_1_1_blueprint",
           "validCount": 0
          },
          {
           "class": "http://www.w3.org/ns/person#Person",
           "className": "Person",
           "properties": [],
           "shapeName": "mandataris_1_1_blueprint",
           "sparqlValidationResults": [],
           "totalCount": 0,
           "uri": "http://data.lblod.info/id/personen/e47efb7a84eb5809b12fc2598dd400cdf14070d5ebd547f9d7cf90b63a58d3a3",
           "usedShape": "http://example.org/mandataris_1_1_blueprint",
           "validCount": 0
          },
          {
           "class": "http://www.w3.org/ns/person#Person",
           "className": "Person",
           "properties": [],
           "shapeName": "mandataris_1_1_blueprint",
           "sparqlValidationResults": [],
           "totalCount": 0,
           "uri": "http://data.lblod.info/id/personen/e4f4a9bd-b620-4fc6-884f-cbd6f1dbc6b6",
           "usedShape": "http://example.org/mandataris_1_1_blueprint",
           "validCount": 0
          },
          {
           "class": "http://www.w3.org/ns/person#Person",
           "className": "Person",
           "properties": [],
           "shapeName": "mandataris_1_1_blueprint",
           "sparqlValidationResults": [],
           "totalCount": 0,
           "uri": "http://data.lblod.info/id/personen/e58e36fcc6dbc01631d77a2add15e728b373622e2e35b9e20e4cf268840ce3b5",
           "usedShape": "http://example.org/mandataris_1_1_blueprint",
           "validCount": 0
          },
          {
           "class": "http://www.w3.org/ns/person#Person",
           "className": "Person",
           "properties": [],
           "shapeName": "mandataris_1_1_blueprint",
           "sparqlValidationResults": [],
           "totalCount": 0,
           "uri": "http://data.lblod.info/id/personen/e6048c260a16ac3d04b18758f5092a5e2fdeb7af2d7172d5c8e7e93552e263d0",
           "usedShape": "http://example.org/mandataris_1_1_blueprint",
           "validCount": 0
          },
          {
           "class": "http://www.w3.org/ns/person#Person",
           "className": "Person",
           "properties": [],
           "shapeName": "mandataris_1_1_blueprint",
           "sparqlValidationResults": [],
           "totalCount": 0,
           "uri": "http://data.lblod.info/id/personen/ea98e71eb8b7ec95f6256ef8ca1d04bbfa4791f3ac5c1038a86f79f311c58efd",
           "usedShape": "http://example.org/mandataris_1_1_blueprint",
           "validCount": 0
          },
          {
           "class": "http://www.w3.org/ns/person#Person",
           "className": "Person",
           "properties": [],
           "shapeName": "mandataris_1_1_blueprint",
           "sparqlValidationResults": [],
           "totalCount": 0,
           "uri": "http://data.lblod.info/id/personen/ebe63167182ef6a5fddeba6879a472822e4c482ab3fe2db2e4536a4c138611df",
           "usedShape": "http://example.org/mandataris_1_1_blueprint",
           "validCount": 0
          },
          {
           "class": "http://www.w3.org/ns/person#Person",
           "className": "Person",
           "properties": [],
           "shapeName": "mandataris_1_1_blueprint",
           "sparqlValidationResults": [],
           "totalCount": 0,
           "uri": "http://data.lblod.info/id/personen/f5d26b86e572395c10b62e7b940e770c3c8a7a3b1c5f969a418fbd0ff84a382b",
           "usedShape": "http://example.org/mandataris_1_1_blueprint",
           "validCount": 0
          },
          {
           "class": "http://www.w3.org/ns/person#Person",
           "className": "Person",
           "properties": [],
           "shapeName": "mandataris_1_1_blueprint",
           "sparqlValidationResults": [],
           "totalCount": 0,
           "uri": "http://data.lblod.info/id/personen/f65d5429-b285-4acd-99cc-6e8a80fa9036",
           "usedShape": "http://example.org/mandataris_1_1_blueprint",
           "validCount": 0
          },
          {
           "class": "http://www.w3.org/ns/person#Person",
           "className": "Person",
           "properties": [],
           "shapeName": "mandataris_1_1_blueprint",
           "sparqlValidationResults": [],
           "totalCount": 0,
           "uri": "http://data.lblod.info/id/personen/f70cbaabe4524ea7d8b4f0cbe7ae6405bc43882cc5d3e1503b069910bdc04504",
           "usedShape": "http://example.org/mandataris_1_1_blueprint",
           "validCount": 0
          },
          {
           "class": "http://www.w3.org/ns/person#Person",
           "className": "Person",
           "properties": [],
           "shapeName": "mandataris_1_1_blueprint",
           "sparqlValidationResults": [],
           "totalCount": 0,
           "uri": "http://data.lblod.info/id/personen/f77e1658-3c2b-4595-99cc-c2257c846731",
           "usedShape": "http://example.org/mandataris_1_1_blueprint",
           "validCount": 0
          },
          {
           "class": "http://www.w3.org/ns/person#Person",
           "className": "Person",
           "properties": [],
           "shapeName": "mandataris_1_1_blueprint",
           "sparqlValidationResults": [],
           "totalCount": 0,
           "uri": "http://data.lblod.info/id/personen/f8c135257b5774876f38deb954f600093a1cc680f46b387e0927f495f81f1121",
           "usedShape": "http://example.org/mandataris_1_1_blueprint",
           "validCount": 0
          },
          {
           "class": "http://www.w3.org/ns/person#Person",
           "className": "Person",
           "properties": [],
           "shapeName": "mandataris_1_1_blueprint",
           "sparqlValidationResults": [],
           "totalCount": 0,
           "uri": "http://data.lblod.info/id/personen/fac450c03d1d283e344029c4c6adf6d885f32f2da8656327b2ad68a3c189fb3f",
           "usedShape": "http://example.org/mandataris_1_1_blueprint",
           "validCount": 0
          },
          {
           "class": "http://www.w3.org/ns/person#Person",
           "className": "Person",
           "properties": [],
           "shapeName": "mandataris_1_1_blueprint",
           "sparqlValidationResults": [],
           "totalCount": 0,
           "uri": "http://data.lblod.info/id/personen/fb7ce8e8-e01b-4587-ab05-56fabe5abff2",
           "usedShape": "http://example.org/mandataris_1_1_blueprint",
           "validCount": 0
          },
          {
           "class": "http://www.w3.org/ns/person#Person",
           "className": "Person",
           "properties": [],
           "shapeName": "mandataris_1_1_blueprint",
           "sparqlValidationResults": [],
           "totalCount": 0,
           "uri": "http://data.lblod.info/id/personen/fc4bf21e-2b9e-4b14-8af2-d89ab9ca65fa",
           "usedShape": "http://example.org/mandataris_1_1_blueprint",
           "validCount": 0
          },
          {
           "class": "http://www.w3.org/ns/person#Person",
           "className": "Person",
           "properties": [],
           "shapeName": "mandataris_1_1_blueprint",
           "sparqlValidationResults": [],
           "totalCount": 0,
           "uri": "http://data.lblod.info/id/personen/fe9df4a04edcd29a80f45aaf2cf5fbf6fbdffad96917a1cf21e1c0e3ba3365bb",
           "usedShape": "http://example.org/mandataris_1_1_blueprint",
           "validCount": 0
          },
          {
           "class": "http://www.w3.org/ns/person#Person",
           "className": "Person",
           "properties": [],
           "shapeName": "mandataris_1_1_blueprint",
           "sparqlValidationResults": [],
           "totalCount": 0,
           "uri": "http://data.lblod.info/id/personen/ff33afe46e688ded22a64c3507fdf685f58576031934fa61832d19a1201632e0",
           "usedShape": "http://example.org/mandataris_1_1_blueprint",
           "validCount": 0
          }
         ]
        }
       ],
       "maturity": "Niveau 3"
      }
     },
     "metadata": {},
     "output_type": "display_data"
    }
   ],
   "source": [
    "const mandataris_1_1_validationReport = await validateDocument(bestuurseenheidBindings, mandataris_1_1_bindings);\n",
    "await display({ \"application/json\": mandataris_1_1_validationReport},{ raw: true });"
   ]
  },
  {
   "cell_type": "markdown",
   "metadata": {},
   "source": [
    "1.2 voor een mandataris vallen de start- en einddatums steeds binnen de \n",
    "bindingStart en bindingEinde van het bestuursorgaan"
   ]
  },
  {
   "cell_type": "code",
   "execution_count": 35,
   "metadata": {},
   "outputs": [],
   "source": [
    "const mandataris_1_2_query: string = `\n",
    "    PREFIX besluit: <http://data.vlaanderen.be/ns/besluit#>\n",
    "    PREFIX mandaat: <http://data.vlaanderen.be/ns/mandaat#>\n",
    "    PREFIX org: <http://www.w3.org/ns/org#>\n",
    "                \n",
    "    select DISTINCT ($this as ?this) ?value\n",
    "    where {\n",
    "        $this a mandaat:Mandataris ;\n",
    "            org:holds/^org:hasPost ?bestuursorgaanInTijd ;\n",
    "            mandaat:start ?startMandataris .\n",
    "        OPTIONAL {\n",
    "            $this mandaat:einde ?eindeMandataris .\n",
    "        }\n",
    "\n",
    "        ?bestuursorgaanInTijd mandaat:bindingStart ?startBestuursorgaan ;\n",
    "                              mandaat:bindingEinde ?eindeBestuursorgaan .\n",
    "\n",
    "        BIND(strdt(substr(str(?startMandataris), 1, 10), xsd:date) as ?startMandatarisDate)\n",
    "        BIND(strdt(substr(str(?eindeMandataris), 1, 10), xsd:date) as ?eindeMandatarisDate)\n",
    "        BIND(strdt(substr(str(?startBestuursorgaan), 1, 10), xsd:date) as ?startBestuursorgaanDate)\n",
    "        BIND(strdt(substr(str(?eindeBestuursorgaan), 1, 10), xsd:date) as ?eindeBestuursorgaanDate)\n",
    "        \n",
    "        BIND((?startMandatarisDate >= ?startBestuursorgaanDate && ?startMandatarisDate <= ?eindeBestuursorgaanDate) AS ?startValid)\n",
    "        BIND(if(!bound(?eindeMandatarisDate), true, ?eindeMandatarisDate >= ?startBestuursorgaanDate && ?eindeMandatarisDate <= ?eindeBestuursorgaanDate) as ?eindeValid)\n",
    "        \n",
    "        FILTER(!?startValid || !?eindeValid)\n",
    "       \n",
    "        BIND (\"Mandataris heeft start- en einddatum die buiten de bindingStart en bindingEinde van het bestuursorgaan vallen.\" as ?value)\n",
    "    }`;\n",
    "    \n",
    "const mandataris_1_2_shape: string = `\n",
    "@prefix sh: <http://www.w3.org/ns/shacl#> .\n",
    "\n",
    "<http://example.org/mandataris_1_2_blueprint>\n",
    "  a sh:NodeShape ;\n",
    "  sh:targetClass <http://data.vlaanderen.be/ns/mandaat#Mandataris> ;\n",
    "  sh:sparql [\n",
    "\t\tsh:select \"\"\"${mandataris_1_2_query}\"\"\" ;\n",
    "        sh:message 'Mandataris heeft start- en einddatum die buiten de bindingStart en bindingEinde van het bestuursorgaan vallen.'\n",
    "] .`;\n",
    "\n",
    "const mandataris_1_2_bindings: Bindings[] = await getBindingsFromTurtle(mandataris_1_2_shape);"
   ]
  },
  {
   "cell_type": "markdown",
   "metadata": {},
   "source": []
  },
  {
   "cell_type": "code",
   "execution_count": 36,
   "metadata": {},
   "outputs": [
    {
     "name": "stdout",
     "output_type": "stream",
     "text": [
      "https://query.linkeddatafragments.org/#datasources=http%3A%2F%2Flocalhost%3A8890%2Fsparql%2F%3Fdefault-graph-uri%3D%26query%3D%250Aconstruct%2520%257B%250A%2520%2520%253Fs%2520%253Fp%2520%253Fo%2520.%250A%257D%250Awhere%2520%257B%250Agraph%2520%253Chttp%253A%252F%252Fmu.semte.ch%252Fgraphs%252Forganizations%252Fd168033a9bac278fa744c425e078eeabd304397f953feaaf5327b4e039aecacb%252FLoketLB-mandaatGebruiker%253E%2520%257B%250A%2520%2520%2520%2520%253Fs%2520%253Fp%2520%253Fo%2520.%250A%2520%2520%257D%250A%257D%250A&query=%0A%20%20%20%20PREFIX%20besluit%3A%20%3Chttp%3A%2F%2Fdata.vlaanderen.be%2Fns%2Fbesluit%23%3E%0A%20%20%20%20PREFIX%20mandaat%3A%20%3Chttp%3A%2F%2Fdata.vlaanderen.be%2Fns%2Fmandaat%23%3E%0A%20%20%20%20PREFIX%20org%3A%20%3Chttp%3A%2F%2Fwww.w3.org%2Fns%2Forg%23%3E%0A%20%20%20%20%20%20%20%20%20%20%20%20%20%20%20%20%0A%20%20%20%20select%20DISTINCT%20(%3Chttp%3A%2F%2Fdata.lblod.info%2Fid%2Fmandatarissen%2F4a979b34-e796-4db4-b102-f2e5b9b65b4d%3E%20as%20%3Fthis)%20%3Fvalue%0A%20%20%20%20where%20%7B%0A%20%20%20%20%20%20%20%20%3Chttp%3A%2F%2Fdata.lblod.info%2Fid%2Fmandatarissen%2F4a979b34-e796-4db4-b102-f2e5b9b65b4d%3E%20a%20mandaat%3AMandataris%20%3B%0A%20%20%20%20%20%20%20%20%20%20%20%20org%3Aholds%2F%5Eorg%3AhasPost%20%3FbestuursorgaanInTijd%20%3B%0A%20%20%20%20%20%20%20%20%20%20%20%20mandaat%3Astart%20%3FstartMandataris%20.%0A%20%20%20%20%20%20%20%20OPTIONAL%20%7B%0A%20%20%20%20%20%20%20%20%20%20%20%20%3Chttp%3A%2F%2Fdata.lblod.info%2Fid%2Fmandatarissen%2F4a979b34-e796-4db4-b102-f2e5b9b65b4d%3E%20mandaat%3Aeinde%20%3FeindeMandataris%20.%0A%20%20%20%20%20%20%20%20%7D%0A%0A%20%20%20%20%20%20%20%20%3FbestuursorgaanInTijd%20mandaat%3AbindingStart%20%3FstartBestuursorgaan%20%3B%0A%20%20%20%20%20%20%20%20%20%20%20%20%20%20%20%20%20%20%20%20%20%20%20%20%20%20%20%20%20%20mandaat%3AbindingEinde%20%3FeindeBestuursorgaan%20.%0A%0A%20%20%20%20%20%20%20%20BIND(strdt(substr(str(%3FstartMandataris)%2C%201%2C%2010)%2C%20xsd%3Adate)%20as%20%3FstartMandatarisDate)%0A%20%20%20%20%20%20%20%20BIND(strdt(substr(str(%3FeindeMandataris)%2C%201%2C%2010)%2C%20xsd%3Adate)%20as%20%3FeindeMandatarisDate)%0A%20%20%20%20%20%20%20%20BIND(strdt(substr(str(%3FstartBestuursorgaan)%2C%201%2C%2010)%2C%20xsd%3Adate)%20as%20%3FstartBestuursorgaanDate)%0A%20%20%20%20%20%20%20%20BIND(strdt(substr(str(%3FeindeBestuursorgaan)%2C%201%2C%2010)%2C%20xsd%3Adate)%20as%20%3FeindeBestuursorgaanDate)%0A%20%20%20%20%20%20%20%20%0A%20%20%20%20%20%20%20%20BIND((%3FstartMandatarisDate%20%3E%3D%20%3FstartBestuursorgaanDate%20%26%26%20%3FstartMandatarisDate%20%3C%3D%20%3FeindeBestuursorgaanDate)%20AS%20%3FstartValid)%0A%20%20%20%20%20%20%20%20BIND(if(!bound(%3FeindeMandatarisDate)%2C%20true%2C%20%3FeindeMandatarisDate%20%3E%3D%20%3FstartBestuursorgaanDate%20%26%26%20%3FeindeMandatarisDate%20%3C%3D%20%3FeindeBestuursorgaanDate)%20as%20%3FeindeValid)%0A%20%20%20%20%20%20%20%20%0A%20%20%20%20%20%20%20%20FILTER(!%3FstartValid%20%7C%7C%20!%3FeindeValid)%0A%20%20%20%20%20%20%20%0A%20%20%20%20%20%20%20%20BIND%20(%22Mandataris%20heeft%20start-%20en%20einddatum%20die%20buiten%20de%20bindingStart%20en%20bindingEinde%20van%20het%20bestuursorgaan%20vallen.%22%20as%20%3Fvalue)%0A%20%20%20%20%7D\n"
     ]
    }
   ],
   "source": [
    "// Test subject\n",
    "const subject = 'http://data.lblod.info/id/mandatarissen/4a979b34-e796-4db4-b102-f2e5b9b65b4d';\n",
    "const mandataris_1_2_subject_query = mandataris_1_2_query.replaceAll('$this', `<${subject}>`);\n",
    "\n",
    "const mandataris_1_2_comunica = `https://query.linkeddatafragments.org/#datasources=${encodeURIComponent(bestuurseenheidUrl)}&query=${encodeURIComponent(mandataris_1_2_subject_query)}`;\n",
    "console.log(mandataris_1_2_comunica);"
   ]
  },
  {
   "cell_type": "code",
   "execution_count": 37,
   "metadata": {},
   "outputs": [
    {
     "data": {
      "application/json": {
       "classes": [
        {
         "className": "Mandataris",
         "classURI": "http://data.vlaanderen.be/ns/mandaat#Mandataris",
         "count": 88,
         "objects": [
          {
           "class": "http://data.vlaanderen.be/ns/mandaat#Mandataris",
           "className": "Mandataris",
           "properties": [],
           "shapeName": "mandataris_1_2_blueprint",
           "sparqlValidationResults": [],
           "totalCount": 0,
           "uri": "http://data.lblod.info/id/mandatarissen/5eb2389e-c552-42e2-8af6-ae68ba643cce",
           "usedShape": "http://example.org/mandataris_1_2_blueprint",
           "validCount": 0
          },
          {
           "class": "http://data.vlaanderen.be/ns/mandaat#Mandataris",
           "className": "Mandataris",
           "properties": [],
           "shapeName": "mandataris_1_2_blueprint",
           "sparqlValidationResults": [],
           "totalCount": 0,
           "uri": "http://data.lblod.info/id/mandatarissen/6116217CB7632D0008000032",
           "usedShape": "http://example.org/mandataris_1_2_blueprint",
           "validCount": 0
          },
          {
           "class": "http://data.vlaanderen.be/ns/mandaat#Mandataris",
           "className": "Mandataris",
           "properties": [],
           "shapeName": "mandataris_1_2_blueprint",
           "sparqlValidationResults": [],
           "totalCount": 0,
           "uri": "http://data.lblod.info/id/mandatarissen/61C2F761E4465300080002D9",
           "usedShape": "http://example.org/mandataris_1_2_blueprint",
           "validCount": 0
          },
          {
           "class": "http://data.vlaanderen.be/ns/mandaat#Mandataris",
           "className": "Mandataris",
           "properties": [],
           "shapeName": "mandataris_1_2_blueprint",
           "sparqlValidationResults": [],
           "totalCount": 0,
           "uri": "http://data.lblod.info/id/mandatarissen/61f98d07bfd0a81323d835707799faba47ad618304309e1949ca122272f85914",
           "usedShape": "http://example.org/mandataris_1_2_blueprint",
           "validCount": 0
          },
          {
           "class": "http://data.vlaanderen.be/ns/mandaat#Mandataris",
           "className": "Mandataris",
           "properties": [],
           "shapeName": "mandataris_1_2_blueprint",
           "sparqlValidationResults": [],
           "totalCount": 0,
           "uri": "http://data.lblod.info/id/mandatarissen/657854A5F32FEB6FCD78B2B2",
           "usedShape": "http://example.org/mandataris_1_2_blueprint",
           "validCount": 0
          },
          {
           "class": "http://data.vlaanderen.be/ns/mandaat#Mandataris",
           "className": "Mandataris",
           "properties": [],
           "shapeName": "mandataris_1_2_blueprint",
           "sparqlValidationResults": [],
           "totalCount": 0,
           "uri": "http://data.lblod.info/id/mandatarissen/65785517F32FEB6FCD78B2B3",
           "usedShape": "http://example.org/mandataris_1_2_blueprint",
           "validCount": 0
          },
          {
           "class": "http://data.vlaanderen.be/ns/mandaat#Mandataris",
           "className": "Mandataris",
           "properties": [],
           "shapeName": "mandataris_1_2_blueprint",
           "sparqlValidationResults": [],
           "totalCount": 0,
           "uri": "http://data.lblod.info/id/mandatarissen/66776faeaaac846527b17f1f6f425ea2b74cc00c0f126af6937e37533f806cd8",
           "usedShape": "http://example.org/mandataris_1_2_blueprint",
           "validCount": 0
          },
          {
           "class": "http://data.vlaanderen.be/ns/mandaat#Mandataris",
           "className": "Mandataris",
           "properties": [],
           "shapeName": "mandataris_1_2_blueprint",
           "sparqlValidationResults": [],
           "totalCount": 0,
           "uri": "http://data.lblod.info/id/mandatarissen/671B6DB10C2BDDC7570103F2",
           "usedShape": "http://example.org/mandataris_1_2_blueprint",
           "validCount": 0
          },
          {
           "class": "http://data.vlaanderen.be/ns/mandaat#Mandataris",
           "className": "Mandataris",
           "properties": [],
           "shapeName": "mandataris_1_2_blueprint",
           "sparqlValidationResults": [],
           "totalCount": 0,
           "uri": "http://data.lblod.info/id/mandatarissen/671B6DB20C2BDDC7570103F3",
           "usedShape": "http://example.org/mandataris_1_2_blueprint",
           "validCount": 0
          },
          {
           "class": "http://data.vlaanderen.be/ns/mandaat#Mandataris",
           "className": "Mandataris",
           "properties": [],
           "shapeName": "mandataris_1_2_blueprint",
           "sparqlValidationResults": [],
           "totalCount": 0,
           "uri": "http://data.lblod.info/id/mandatarissen/671B6DB20C2BDDC7570103F4",
           "usedShape": "http://example.org/mandataris_1_2_blueprint",
           "validCount": 0
          },
          {
           "class": "http://data.vlaanderen.be/ns/mandaat#Mandataris",
           "className": "Mandataris",
           "properties": [],
           "shapeName": "mandataris_1_2_blueprint",
           "sparqlValidationResults": [],
           "totalCount": 0,
           "uri": "http://data.lblod.info/id/mandatarissen/704b64995b214484a277d7fbbfdc39a6a6b96b32e96e26c453d7a85d5044c290",
           "usedShape": "http://example.org/mandataris_1_2_blueprint",
           "validCount": 0
          },
          {
           "class": "http://data.vlaanderen.be/ns/mandaat#Mandataris",
           "className": "Mandataris",
           "properties": [],
           "shapeName": "mandataris_1_2_blueprint",
           "sparqlValidationResults": [],
           "totalCount": 0,
           "uri": "http://data.lblod.info/id/mandatarissen/7a126014fc04089745d22e385007ed1d2c31db14e28c791f1c6eb8039d384ee9",
           "usedShape": "http://example.org/mandataris_1_2_blueprint",
           "validCount": 0
          },
          {
           "class": "http://data.vlaanderen.be/ns/mandaat#Mandataris",
           "className": "Mandataris",
           "properties": [],
           "shapeName": "mandataris_1_2_blueprint",
           "sparqlValidationResults": [],
           "totalCount": 0,
           "uri": "http://data.lblod.info/id/mandatarissen/7a9c9434c0abb0dd7e1609627329f4a9839ea82d49a2015ce8f0cbd77fdd815c",
           "usedShape": "http://example.org/mandataris_1_2_blueprint",
           "validCount": 0
          },
          {
           "class": "http://data.vlaanderen.be/ns/mandaat#Mandataris",
           "className": "Mandataris",
           "properties": [],
           "shapeName": "mandataris_1_2_blueprint",
           "sparqlValidationResults": [],
           "totalCount": 0,
           "uri": "http://data.lblod.info/id/mandatarissen/7aea365e-e96c-4992-b4e2-cb8719f63323",
           "usedShape": "http://example.org/mandataris_1_2_blueprint",
           "validCount": 0
          },
          {
           "class": "http://data.vlaanderen.be/ns/mandaat#Mandataris",
           "className": "Mandataris",
           "properties": [],
           "shapeName": "mandataris_1_2_blueprint",
           "sparqlValidationResults": [],
           "totalCount": 0,
           "uri": "http://data.lblod.info/id/mandatarissen/84f20e8f910bb37ac210ae29bf05447ad6a303f186276754389f786f5d4253d6",
           "usedShape": "http://example.org/mandataris_1_2_blueprint",
           "validCount": 0
          },
          {
           "class": "http://data.vlaanderen.be/ns/mandaat#Mandataris",
           "className": "Mandataris",
           "properties": [],
           "shapeName": "mandataris_1_2_blueprint",
           "sparqlValidationResults": [],
           "totalCount": 0,
           "uri": "http://data.lblod.info/id/mandatarissen/909fcdc70340afd2698dff9c9ca66d27441ee4f18946725e5cc62bb917e943e6",
           "usedShape": "http://example.org/mandataris_1_2_blueprint",
           "validCount": 0
          },
          {
           "class": "http://data.vlaanderen.be/ns/mandaat#Mandataris",
           "className": "Mandataris",
           "properties": [],
           "shapeName": "mandataris_1_2_blueprint",
           "sparqlValidationResults": [],
           "totalCount": 0,
           "uri": "http://data.lblod.info/id/mandatarissen/919658ac10912fc8aac6d6850aac840d8363beb92e4b408e8409c8192c3e9e40",
           "usedShape": "http://example.org/mandataris_1_2_blueprint",
           "validCount": 0
          },
          {
           "class": "http://data.vlaanderen.be/ns/mandaat#Mandataris",
           "className": "Mandataris",
           "properties": [],
           "shapeName": "mandataris_1_2_blueprint",
           "sparqlValidationResults": [],
           "totalCount": 0,
           "uri": "http://data.lblod.info/id/mandatarissen/975bbb789c57fb22a2cfa7d256baa9ed508d0e0369d6203250d181d07db5e3a3",
           "usedShape": "http://example.org/mandataris_1_2_blueprint",
           "validCount": 0
          },
          {
           "class": "http://data.vlaanderen.be/ns/mandaat#Mandataris",
           "className": "Mandataris",
           "properties": [],
           "shapeName": "mandataris_1_2_blueprint",
           "sparqlValidationResults": [],
           "totalCount": 0,
           "uri": "http://data.lblod.info/id/mandatarissen/a003e3ab4a0e246ef59267ce8b8dabd4519b839feab505738f6e18507bb4eada",
           "usedShape": "http://example.org/mandataris_1_2_blueprint",
           "validCount": 0
          },
          {
           "class": "http://data.vlaanderen.be/ns/mandaat#Mandataris",
           "className": "Mandataris",
           "properties": [],
           "shapeName": "mandataris_1_2_blueprint",
           "sparqlValidationResults": [],
           "totalCount": 0,
           "uri": "http://data.lblod.info/id/mandatarissen/a44017f9348a118a6cb835597ac9bfe29ddc1b78ee8417fd0e319c48d3191141",
           "usedShape": "http://example.org/mandataris_1_2_blueprint",
           "validCount": 0
          },
          {
           "class": "http://data.vlaanderen.be/ns/mandaat#Mandataris",
           "className": "Mandataris",
           "properties": [],
           "shapeName": "mandataris_1_2_blueprint",
           "sparqlValidationResults": [],
           "totalCount": 0,
           "uri": "http://data.lblod.info/id/mandatarissen/a4e077cd825800bb166f71132f4ee90d14f5ed5ad45d5d66b13e7ff11afdf221",
           "usedShape": "http://example.org/mandataris_1_2_blueprint",
           "validCount": 0
          },
          {
           "class": "http://data.vlaanderen.be/ns/mandaat#Mandataris",
           "className": "Mandataris",
           "properties": [],
           "shapeName": "mandataris_1_2_blueprint",
           "sparqlValidationResults": [],
           "totalCount": 0,
           "uri": "http://data.lblod.info/id/mandatarissen/ae1efffe4039a3894cdc831b2dedbb018273c1046f0c59ed34086fcbe4a3e573",
           "usedShape": "http://example.org/mandataris_1_2_blueprint",
           "validCount": 0
          },
          {
           "class": "http://data.vlaanderen.be/ns/mandaat#Mandataris",
           "className": "Mandataris",
           "properties": [],
           "shapeName": "mandataris_1_2_blueprint",
           "sparqlValidationResults": [],
           "totalCount": 0,
           "uri": "http://data.lblod.info/id/mandatarissen/ca0426441b05ecabc282e5ae1b61d196b625930454fbfb5b6578aea789a641bf",
           "usedShape": "http://example.org/mandataris_1_2_blueprint",
           "validCount": 0
          },
          {
           "class": "http://data.vlaanderen.be/ns/mandaat#Mandataris",
           "className": "Mandataris",
           "properties": [],
           "shapeName": "mandataris_1_2_blueprint",
           "sparqlValidationResults": [],
           "totalCount": 0,
           "uri": "http://data.lblod.info/id/mandatarissen/cc0416ef-6083-407c-a18c-fb2dfbeb6704",
           "usedShape": "http://example.org/mandataris_1_2_blueprint",
           "validCount": 0
          },
          {
           "class": "http://data.vlaanderen.be/ns/mandaat#Mandataris",
           "className": "Mandataris",
           "properties": [],
           "shapeName": "mandataris_1_2_blueprint",
           "sparqlValidationResults": [],
           "totalCount": 0,
           "uri": "http://data.lblod.info/id/mandatarissen/d45efd88e5859228ead505f0e6cc7db689c7083c73677b37c4aa9b0c34aed926",
           "usedShape": "http://example.org/mandataris_1_2_blueprint",
           "validCount": 0
          },
          {
           "class": "http://data.vlaanderen.be/ns/mandaat#Mandataris",
           "className": "Mandataris",
           "properties": [],
           "shapeName": "mandataris_1_2_blueprint",
           "sparqlValidationResults": [
            {
             "focusNode": "http://data.lblod.info/id/mandatarissen/dce31ef7-d71e-4d23-a385-9435a65072d3",
             "resultMessage": "Mandataris heeft start- en einddatum die buiten de bindingStart en bindingEinde van het bestuursorgaan vallen.",
             "value": "Mandataris heeft start- en einddatum die buiten de bindingStart en bindingEinde van het bestuursorgaan vallen."
            }
           ],
           "totalCount": 0,
           "uri": "http://data.lblod.info/id/mandatarissen/dce31ef7-d71e-4d23-a385-9435a65072d3",
           "usedShape": "http://example.org/mandataris_1_2_blueprint",
           "validCount": 0
          },
          {
           "class": "http://data.vlaanderen.be/ns/mandaat#Mandataris",
           "className": "Mandataris",
           "properties": [],
           "shapeName": "mandataris_1_2_blueprint",
           "sparqlValidationResults": [],
           "totalCount": 0,
           "uri": "http://data.lblod.info/id/mandatarissen/e4bef75511ed38b8a50eb368fae90f4af5cdf6297fda6c3dd78f95d6276ca34b",
           "usedShape": "http://example.org/mandataris_1_2_blueprint",
           "validCount": 0
          },
          {
           "class": "http://data.vlaanderen.be/ns/mandaat#Mandataris",
           "className": "Mandataris",
           "properties": [],
           "shapeName": "mandataris_1_2_blueprint",
           "sparqlValidationResults": [],
           "totalCount": 0,
           "uri": "http://data.lblod.info/id/mandatarissen/edeebb667848d3073475ca1221f5a1771c9d92b0823fcda694b46267d4d24e4b",
           "usedShape": "http://example.org/mandataris_1_2_blueprint",
           "validCount": 0
          },
          {
           "class": "http://data.vlaanderen.be/ns/mandaat#Mandataris",
           "className": "Mandataris",
           "properties": [],
           "shapeName": "mandataris_1_2_blueprint",
           "sparqlValidationResults": [],
           "totalCount": 0,
           "uri": "http://data.lblod.info/id/mandatarissen/f241cfa4c2de5eb1514935ee76ea6801850facc63ca4a926ac42d2c8168cb86d",
           "usedShape": "http://example.org/mandataris_1_2_blueprint",
           "validCount": 0
          },
          {
           "class": "http://data.vlaanderen.be/ns/mandaat#Mandataris",
           "className": "Mandataris",
           "properties": [],
           "shapeName": "mandataris_1_2_blueprint",
           "sparqlValidationResults": [],
           "totalCount": 0,
           "uri": "http://data.lblod.info/id/mandatarissen/f2ddbeff0a0912bd4b0037abcf52dfa80382a91cc13e2c84c8cf292d1953084f",
           "usedShape": "http://example.org/mandataris_1_2_blueprint",
           "validCount": 0
          },
          {
           "class": "http://data.vlaanderen.be/ns/mandaat#Mandataris",
           "className": "Mandataris",
           "properties": [],
           "shapeName": "mandataris_1_2_blueprint",
           "sparqlValidationResults": [],
           "totalCount": 0,
           "uri": "http://data.lblod.info/id/mandatarissen/f4ec3e1d6328e5463ea865583b9cb426e736e433a0f89dee0de9a9fd6442782f",
           "usedShape": "http://example.org/mandataris_1_2_blueprint",
           "validCount": 0
          },
          {
           "class": "http://data.vlaanderen.be/ns/mandaat#Mandataris",
           "className": "Mandataris",
           "properties": [],
           "shapeName": "mandataris_1_2_blueprint",
           "sparqlValidationResults": [],
           "totalCount": 0,
           "uri": "http://data.lblod.info/id/mandatarissen/f81545221e57f5681febd0cd0f53c567a959e6afb8aaa0407dd55582bdd94206",
           "usedShape": "http://example.org/mandataris_1_2_blueprint",
           "validCount": 0
          },
          {
           "class": "http://data.vlaanderen.be/ns/mandaat#Mandataris",
           "className": "Mandataris",
           "properties": [],
           "shapeName": "mandataris_1_2_blueprint",
           "sparqlValidationResults": [],
           "totalCount": 0,
           "uri": "http://data.lblod.info/id/mandatarissen/fd7b73c0f8b244b7f040b08ad2b2325e27e90aa77efe82da04c5a4d3b0788159",
           "usedShape": "http://example.org/mandataris_1_2_blueprint",
           "validCount": 0
          },
          {
           "class": "http://data.vlaanderen.be/ns/mandaat#Mandataris",
           "className": "Mandataris",
           "properties": [],
           "shapeName": "mandataris_1_2_blueprint",
           "sparqlValidationResults": [],
           "totalCount": 0,
           "uri": "http://data.lblod.info/id/mandatarissen/0a20b4d31a54cb0f80c5512b43b0d0a53ce79c6cfd3a5ba0cc7a7b61eea1bb52",
           "usedShape": "http://example.org/mandataris_1_2_blueprint",
           "validCount": 0
          },
          {
           "class": "http://data.vlaanderen.be/ns/mandaat#Mandataris",
           "className": "Mandataris",
           "properties": [],
           "shapeName": "mandataris_1_2_blueprint",
           "sparqlValidationResults": [
            {
             "focusNode": "http://data.lblod.info/id/mandatarissen/0b7d7d4d-bc09-43d9-957c-3adea1f1bb1f",
             "resultMessage": "Mandataris heeft start- en einddatum die buiten de bindingStart en bindingEinde van het bestuursorgaan vallen.",
             "value": "Mandataris heeft start- en einddatum die buiten de bindingStart en bindingEinde van het bestuursorgaan vallen."
            }
           ],
           "totalCount": 0,
           "uri": "http://data.lblod.info/id/mandatarissen/0b7d7d4d-bc09-43d9-957c-3adea1f1bb1f",
           "usedShape": "http://example.org/mandataris_1_2_blueprint",
           "validCount": 0
          },
          {
           "class": "http://data.vlaanderen.be/ns/mandaat#Mandataris",
           "className": "Mandataris",
           "properties": [],
           "shapeName": "mandataris_1_2_blueprint",
           "sparqlValidationResults": [],
           "totalCount": 0,
           "uri": "http://data.lblod.info/id/mandatarissen/0be74b796f2ad3337653c9ec55f435864ec8254e73ed6ebbd8fc15aea0086179",
           "usedShape": "http://example.org/mandataris_1_2_blueprint",
           "validCount": 0
          },
          {
           "class": "http://data.vlaanderen.be/ns/mandaat#Mandataris",
           "className": "Mandataris",
           "properties": [],
           "shapeName": "mandataris_1_2_blueprint",
           "sparqlValidationResults": [],
           "totalCount": 0,
           "uri": "http://data.lblod.info/id/mandatarissen/0e6b8d04482fde9f8eef81a81737e9a5297d32ca63f81c78da94c1e917bdbc46",
           "usedShape": "http://example.org/mandataris_1_2_blueprint",
           "validCount": 0
          },
          {
           "class": "http://data.vlaanderen.be/ns/mandaat#Mandataris",
           "className": "Mandataris",
           "properties": [],
           "shapeName": "mandataris_1_2_blueprint",
           "sparqlValidationResults": [
            {
             "focusNode": "http://data.lblod.info/id/mandatarissen/13c112a3-2376-4128-89d4-17449425a165",
             "resultMessage": "Mandataris heeft start- en einddatum die buiten de bindingStart en bindingEinde van het bestuursorgaan vallen.",
             "value": "Mandataris heeft start- en einddatum die buiten de bindingStart en bindingEinde van het bestuursorgaan vallen."
            }
           ],
           "totalCount": 0,
           "uri": "http://data.lblod.info/id/mandatarissen/13c112a3-2376-4128-89d4-17449425a165",
           "usedShape": "http://example.org/mandataris_1_2_blueprint",
           "validCount": 0
          },
          {
           "class": "http://data.vlaanderen.be/ns/mandaat#Mandataris",
           "className": "Mandataris",
           "properties": [],
           "shapeName": "mandataris_1_2_blueprint",
           "sparqlValidationResults": [],
           "totalCount": 0,
           "uri": "http://data.lblod.info/id/mandatarissen/15218ee9-b467-460c-8eeb-27d6fc0ff641",
           "usedShape": "http://example.org/mandataris_1_2_blueprint",
           "validCount": 0
          },
          {
           "class": "http://data.vlaanderen.be/ns/mandaat#Mandataris",
           "className": "Mandataris",
           "properties": [],
           "shapeName": "mandataris_1_2_blueprint",
           "sparqlValidationResults": [],
           "totalCount": 0,
           "uri": "http://data.lblod.info/id/mandatarissen/15d29eccac38097ce31dd2d47df247ce9e4da7abe40ab4f52ad147a89e19ae41",
           "usedShape": "http://example.org/mandataris_1_2_blueprint",
           "validCount": 0
          },
          {
           "class": "http://data.vlaanderen.be/ns/mandaat#Mandataris",
           "className": "Mandataris",
           "properties": [],
           "shapeName": "mandataris_1_2_blueprint",
           "sparqlValidationResults": [],
           "totalCount": 0,
           "uri": "http://data.lblod.info/id/mandatarissen/204e075cb6e10526c233c737fa3febc61c6c3cb5a1c585ae7972cd73ab8c27c9",
           "usedShape": "http://example.org/mandataris_1_2_blueprint",
           "validCount": 0
          },
          {
           "class": "http://data.vlaanderen.be/ns/mandaat#Mandataris",
           "className": "Mandataris",
           "properties": [],
           "shapeName": "mandataris_1_2_blueprint",
           "sparqlValidationResults": [],
           "totalCount": 0,
           "uri": "http://data.lblod.info/id/mandatarissen/2a826c2e9427542738e872e9289cfffb76f6f6a93ad00754f5ed132c2b943438",
           "usedShape": "http://example.org/mandataris_1_2_blueprint",
           "validCount": 0
          },
          {
           "class": "http://data.vlaanderen.be/ns/mandaat#Mandataris",
           "className": "Mandataris",
           "properties": [],
           "shapeName": "mandataris_1_2_blueprint",
           "sparqlValidationResults": [
            {
             "focusNode": "http://data.lblod.info/id/mandatarissen/2ad2db14-67da-48ac-b30e-181962aafe3a",
             "resultMessage": "Mandataris heeft start- en einddatum die buiten de bindingStart en bindingEinde van het bestuursorgaan vallen.",
             "value": "Mandataris heeft start- en einddatum die buiten de bindingStart en bindingEinde van het bestuursorgaan vallen."
            }
           ],
           "totalCount": 0,
           "uri": "http://data.lblod.info/id/mandatarissen/2ad2db14-67da-48ac-b30e-181962aafe3a",
           "usedShape": "http://example.org/mandataris_1_2_blueprint",
           "validCount": 0
          },
          {
           "class": "http://data.vlaanderen.be/ns/mandaat#Mandataris",
           "className": "Mandataris",
           "properties": [],
           "shapeName": "mandataris_1_2_blueprint",
           "sparqlValidationResults": [],
           "totalCount": 0,
           "uri": "http://data.lblod.info/id/mandatarissen/2fafdd24-17ad-43df-abad-65fa08c6d35c",
           "usedShape": "http://example.org/mandataris_1_2_blueprint",
           "validCount": 0
          },
          {
           "class": "http://data.vlaanderen.be/ns/mandaat#Mandataris",
           "className": "Mandataris",
           "properties": [],
           "shapeName": "mandataris_1_2_blueprint",
           "sparqlValidationResults": [
            {
             "focusNode": "http://data.lblod.info/id/mandatarissen/301f6e33-6245-453a-b7d0-89b494f155da",
             "resultMessage": "Mandataris heeft start- en einddatum die buiten de bindingStart en bindingEinde van het bestuursorgaan vallen.",
             "value": "Mandataris heeft start- en einddatum die buiten de bindingStart en bindingEinde van het bestuursorgaan vallen."
            }
           ],
           "totalCount": 0,
           "uri": "http://data.lblod.info/id/mandatarissen/301f6e33-6245-453a-b7d0-89b494f155da",
           "usedShape": "http://example.org/mandataris_1_2_blueprint",
           "validCount": 0
          },
          {
           "class": "http://data.vlaanderen.be/ns/mandaat#Mandataris",
           "className": "Mandataris",
           "properties": [],
           "shapeName": "mandataris_1_2_blueprint",
           "sparqlValidationResults": [],
           "totalCount": 0,
           "uri": "http://data.lblod.info/id/mandatarissen/38d3af110dba0b6e6874cc4db4ade30ea1a63382e9a9cf5a919c5d48b72a965b",
           "usedShape": "http://example.org/mandataris_1_2_blueprint",
           "validCount": 0
          },
          {
           "class": "http://data.vlaanderen.be/ns/mandaat#Mandataris",
           "className": "Mandataris",
           "properties": [],
           "shapeName": "mandataris_1_2_blueprint",
           "sparqlValidationResults": [],
           "totalCount": 0,
           "uri": "http://data.lblod.info/id/mandatarissen/3c5ac9c8-406d-46c2-9ec0-7d201f640bf1",
           "usedShape": "http://example.org/mandataris_1_2_blueprint",
           "validCount": 0
          },
          {
           "class": "http://data.vlaanderen.be/ns/mandaat#Mandataris",
           "className": "Mandataris",
           "properties": [],
           "shapeName": "mandataris_1_2_blueprint",
           "sparqlValidationResults": [],
           "totalCount": 0,
           "uri": "http://data.lblod.info/id/mandatarissen/3ea37179-5b3d-4a50-8c5d-491c1bf86864",
           "usedShape": "http://example.org/mandataris_1_2_blueprint",
           "validCount": 0
          },
          {
           "class": "http://data.vlaanderen.be/ns/mandaat#Mandataris",
           "className": "Mandataris",
           "properties": [],
           "shapeName": "mandataris_1_2_blueprint",
           "sparqlValidationResults": [
            {
             "focusNode": "http://data.lblod.info/id/mandatarissen/4a979b34-e796-4db4-b102-f2e5b9b65b4d",
             "resultMessage": "Mandataris heeft start- en einddatum die buiten de bindingStart en bindingEinde van het bestuursorgaan vallen.",
             "value": "Mandataris heeft start- en einddatum die buiten de bindingStart en bindingEinde van het bestuursorgaan vallen."
            }
           ],
           "totalCount": 0,
           "uri": "http://data.lblod.info/id/mandatarissen/4a979b34-e796-4db4-b102-f2e5b9b65b4d",
           "usedShape": "http://example.org/mandataris_1_2_blueprint",
           "validCount": 0
          },
          {
           "class": "http://data.vlaanderen.be/ns/mandaat#Mandataris",
           "className": "Mandataris",
           "properties": [],
           "shapeName": "mandataris_1_2_blueprint",
           "sparqlValidationResults": [],
           "totalCount": 0,
           "uri": "http://data.lblod.info/id/mandatarissen/513c6f58430856864fd770e1de8f4371aca71723304fc4a0c1df25b946916b10",
           "usedShape": "http://example.org/mandataris_1_2_blueprint",
           "validCount": 0
          },
          {
           "class": "http://data.vlaanderen.be/ns/mandaat#Mandataris",
           "className": "Mandataris",
           "properties": [],
           "shapeName": "mandataris_1_2_blueprint",
           "sparqlValidationResults": [],
           "totalCount": 0,
           "uri": "http://data.lblod.info/id/mandatarissen/54920fb796943ecd1f9ed01a2a17612f369f5aea8e4881e7a901b98cc968a511",
           "usedShape": "http://example.org/mandataris_1_2_blueprint",
           "validCount": 0
          },
          {
           "class": "http://data.vlaanderen.be/ns/mandaat#Mandataris",
           "className": "Mandataris",
           "properties": [],
           "shapeName": "mandataris_1_2_blueprint",
           "sparqlValidationResults": [],
           "totalCount": 0,
           "uri": "http://data.lblod.info/id/mandatarissen/5BB371B898360D00090003BA",
           "usedShape": "http://example.org/mandataris_1_2_blueprint",
           "validCount": 0
          },
          {
           "class": "http://data.vlaanderen.be/ns/mandaat#Mandataris",
           "className": "Mandataris",
           "properties": [],
           "shapeName": "mandataris_1_2_blueprint",
           "sparqlValidationResults": [],
           "totalCount": 0,
           "uri": "http://data.lblod.info/id/mandatarissen/5BB3737198360D00090003CA",
           "usedShape": "http://example.org/mandataris_1_2_blueprint",
           "validCount": 0
          },
          {
           "class": "http://data.vlaanderen.be/ns/mandaat#Mandataris",
           "className": "Mandataris",
           "properties": [],
           "shapeName": "mandataris_1_2_blueprint",
           "sparqlValidationResults": [],
           "totalCount": 0,
           "uri": "http://data.lblod.info/id/mandatarissen/5BB3740398360D00090003CF",
           "usedShape": "http://example.org/mandataris_1_2_blueprint",
           "validCount": 0
          },
          {
           "class": "http://data.vlaanderen.be/ns/mandaat#Mandataris",
           "className": "Mandataris",
           "properties": [],
           "shapeName": "mandataris_1_2_blueprint",
           "sparqlValidationResults": [],
           "totalCount": 0,
           "uri": "http://data.lblod.info/id/mandatarissen/5C41F5AA57753A0009000253",
           "usedShape": "http://example.org/mandataris_1_2_blueprint",
           "validCount": 0
          },
          {
           "class": "http://data.vlaanderen.be/ns/mandaat#Mandataris",
           "className": "Mandataris",
           "properties": [],
           "shapeName": "mandataris_1_2_blueprint",
           "sparqlValidationResults": [],
           "totalCount": 0,
           "uri": "http://data.lblod.info/id/mandatarissen/671B591E0C2BDDC757010387",
           "usedShape": "http://example.org/mandataris_1_2_blueprint",
           "validCount": 0
          },
          {
           "class": "http://data.vlaanderen.be/ns/mandaat#Mandataris",
           "className": "Mandataris",
           "properties": [],
           "shapeName": "mandataris_1_2_blueprint",
           "sparqlValidationResults": [],
           "totalCount": 0,
           "uri": "http://data.lblod.info/id/mandatarissen/671B591F0C2BDDC757010388",
           "usedShape": "http://example.org/mandataris_1_2_blueprint",
           "validCount": 0
          },
          {
           "class": "http://data.vlaanderen.be/ns/mandaat#Mandataris",
           "className": "Mandataris",
           "properties": [],
           "shapeName": "mandataris_1_2_blueprint",
           "sparqlValidationResults": [],
           "totalCount": 0,
           "uri": "http://data.lblod.info/id/mandatarissen/671B6DA60C2BDDC7570103E2",
           "usedShape": "http://example.org/mandataris_1_2_blueprint",
           "validCount": 0
          },
          {
           "class": "http://data.vlaanderen.be/ns/mandaat#Mandataris",
           "className": "Mandataris",
           "properties": [],
           "shapeName": "mandataris_1_2_blueprint",
           "sparqlValidationResults": [],
           "totalCount": 0,
           "uri": "http://data.lblod.info/id/mandatarissen/671B6DA80C2BDDC7570103E4",
           "usedShape": "http://example.org/mandataris_1_2_blueprint",
           "validCount": 0
          },
          {
           "class": "http://data.vlaanderen.be/ns/mandaat#Mandataris",
           "className": "Mandataris",
           "properties": [],
           "shapeName": "mandataris_1_2_blueprint",
           "sparqlValidationResults": [],
           "totalCount": 0,
           "uri": "http://data.lblod.info/id/mandatarissen/671B6DA90C2BDDC7570103E6",
           "usedShape": "http://example.org/mandataris_1_2_blueprint",
           "validCount": 0
          },
          {
           "class": "http://data.vlaanderen.be/ns/mandaat#Mandataris",
           "className": "Mandataris",
           "properties": [],
           "shapeName": "mandataris_1_2_blueprint",
           "sparqlValidationResults": [],
           "totalCount": 0,
           "uri": "http://data.lblod.info/id/mandatarissen/671B6DA90C2BDDC7570103E7",
           "usedShape": "http://example.org/mandataris_1_2_blueprint",
           "validCount": 0
          },
          {
           "class": "http://data.vlaanderen.be/ns/mandaat#Mandataris",
           "className": "Mandataris",
           "properties": [],
           "shapeName": "mandataris_1_2_blueprint",
           "sparqlValidationResults": [],
           "totalCount": 0,
           "uri": "http://data.lblod.info/id/mandatarissen/671B6DAA0C2BDDC7570103E8",
           "usedShape": "http://example.org/mandataris_1_2_blueprint",
           "validCount": 0
          },
          {
           "class": "http://data.vlaanderen.be/ns/mandaat#Mandataris",
           "className": "Mandataris",
           "properties": [],
           "shapeName": "mandataris_1_2_blueprint",
           "sparqlValidationResults": [],
           "totalCount": 0,
           "uri": "http://data.lblod.info/id/mandatarissen/671B6DAB0C2BDDC7570103E9",
           "usedShape": "http://example.org/mandataris_1_2_blueprint",
           "validCount": 0
          },
          {
           "class": "http://data.vlaanderen.be/ns/mandaat#Mandataris",
           "className": "Mandataris",
           "properties": [],
           "shapeName": "mandataris_1_2_blueprint",
           "sparqlValidationResults": [],
           "totalCount": 0,
           "uri": "http://data.lblod.info/id/mandatarissen/671B6DAB0C2BDDC7570103EA",
           "usedShape": "http://example.org/mandataris_1_2_blueprint",
           "validCount": 0
          },
          {
           "class": "http://data.vlaanderen.be/ns/mandaat#Mandataris",
           "className": "Mandataris",
           "properties": [],
           "shapeName": "mandataris_1_2_blueprint",
           "sparqlValidationResults": [],
           "totalCount": 0,
           "uri": "http://data.lblod.info/id/mandatarissen/671B6DAC0C2BDDC7570103EB",
           "usedShape": "http://example.org/mandataris_1_2_blueprint",
           "validCount": 0
          },
          {
           "class": "http://data.vlaanderen.be/ns/mandaat#Mandataris",
           "className": "Mandataris",
           "properties": [],
           "shapeName": "mandataris_1_2_blueprint",
           "sparqlValidationResults": [],
           "totalCount": 0,
           "uri": "http://data.lblod.info/id/mandatarissen/671B6DAD0C2BDDC7570103ED",
           "usedShape": "http://example.org/mandataris_1_2_blueprint",
           "validCount": 0
          },
          {
           "class": "http://data.vlaanderen.be/ns/mandaat#Mandataris",
           "className": "Mandataris",
           "properties": [],
           "shapeName": "mandataris_1_2_blueprint",
           "sparqlValidationResults": [],
           "totalCount": 0,
           "uri": "http://data.lblod.info/id/mandatarissen/671B6DAE0C2BDDC7570103EE",
           "usedShape": "http://example.org/mandataris_1_2_blueprint",
           "validCount": 0
          },
          {
           "class": "http://data.vlaanderen.be/ns/mandaat#Mandataris",
           "className": "Mandataris",
           "properties": [],
           "shapeName": "mandataris_1_2_blueprint",
           "sparqlValidationResults": [],
           "totalCount": 0,
           "uri": "http://data.lblod.info/id/mandatarissen/671B6DAE0C2BDDC7570103EF",
           "usedShape": "http://example.org/mandataris_1_2_blueprint",
           "validCount": 0
          },
          {
           "class": "http://data.vlaanderen.be/ns/mandaat#Mandataris",
           "className": "Mandataris",
           "properties": [],
           "shapeName": "mandataris_1_2_blueprint",
           "sparqlValidationResults": [],
           "totalCount": 0,
           "uri": "http://data.lblod.info/id/mandatarissen/671B6DAF0C2BDDC7570103F0",
           "usedShape": "http://example.org/mandataris_1_2_blueprint",
           "validCount": 0
          },
          {
           "class": "http://data.vlaanderen.be/ns/mandaat#Mandataris",
           "className": "Mandataris",
           "properties": [],
           "shapeName": "mandataris_1_2_blueprint",
           "sparqlValidationResults": [],
           "totalCount": 0,
           "uri": "http://data.lblod.info/id/mandatarissen/671B6DB00C2BDDC7570103F1",
           "usedShape": "http://example.org/mandataris_1_2_blueprint",
           "validCount": 0
          },
          {
           "class": "http://data.vlaanderen.be/ns/mandaat#Mandataris",
           "className": "Mandataris",
           "properties": [],
           "shapeName": "mandataris_1_2_blueprint",
           "sparqlValidationResults": [],
           "totalCount": 0,
           "uri": "http://data.lblod.info/id/mandatarissen/671B6DB30C2BDDC7570103F5",
           "usedShape": "http://example.org/mandataris_1_2_blueprint",
           "validCount": 0
          },
          {
           "class": "http://data.vlaanderen.be/ns/mandaat#Mandataris",
           "className": "Mandataris",
           "properties": [],
           "shapeName": "mandataris_1_2_blueprint",
           "sparqlValidationResults": [
            {
             "focusNode": "http://data.lblod.info/id/mandatarissen/71d1f9d3-11f1-4830-b801-3cd9efdd40f1",
             "resultMessage": "Mandataris heeft start- en einddatum die buiten de bindingStart en bindingEinde van het bestuursorgaan vallen.",
             "value": "Mandataris heeft start- en einddatum die buiten de bindingStart en bindingEinde van het bestuursorgaan vallen."
            }
           ],
           "totalCount": 0,
           "uri": "http://data.lblod.info/id/mandatarissen/71d1f9d3-11f1-4830-b801-3cd9efdd40f1",
           "usedShape": "http://example.org/mandataris_1_2_blueprint",
           "validCount": 0
          },
          {
           "class": "http://data.vlaanderen.be/ns/mandaat#Mandataris",
           "className": "Mandataris",
           "properties": [],
           "shapeName": "mandataris_1_2_blueprint",
           "sparqlValidationResults": [
            {
             "focusNode": "http://data.lblod.info/id/mandatarissen/7c985192-bf54-4c76-9eda-bc1278a78df3",
             "resultMessage": "Mandataris heeft start- en einddatum die buiten de bindingStart en bindingEinde van het bestuursorgaan vallen.",
             "value": "Mandataris heeft start- en einddatum die buiten de bindingStart en bindingEinde van het bestuursorgaan vallen."
            }
           ],
           "totalCount": 0,
           "uri": "http://data.lblod.info/id/mandatarissen/7c985192-bf54-4c76-9eda-bc1278a78df3",
           "usedShape": "http://example.org/mandataris_1_2_blueprint",
           "validCount": 0
          },
          {
           "class": "http://data.vlaanderen.be/ns/mandaat#Mandataris",
           "className": "Mandataris",
           "properties": [],
           "shapeName": "mandataris_1_2_blueprint",
           "sparqlValidationResults": [
            {
             "focusNode": "http://data.lblod.info/id/mandatarissen/800e80dc-b5c9-4681-8f0b-b96968cb2668",
             "resultMessage": "Mandataris heeft start- en einddatum die buiten de bindingStart en bindingEinde van het bestuursorgaan vallen.",
             "value": "Mandataris heeft start- en einddatum die buiten de bindingStart en bindingEinde van het bestuursorgaan vallen."
            }
           ],
           "totalCount": 0,
           "uri": "http://data.lblod.info/id/mandatarissen/800e80dc-b5c9-4681-8f0b-b96968cb2668",
           "usedShape": "http://example.org/mandataris_1_2_blueprint",
           "validCount": 0
          },
          {
           "class": "http://data.vlaanderen.be/ns/mandaat#Mandataris",
           "className": "Mandataris",
           "properties": [],
           "shapeName": "mandataris_1_2_blueprint",
           "sparqlValidationResults": [],
           "totalCount": 0,
           "uri": "http://data.lblod.info/id/mandatarissen/8e7167a0-f67f-4f57-8ec0-37c3a8e14c91",
           "usedShape": "http://example.org/mandataris_1_2_blueprint",
           "validCount": 0
          },
          {
           "class": "http://data.vlaanderen.be/ns/mandaat#Mandataris",
           "className": "Mandataris",
           "properties": [],
           "shapeName": "mandataris_1_2_blueprint",
           "sparqlValidationResults": [],
           "totalCount": 0,
           "uri": "http://data.lblod.info/id/mandatarissen/a98cb145-1635-43ee-8887-a96b25c05e91",
           "usedShape": "http://example.org/mandataris_1_2_blueprint",
           "validCount": 0
          },
          {
           "class": "http://data.vlaanderen.be/ns/mandaat#Mandataris",
           "className": "Mandataris",
           "properties": [],
           "shapeName": "mandataris_1_2_blueprint",
           "sparqlValidationResults": [],
           "totalCount": 0,
           "uri": "http://data.lblod.info/id/mandatarissen/abbd0fd2-ab00-44ae-a156-e4e96b9c434f",
           "usedShape": "http://example.org/mandataris_1_2_blueprint",
           "validCount": 0
          },
          {
           "class": "http://data.vlaanderen.be/ns/mandaat#Mandataris",
           "className": "Mandataris",
           "properties": [],
           "shapeName": "mandataris_1_2_blueprint",
           "sparqlValidationResults": [
            {
             "focusNode": "http://data.lblod.info/id/mandatarissen/aef431ab-74c8-4633-b873-1a2b8357bb07",
             "resultMessage": "Mandataris heeft start- en einddatum die buiten de bindingStart en bindingEinde van het bestuursorgaan vallen.",
             "value": "Mandataris heeft start- en einddatum die buiten de bindingStart en bindingEinde van het bestuursorgaan vallen."
            }
           ],
           "totalCount": 0,
           "uri": "http://data.lblod.info/id/mandatarissen/aef431ab-74c8-4633-b873-1a2b8357bb07",
           "usedShape": "http://example.org/mandataris_1_2_blueprint",
           "validCount": 0
          },
          {
           "class": "http://data.vlaanderen.be/ns/mandaat#Mandataris",
           "className": "Mandataris",
           "properties": [],
           "shapeName": "mandataris_1_2_blueprint",
           "sparqlValidationResults": [
            {
             "focusNode": "http://data.lblod.info/id/mandatarissen/b7a535ea-c778-46f5-b514-f1983c66b4ad",
             "resultMessage": "Mandataris heeft start- en einddatum die buiten de bindingStart en bindingEinde van het bestuursorgaan vallen.",
             "value": "Mandataris heeft start- en einddatum die buiten de bindingStart en bindingEinde van het bestuursorgaan vallen."
            }
           ],
           "totalCount": 0,
           "uri": "http://data.lblod.info/id/mandatarissen/b7a535ea-c778-46f5-b514-f1983c66b4ad",
           "usedShape": "http://example.org/mandataris_1_2_blueprint",
           "validCount": 0
          },
          {
           "class": "http://data.vlaanderen.be/ns/mandaat#Mandataris",
           "className": "Mandataris",
           "properties": [],
           "shapeName": "mandataris_1_2_blueprint",
           "sparqlValidationResults": [
            {
             "focusNode": "http://data.lblod.info/id/mandatarissen/c86726a6-d94a-496e-9933-3497f241b05d",
             "resultMessage": "Mandataris heeft start- en einddatum die buiten de bindingStart en bindingEinde van het bestuursorgaan vallen.",
             "value": "Mandataris heeft start- en einddatum die buiten de bindingStart en bindingEinde van het bestuursorgaan vallen."
            }
           ],
           "totalCount": 0,
           "uri": "http://data.lblod.info/id/mandatarissen/c86726a6-d94a-496e-9933-3497f241b05d",
           "usedShape": "http://example.org/mandataris_1_2_blueprint",
           "validCount": 0
          },
          {
           "class": "http://data.vlaanderen.be/ns/mandaat#Mandataris",
           "className": "Mandataris",
           "properties": [],
           "shapeName": "mandataris_1_2_blueprint",
           "sparqlValidationResults": [
            {
             "focusNode": "http://data.lblod.info/id/mandatarissen/c99034ce-648d-4b71-85f9-c3b455f88f1b",
             "resultMessage": "Mandataris heeft start- en einddatum die buiten de bindingStart en bindingEinde van het bestuursorgaan vallen.",
             "value": "Mandataris heeft start- en einddatum die buiten de bindingStart en bindingEinde van het bestuursorgaan vallen."
            }
           ],
           "totalCount": 0,
           "uri": "http://data.lblod.info/id/mandatarissen/c99034ce-648d-4b71-85f9-c3b455f88f1b",
           "usedShape": "http://example.org/mandataris_1_2_blueprint",
           "validCount": 0
          },
          {
           "class": "http://data.vlaanderen.be/ns/mandaat#Mandataris",
           "className": "Mandataris",
           "properties": [],
           "shapeName": "mandataris_1_2_blueprint",
           "sparqlValidationResults": [
            {
             "focusNode": "http://data.lblod.info/id/mandatarissen/d2adda8b-8900-4d0a-b795-3cf8d1ab5522",
             "resultMessage": "Mandataris heeft start- en einddatum die buiten de bindingStart en bindingEinde van het bestuursorgaan vallen.",
             "value": "Mandataris heeft start- en einddatum die buiten de bindingStart en bindingEinde van het bestuursorgaan vallen."
            }
           ],
           "totalCount": 0,
           "uri": "http://data.lblod.info/id/mandatarissen/d2adda8b-8900-4d0a-b795-3cf8d1ab5522",
           "usedShape": "http://example.org/mandataris_1_2_blueprint",
           "validCount": 0
          },
          {
           "class": "http://data.vlaanderen.be/ns/mandaat#Mandataris",
           "className": "Mandataris",
           "properties": [],
           "shapeName": "mandataris_1_2_blueprint",
           "sparqlValidationResults": [
            {
             "focusNode": "http://data.lblod.info/id/mandatarissen/d5548b99-e38f-4b6a-8a6d-c6ef0732028c",
             "resultMessage": "Mandataris heeft start- en einddatum die buiten de bindingStart en bindingEinde van het bestuursorgaan vallen.",
             "value": "Mandataris heeft start- en einddatum die buiten de bindingStart en bindingEinde van het bestuursorgaan vallen."
            }
           ],
           "totalCount": 0,
           "uri": "http://data.lblod.info/id/mandatarissen/d5548b99-e38f-4b6a-8a6d-c6ef0732028c",
           "usedShape": "http://example.org/mandataris_1_2_blueprint",
           "validCount": 0
          },
          {
           "class": "http://data.vlaanderen.be/ns/mandaat#Mandataris",
           "className": "Mandataris",
           "properties": [],
           "shapeName": "mandataris_1_2_blueprint",
           "sparqlValidationResults": [],
           "totalCount": 0,
           "uri": "http://data.lblod.info/id/mandatarissen/fbfc8fe7-7b65-46c2-b2ca-37857a98622a",
           "usedShape": "http://example.org/mandataris_1_2_blueprint",
           "validCount": 0
          },
          {
           "class": "http://data.vlaanderen.be/ns/mandaat#Mandataris",
           "className": "Mandataris",
           "properties": [],
           "shapeName": "mandataris_1_2_blueprint",
           "sparqlValidationResults": [],
           "totalCount": 0,
           "uri": "http://data.lblod.info/id/mandatarissen/671B6DA50C2BDDC7570103E1",
           "usedShape": "http://example.org/mandataris_1_2_blueprint",
           "validCount": 0
          },
          {
           "class": "http://data.vlaanderen.be/ns/mandaat#Mandataris",
           "className": "Mandataris",
           "properties": [],
           "shapeName": "mandataris_1_2_blueprint",
           "sparqlValidationResults": [],
           "totalCount": 0,
           "uri": "http://data.lblod.info/id/mandatarissen/671B6DA70C2BDDC7570103E3",
           "usedShape": "http://example.org/mandataris_1_2_blueprint",
           "validCount": 0
          },
          {
           "class": "http://data.vlaanderen.be/ns/mandaat#Mandataris",
           "className": "Mandataris",
           "properties": [],
           "shapeName": "mandataris_1_2_blueprint",
           "sparqlValidationResults": [],
           "totalCount": 0,
           "uri": "http://data.lblod.info/id/mandatarissen/671B6DA80C2BDDC7570103E5",
           "usedShape": "http://example.org/mandataris_1_2_blueprint",
           "validCount": 0
          },
          {
           "class": "http://data.vlaanderen.be/ns/mandaat#Mandataris",
           "className": "Mandataris",
           "properties": [],
           "shapeName": "mandataris_1_2_blueprint",
           "sparqlValidationResults": [],
           "totalCount": 0,
           "uri": "http://data.lblod.info/id/mandatarissen/671B6DAC0C2BDDC7570103EC",
           "usedShape": "http://example.org/mandataris_1_2_blueprint",
           "validCount": 0
          }
         ]
        }
       ],
       "maturity": "Niveau 3"
      }
     },
     "metadata": {},
     "output_type": "display_data"
    }
   ],
   "source": [
    "const mandataris_1_2_validationReport = await validateDocument(bestuurseenheidBindings, mandataris_1_2_bindings);\n",
    "await display({ \"application/json\": mandataris_1_2_validationReport},{ raw: true });"
   ]
  }
 ],
 "metadata": {
  "kernelspec": {
   "display_name": "Deno",
   "language": "typescript",
   "name": "deno"
  },
  "language_info": {
   "codemirror_mode": "typescript",
   "file_extension": ".ts",
   "mimetype": "text/x.typescript",
   "name": "typescript",
   "nbconvert_exporter": "script",
   "pygments_lexer": "typescript",
   "version": "5.6.2"
  }
 },
 "nbformat": 4,
 "nbformat_minor": 4
}
