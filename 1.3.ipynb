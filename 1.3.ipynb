{
 "cells": [
  {
   "cell_type": "markdown",
   "metadata": {},
   "source": [
    "# 1.3 voor een orgaan valt het aantal mandatarissen op elk moment tussen de min en max aantallen"
   ]
  },
  {
   "cell_type": "markdown",
   "metadata": {},
   "source": [
    "We load Javascript libraries to i) retrieve data (bindings) from a bestuurseenheid, ii) validate the document, and iii) display the JSON result."
   ]
  },
  {
   "cell_type": "code",
   "execution_count": 1,
   "metadata": {},
   "outputs": [],
   "source": [
    "import { getBestuurseenheidUrl } from \"./utils.ts\";\n",
    "import {  getBindingsFromTurtleContent, validateDocument, fetchDocument } from 'npm:@lblod/lib-decision-validation';\n",
    "import { display } from \"https://deno.land/x/display/mod.ts\";\n",
    "\n",
    "const bestuurseenheidUuid = 'd168033a9bac278fa744c425e078eeabd304397f953feaaf5327b4e039aecacb';\n",
    "const bestuurseenheidUrl = getBestuurseenheidUrl(bestuurseenheidUuid);\n",
    "const bestuurseenheidBindings = await fetchDocument(bestuurseenheidUrl);"
   ]
  },
  {
   "cell_type": "markdown",
   "metadata": {},
   "source": [
    "Below, we can find the SPARQL template query and SHACL shape for the 1.3 use case.\n",
    "The Turtle string is converted into bindings."
   ]
  },
  {
   "cell_type": "code",
   "execution_count": 2,
   "metadata": {},
   "outputs": [],
   "source": [
    "const mandataris_1_3_query: string = `\n",
    "    PREFIX besluit: <http://data.vlaanderen.be/ns/besluit#>\n",
    "    PREFIX mandaat: <http://data.vlaanderen.be/ns/mandaat#>\n",
    "    PREFIX org: <http://www.w3.org/ns/org#>\n",
    "    PREFIX lmb: <http://lblod.data.gift/vocabularies/lmb/>\n",
    "\n",
    "    select DISTINCT ($this as ?this) ?value\n",
    "    where {\n",
    "        $this a besluit:Bestuursorgaan ;\n",
    "                    org:hasPost ?mandaat .\n",
    "                    \n",
    "            ?mandaat lmb:minAantalHouders ?min ;\n",
    "                        lmb:maxAantalHouders ?max .\n",
    "        {\n",
    "            select ?startPunt ?mandaat (count(distinct ?mandataris) as ?aantalMandatarissen)\n",
    "            where {\n",
    "                ?mandataris a mandaat:Mandataris ;\n",
    "                    org:holds ?mandaat ;\n",
    "                    mandaat:status ?mandatarisStatus .\n",
    "                    mandaat:start ?startMandataris .\n",
    "                OPTIONAL {\n",
    "                    ?mandataris mandaat:einde ?eindeMandataris .\n",
    "                }\n",
    "\n",
    "                VALUES ?mandatarisStatus { <http://data.vlaanderen.be/id/concept/MandatarisStatusCode/e1ca6edd-55e1-4288-92a5-53f4cf71946a> \n",
    "                    <http://data.vlaanderen.be/id/concept/MandatarisStatusCode/21063a5b-912c-4241-841c-cc7fb3c73e75>\n",
    "                }\n",
    "                        \n",
    "                {\n",
    "                    select distinct ?startPunt ?mandaat\n",
    "                    where {\n",
    "                        $this a besluit:Bestuursorgaan ;\n",
    "                            org:hasPost ?mandaat ;\n",
    "                            mandaat:bindingStart ?startBestuursorgaan .\n",
    "\n",
    "                        OPTIONAL {\n",
    "                            $this mandaat:bindingEinde ?eindeBestuursorgaan .\n",
    "                        }\n",
    "\n",
    "                        ?mandataris org:holds ?mandaat ;\n",
    "                                    mandaat:start ?startPunt .\n",
    "\n",
    "                        BIND(strdt(substr(str(?startPunt), 1, 10), xsd:date) as ?startPuntDate)\n",
    "                        BIND(strdt(substr(str(?startBestuursorgaan), 1, 10), xsd:date) as ?startBestuursorgaanDate)\n",
    "                        BIND(strdt(substr(str(?eindeBestuursorgaan), 1, 10), xsd:date) as ?eindeBestuursorgaanDate)\n",
    "                        \n",
    "                        FILTER (?startPuntDate >= ?startBestuursorgaanDate)\n",
    "                        FILTER (if(bound(?eindeBestuursorgaan), ?startPuntDate <= ?eindeBestuursorgaanDate, true))\n",
    "                    }\n",
    "                }\n",
    "\n",
    "                FILTER (?startMandataris <= ?startPunt && ?eindeMandataris >= ?startPunt)\n",
    "            }\n",
    "            GROUP BY ?startPunt ?mandaat\n",
    "        }\n",
    "        FILTER (?aantalMandatarissen < ?min || ?aantalMandatarissen > ?max)\n",
    "\n",
    "        BIND (\"Dit bestuursorgaan bevat niet op elk moment het aantal effectieve/waarnemende mandatarissen tussen de min en max aantallen.\" as ?value)\n",
    "    }`;\n",
    "    \n",
    "const mandataris_1_3_shape: string = `\n",
    "@prefix sh: <http://www.w3.org/ns/shacl#> .\n",
    "\n",
    "<http://example.org/mandataris_1_3_blueprint>\n",
    "  a sh:NodeShape ;\n",
    "  sh:targetClass <http://data.vlaanderen.be/ns/besluit#Bestuursorgaan> ;\n",
    "  sh:sparql [\n",
    "\t\tsh:select \"\"\"${mandataris_1_3_query}\"\"\" ;\n",
    "        sh:message 'Dit bestuursorgaan bevat niet op elk moment het aantal effectieve/waarnemende mandatarissen tussen de min en max aantallen.'\n",
    "] .`;\n",
    "\n",
    "const mandataris_1_3_bindings: Bindings[] = await getBindingsFromTurtleContent(mandataris_1_3_shape);"
   ]
  },
  {
   "cell_type": "markdown",
   "metadata": {},
   "source": [
    "To test the shape, we retrieved a subject from the triple store that is applicable. In this case, we choose a bestuursorgaan URI.\n",
    "Then, the template query from above is applied on this subject.\n",
    "Next, a Comunica URL is generated to debug the results of this validation."
   ]
  },
  {
   "cell_type": "code",
   "execution_count": 3,
   "metadata": {},
   "outputs": [
    {
     "name": "stdout",
     "output_type": "stream",
     "text": [
      "https://query.linkeddatafragments.org/#datasources=http%3A%2F%2Flocalhost%3A8890%2Fsparql%2F%3Fdefault-graph-uri%3D%26query%3D%250A%2520%2520%2520%2520construct%2520%257B%250A%2520%2520%2520%2520%2520%2520%2520%2520%253Fs%2520%253Fp%2520%253Fo%2520.%250A%2520%2520%2520%2520%257D%250A%2520%2520%2520%2520where%2520%257B%250A%2520%2520%2520%2520%2520%2520%2520%2520graph%2520%253Chttp%253A%252F%252Fmu.semte.ch%252Fgraphs%252Forganizations%252Fd168033a9bac278fa744c425e078eeabd304397f953feaaf5327b4e039aecacb%252FLoketLB-mandaatGebruiker%253E%2520%257B%250A%2520%2520%2520%2520%2520%2520%2520%2520%2520%2520%2520%2520%253Fs%2520%253Fp%2520%253Fo%2520.%250A%2520%2520%2520%2520%2520%2520%2520%2520%257D%250A%2520%2520%2520%2520%257D%250A%2520%2520%2520%2520&query=%0A%20%20%20%20PREFIX%20besluit%3A%20%3Chttp%3A%2F%2Fdata.vlaanderen.be%2Fns%2Fbesluit%23%3E%0A%20%20%20%20PREFIX%20mandaat%3A%20%3Chttp%3A%2F%2Fdata.vlaanderen.be%2Fns%2Fmandaat%23%3E%0A%20%20%20%20PREFIX%20org%3A%20%3Chttp%3A%2F%2Fwww.w3.org%2Fns%2Forg%23%3E%0A%20%20%20%20PREFIX%20lmb%3A%20%3Chttp%3A%2F%2Flblod.data.gift%2Fvocabularies%2Flmb%2F%3E%0A%0A%20%20%20%20select%20DISTINCT%20(%3Chttp%3A%2F%2Fdata.lblod.info%2Fid%2Fbestuursorganen%2F9b0bc40a5992682b3482a74badb0ac4bc2f270b741dbafe20d39717f7c666863%3E%20as%20%3Fthis)%20%3Fvalue%0A%20%20%20%20where%20%7B%0A%20%20%20%20%20%20%20%20%3Chttp%3A%2F%2Fdata.lblod.info%2Fid%2Fbestuursorganen%2F9b0bc40a5992682b3482a74badb0ac4bc2f270b741dbafe20d39717f7c666863%3E%20a%20besluit%3ABestuursorgaan%20%3B%0A%20%20%20%20%20%20%20%20%20%20%20%20%20%20%20%20%20%20%20%20org%3AhasPost%20%3Fmandaat%20.%0A%20%20%20%20%20%20%20%20%20%20%20%20%20%20%20%20%20%20%20%20%0A%20%20%20%20%20%20%20%20%20%20%20%20%3Fmandaat%20lmb%3AminAantalHouders%20%3Fmin%20%3B%0A%20%20%20%20%20%20%20%20%20%20%20%20%20%20%20%20%20%20%20%20%20%20%20%20lmb%3AmaxAantalHouders%20%3Fmax%20.%0A%20%20%20%20%20%20%20%20%7B%0A%20%20%20%20%20%20%20%20%20%20%20%20select%20%3FstartPunt%20%3Fmandaat%20(count(distinct%20%3Fmandataris)%20as%20%3FaantalMandatarissen)%0A%20%20%20%20%20%20%20%20%20%20%20%20where%20%7B%0A%20%20%20%20%20%20%20%20%20%20%20%20%20%20%20%20%3Fmandataris%20a%20mandaat%3AMandataris%20%3B%0A%20%20%20%20%20%20%20%20%20%20%20%20%20%20%20%20%20%20%20%20org%3Aholds%20%3Fmandaat%20%3B%0A%20%20%20%20%20%20%20%20%20%20%20%20%20%20%20%20%20%20%20%20mandaat%3Astatus%20%3FmandatarisStatus%20.%0A%20%20%20%20%20%20%20%20%20%20%20%20%20%20%20%20%20%20%20%20mandaat%3Astart%20%3FstartMandataris%20.%0A%20%20%20%20%20%20%20%20%20%20%20%20%20%20%20%20OPTIONAL%20%7B%0A%20%20%20%20%20%20%20%20%20%20%20%20%20%20%20%20%20%20%20%20%3Fmandataris%20mandaat%3Aeinde%20%3FeindeMandataris%20.%0A%20%20%20%20%20%20%20%20%20%20%20%20%20%20%20%20%7D%0A%0A%20%20%20%20%20%20%20%20%20%20%20%20%20%20%20%20VALUES%20%3FmandatarisStatus%20%7B%20%3Chttp%3A%2F%2Fdata.vlaanderen.be%2Fid%2Fconcept%2FMandatarisStatusCode%2Fe1ca6edd-55e1-4288-92a5-53f4cf71946a%3E%20%0A%20%20%20%20%20%20%20%20%20%20%20%20%20%20%20%20%20%20%20%20%3Chttp%3A%2F%2Fdata.vlaanderen.be%2Fid%2Fconcept%2FMandatarisStatusCode%2F21063a5b-912c-4241-841c-cc7fb3c73e75%3E%0A%20%20%20%20%20%20%20%20%20%20%20%20%20%20%20%20%7D%0A%20%20%20%20%20%20%20%20%20%20%20%20%20%20%20%20%20%20%20%20%20%20%20%20%0A%20%20%20%20%20%20%20%20%20%20%20%20%20%20%20%20%7B%0A%20%20%20%20%20%20%20%20%20%20%20%20%20%20%20%20%20%20%20%20select%20distinct%20%3FstartPunt%20%3Fmandaat%0A%20%20%20%20%20%20%20%20%20%20%20%20%20%20%20%20%20%20%20%20where%20%7B%0A%20%20%20%20%20%20%20%20%20%20%20%20%20%20%20%20%20%20%20%20%20%20%20%20%3Chttp%3A%2F%2Fdata.lblod.info%2Fid%2Fbestuursorganen%2F9b0bc40a5992682b3482a74badb0ac4bc2f270b741dbafe20d39717f7c666863%3E%20a%20besluit%3ABestuursorgaan%20%3B%0A%20%20%20%20%20%20%20%20%20%20%20%20%20%20%20%20%20%20%20%20%20%20%20%20%20%20%20%20org%3AhasPost%20%3Fmandaat%20%3B%0A%20%20%20%20%20%20%20%20%20%20%20%20%20%20%20%20%20%20%20%20%20%20%20%20%20%20%20%20mandaat%3AbindingStart%20%3FstartBestuursorgaan%20.%0A%0A%20%20%20%20%20%20%20%20%20%20%20%20%20%20%20%20%20%20%20%20%20%20%20%20OPTIONAL%20%7B%0A%20%20%20%20%20%20%20%20%20%20%20%20%20%20%20%20%20%20%20%20%20%20%20%20%20%20%20%20%3Chttp%3A%2F%2Fdata.lblod.info%2Fid%2Fbestuursorganen%2F9b0bc40a5992682b3482a74badb0ac4bc2f270b741dbafe20d39717f7c666863%3E%20mandaat%3AbindingEinde%20%3FeindeBestuursorgaan%20.%0A%20%20%20%20%20%20%20%20%20%20%20%20%20%20%20%20%20%20%20%20%20%20%20%20%7D%0A%0A%20%20%20%20%20%20%20%20%20%20%20%20%20%20%20%20%20%20%20%20%20%20%20%20%3Fmandataris%20org%3Aholds%20%3Fmandaat%20%3B%0A%20%20%20%20%20%20%20%20%20%20%20%20%20%20%20%20%20%20%20%20%20%20%20%20%20%20%20%20%20%20%20%20%20%20%20%20mandaat%3Astart%20%3FstartPunt%20.%0A%0A%20%20%20%20%20%20%20%20%20%20%20%20%20%20%20%20%20%20%20%20%20%20%20%20BIND(strdt(substr(str(%3FstartPunt)%2C%201%2C%2010)%2C%20xsd%3Adate)%20as%20%3FstartPuntDate)%0A%20%20%20%20%20%20%20%20%20%20%20%20%20%20%20%20%20%20%20%20%20%20%20%20BIND(strdt(substr(str(%3FstartBestuursorgaan)%2C%201%2C%2010)%2C%20xsd%3Adate)%20as%20%3FstartBestuursorgaanDate)%0A%20%20%20%20%20%20%20%20%20%20%20%20%20%20%20%20%20%20%20%20%20%20%20%20BIND(strdt(substr(str(%3FeindeBestuursorgaan)%2C%201%2C%2010)%2C%20xsd%3Adate)%20as%20%3FeindeBestuursorgaanDate)%0A%20%20%20%20%20%20%20%20%20%20%20%20%20%20%20%20%20%20%20%20%20%20%20%20%0A%20%20%20%20%20%20%20%20%20%20%20%20%20%20%20%20%20%20%20%20%20%20%20%20FILTER%20(%3FstartPuntDate%20%3E%3D%20%3FstartBestuursorgaanDate)%0A%20%20%20%20%20%20%20%20%20%20%20%20%20%20%20%20%20%20%20%20%20%20%20%20FILTER%20(if(bound(%3FeindeBestuursorgaan)%2C%20%3FstartPuntDate%20%3C%3D%20%3FeindeBestuursorgaanDate%2C%20true))%0A%20%20%20%20%20%20%20%20%20%20%20%20%20%20%20%20%20%20%20%20%7D%0A%20%20%20%20%20%20%20%20%20%20%20%20%20%20%20%20%7D%0A%0A%20%20%20%20%20%20%20%20%20%20%20%20%20%20%20%20FILTER%20(%3FstartMandataris%20%3C%3D%20%3FstartPunt%20%26%26%20%3FeindeMandataris%20%3E%3D%20%3FstartPunt)%0A%20%20%20%20%20%20%20%20%20%20%20%20%7D%0A%20%20%20%20%20%20%20%20%20%20%20%20GROUP%20BY%20%3FstartPunt%20%3Fmandaat%0A%20%20%20%20%20%20%20%20%7D%0A%20%20%20%20%20%20%20%20FILTER%20(%3FaantalMandatarissen%20%3C%20%3Fmin%20%7C%7C%20%3FaantalMandatarissen%20%3E%20%3Fmax)%0A%0A%20%20%20%20%20%20%20%20BIND%20(%22Dit%20bestuursorgaan%20bevat%20niet%20op%20elk%20moment%20het%20aantal%20effectieve%2Fwaarnemende%20mandatarissen%20tussen%20de%20min%20en%20max%20aantallen.%22%20as%20%3Fvalue)%0A%20%20%20%20%7D\n"
     ]
    }
   ],
   "source": [
    "// Test subject\n",
    "const subject = 'http://data.lblod.info/id/bestuursorganen/9b0bc40a5992682b3482a74badb0ac4bc2f270b741dbafe20d39717f7c666863';\n",
    "const mandataris_1_3_subject_query = mandataris_1_3_query.replaceAll('$this', `<${subject}>`);\n",
    "\n",
    "const mandataris_1_3_comunica = `https://query.linkeddatafragments.org/#datasources=${encodeURIComponent(bestuurseenheidUrl)}&query=${encodeURIComponent(mandataris_1_3_subject_query)}`;\n",
    "console.log(mandataris_1_3_comunica);"
   ]
  },
  {
   "cell_type": "markdown",
   "metadata": {},
   "source": [
    "The full validation on all mandatarissen happens below:"
   ]
  },
  {
   "cell_type": "code",
   "execution_count": 4,
   "metadata": {},
   "outputs": [
    {
     "data": {
      "application/json": {
       "classes": [
        {
         "className": "Bestuursorgaan",
         "classURI": "http://data.vlaanderen.be/ns/besluit#Bestuursorgaan",
         "count": 18,
         "objects": [
          {
           "class": "http://data.vlaanderen.be/ns/besluit#Bestuursorgaan",
           "className": "Bestuursorgaan",
           "properties": [],
           "shapeName": "mandataris_1_3_blueprint",
           "sparqlValidationResults": [],
           "totalCount": 0,
           "uri": "http://data.lblod.info/id/bestuursorganen/06bc0217698d11b4db6d1dd6fe091360771a3d51d6a53e49d376ef546b6070d9",
           "usedShape": "http://example.org/mandataris_1_3_blueprint",
           "validCount": 0
          },
          {
           "class": "http://data.vlaanderen.be/ns/besluit#Bestuursorgaan",
           "className": "Bestuursorgaan",
           "properties": [],
           "shapeName": "mandataris_1_3_blueprint",
           "sparqlValidationResults": [],
           "totalCount": 0,
           "uri": "http://data.lblod.info/id/bestuursorganen/1b38f978da5d4db34b067743cf1d0bae228bbebd06a6608f7b27024eae5df4db",
           "usedShape": "http://example.org/mandataris_1_3_blueprint",
           "validCount": 0
          },
          {
           "class": "http://data.vlaanderen.be/ns/besluit#Bestuursorgaan",
           "className": "Bestuursorgaan",
           "properties": [],
           "shapeName": "mandataris_1_3_blueprint",
           "sparqlValidationResults": [],
           "totalCount": 0,
           "uri": "http://data.lblod.info/id/bestuursorganen/343930a61bf50ba52a1802f49b12cdad6b0939e18bb68da0a19137141a34b8cb",
           "usedShape": "http://example.org/mandataris_1_3_blueprint",
           "validCount": 0
          },
          {
           "class": "http://data.vlaanderen.be/ns/besluit#Bestuursorgaan",
           "className": "Bestuursorgaan",
           "properties": [],
           "shapeName": "mandataris_1_3_blueprint",
           "sparqlValidationResults": [],
           "totalCount": 0,
           "uri": "http://data.lblod.info/id/bestuursorganen/36d7138dfaaf02768b394ef6271622458ab69c2d8803048d6e613e8713b34e3b",
           "usedShape": "http://example.org/mandataris_1_3_blueprint",
           "validCount": 0
          },
          {
           "class": "http://data.vlaanderen.be/ns/besluit#Bestuursorgaan",
           "className": "Bestuursorgaan",
           "properties": [],
           "shapeName": "mandataris_1_3_blueprint",
           "sparqlValidationResults": [],
           "totalCount": 0,
           "uri": "http://data.lblod.info/id/bestuursorganen/5e1d5d34f3cc4c0ee2f97b82bcd1d6235fdcb12b8fbb4544947f2afe9b2bad4c",
           "usedShape": "http://example.org/mandataris_1_3_blueprint",
           "validCount": 0
          },
          {
           "class": "http://data.vlaanderen.be/ns/besluit#Bestuursorgaan",
           "className": "Bestuursorgaan",
           "properties": [],
           "shapeName": "mandataris_1_3_blueprint",
           "sparqlValidationResults": [],
           "totalCount": 0,
           "uri": "http://data.lblod.info/id/bestuursorganen/dc925db83fac594a4702009aaccd3b39512260baa1a18cd1d3a684d33341aa89",
           "usedShape": "http://example.org/mandataris_1_3_blueprint",
           "validCount": 0
          },
          {
           "class": "http://data.vlaanderen.be/ns/besluit#Bestuursorgaan",
           "className": "Bestuursorgaan",
           "properties": [],
           "shapeName": "mandataris_1_3_blueprint",
           "sparqlValidationResults": [],
           "totalCount": 0,
           "uri": "http://data.lblod.info/id/bestuursorganen/dd0625b36e658f748a2e9eac1f774a0736c84558b9b88a45b770744000dbe4ab",
           "usedShape": "http://example.org/mandataris_1_3_blueprint",
           "validCount": 0
          },
          {
           "class": "http://data.vlaanderen.be/ns/besluit#Bestuursorgaan",
           "className": "Bestuursorgaan",
           "properties": [],
           "shapeName": "mandataris_1_3_blueprint",
           "sparqlValidationResults": [],
           "totalCount": 0,
           "uri": "http://data.lblod.info/id/bestuursorganen/8e8fb094604069c9e7f7c95897327849b43fb8990205bb9beddea3f4bf70696d",
           "usedShape": "http://example.org/mandataris_1_3_blueprint",
           "validCount": 0
          },
          {
           "class": "http://data.vlaanderen.be/ns/besluit#Bestuursorgaan",
           "className": "Bestuursorgaan",
           "properties": [],
           "shapeName": "mandataris_1_3_blueprint",
           "sparqlValidationResults": [],
           "totalCount": 0,
           "uri": "http://data.lblod.info/id/bestuursorganen/c425e45d37a40dc0eb88f7908d616180034488e2ef9e0ea3c64391c02e8c979a",
           "usedShape": "http://example.org/mandataris_1_3_blueprint",
           "validCount": 0
          },
          {
           "class": "http://data.vlaanderen.be/ns/besluit#Bestuursorgaan",
           "className": "Bestuursorgaan",
           "properties": [],
           "shapeName": "mandataris_1_3_blueprint",
           "sparqlValidationResults": [],
           "totalCount": 0,
           "uri": "http://data.lblod.info/id/bestuursorganen/617cc82724a7e8c78f773b46ed2af4c1a6208eedb8a138a8f121c2738ee05ae7",
           "usedShape": "http://example.org/mandataris_1_3_blueprint",
           "validCount": 0
          },
          {
           "class": "http://data.vlaanderen.be/ns/besluit#Bestuursorgaan",
           "className": "Bestuursorgaan",
           "properties": [],
           "shapeName": "mandataris_1_3_blueprint",
           "sparqlValidationResults": [],
           "totalCount": 0,
           "uri": "http://data.lblod.info/id/bestuursorganen/0e1aadee8b6f3df63a5efe9498468d749df7d0f47538667c8542591e9fefc85f",
           "usedShape": "http://example.org/mandataris_1_3_blueprint",
           "validCount": 0
          },
          {
           "class": "http://data.vlaanderen.be/ns/besluit#Bestuursorgaan",
           "className": "Bestuursorgaan",
           "properties": [],
           "shapeName": "mandataris_1_3_blueprint",
           "sparqlValidationResults": [],
           "totalCount": 0,
           "uri": "http://data.lblod.info/id/bestuursorganen/54a641432896961b37d422aeef416025bc5b0650f366da70646e742c54872430",
           "usedShape": "http://example.org/mandataris_1_3_blueprint",
           "validCount": 0
          },
          {
           "class": "http://data.vlaanderen.be/ns/besluit#Bestuursorgaan",
           "className": "Bestuursorgaan",
           "properties": [],
           "shapeName": "mandataris_1_3_blueprint",
           "sparqlValidationResults": [],
           "totalCount": 0,
           "uri": "http://data.lblod.info/id/bestuursorganen/715a94f877210080cd64b07bf584328d55cd5d2f4153d90d12e4ae09fea6f7d2",
           "usedShape": "http://example.org/mandataris_1_3_blueprint",
           "validCount": 0
          },
          {
           "class": "http://data.vlaanderen.be/ns/besluit#Bestuursorgaan",
           "className": "Bestuursorgaan",
           "properties": [],
           "shapeName": "mandataris_1_3_blueprint",
           "sparqlValidationResults": [],
           "totalCount": 0,
           "uri": "http://data.lblod.info/id/bestuursorganen/9b0bc40a5992682b3482a74badb0ac4bc2f270b741dbafe20d39717f7c666863",
           "usedShape": "http://example.org/mandataris_1_3_blueprint",
           "validCount": 0
          },
          {
           "class": "http://data.vlaanderen.be/ns/besluit#Bestuursorgaan",
           "className": "Bestuursorgaan",
           "properties": [],
           "shapeName": "mandataris_1_3_blueprint",
           "sparqlValidationResults": [],
           "totalCount": 0,
           "uri": "http://data.lblod.info/id/bestuursorganen/47520430ebf69096145d6c1aa3d422b48b588a2fb2f9e4aa437378aaca1eaaff",
           "usedShape": "http://example.org/mandataris_1_3_blueprint",
           "validCount": 0
          },
          {
           "class": "http://data.vlaanderen.be/ns/besluit#Bestuursorgaan",
           "className": "Bestuursorgaan",
           "properties": [],
           "shapeName": "mandataris_1_3_blueprint",
           "sparqlValidationResults": [],
           "totalCount": 0,
           "uri": "http://data.lblod.info/id/bestuursorganen/0466964ca7d630a467f154896e78888c64f45f7ada7b28e0de7f4e7c60a4d3e0",
           "usedShape": "http://example.org/mandataris_1_3_blueprint",
           "validCount": 0
          },
          {
           "class": "http://data.vlaanderen.be/ns/besluit#Bestuursorgaan",
           "className": "Bestuursorgaan",
           "properties": [],
           "shapeName": "mandataris_1_3_blueprint",
           "sparqlValidationResults": [],
           "totalCount": 0,
           "uri": "http://data.lblod.info/id/bestuursorganen/7b05cdb09e60b4605b542b297e0dfa4f759bfc7ed00c507dc1a51623d199aea8",
           "usedShape": "http://example.org/mandataris_1_3_blueprint",
           "validCount": 0
          },
          {
           "class": "http://data.vlaanderen.be/ns/besluit#Bestuursorgaan",
           "className": "Bestuursorgaan",
           "properties": [],
           "shapeName": "mandataris_1_3_blueprint",
           "sparqlValidationResults": [],
           "totalCount": 0,
           "uri": "http://data.lblod.info/id/bestuursorganen/5332e4c665b7ccaa1db7f556cad1fb92a62741e98b783df117303b26f2cf4bb5",
           "usedShape": "http://example.org/mandataris_1_3_blueprint",
           "validCount": 0
          }
         ]
        }
       ],
       "maturity": "Niveau 3"
      }
     },
     "metadata": {},
     "output_type": "display_data"
    }
   ],
   "source": [
    "const mandataris_1_3_validationReport = await validateDocument(bestuurseenheidBindings, mandataris_1_3_bindings);\n",
    "await display({ \"application/json\": mandataris_1_3_validationReport},{ raw: true });"
   ]
  }
 ],
 "metadata": {
  "kernelspec": {
   "display_name": "Deno",
   "language": "typescript",
   "name": "deno"
  },
  "language_info": {
   "codemirror_mode": "typescript",
   "file_extension": ".ts",
   "mimetype": "text/x.typescript",
   "name": "typescript",
   "nbconvert_exporter": "script",
   "pygments_lexer": "typescript",
   "version": "5.6.2"
  }
 },
 "nbformat": 4,
 "nbformat_minor": 4
}
