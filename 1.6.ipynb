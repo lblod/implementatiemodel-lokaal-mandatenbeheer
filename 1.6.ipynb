{
 "cells": [
  {
   "cell_type": "markdown",
   "metadata": {},
   "source": [
    "# 1.6 een mandataris heeft steeds een startdatum"
   ]
  },
  {
   "cell_type": "markdown",
   "metadata": {},
   "source": [
    "We load Javascript libraries to i) retrieve data (bindings) from a bestuurseenheid, ii) validate the document, and iii) display the JSON result."
   ]
  },
  {
   "cell_type": "code",
   "execution_count": 1,
   "metadata": {},
   "outputs": [],
   "source": [
    "import { getBestuurseenheidUrl } from \"./utils.ts\";\n",
    "import {  getBindingsFromTurtleContent, validateDocument, fetchDocument } from 'npm:@lblod/lib-decision-validation';\n",
    "import { display } from \"https://deno.land/x/display/mod.ts\";\n",
    "\n",
    "const bestuurseenheidUuid = 'd168033a9bac278fa744c425e078eeabd304397f953feaaf5327b4e039aecacb';\n",
    "const bestuurseenheidUrl = getBestuurseenheidUrl(bestuurseenheidUuid);\n",
    "const bestuurseenheidBindings = await fetchDocument(bestuurseenheidUrl);"
   ]
  },
  {
   "cell_type": "markdown",
   "metadata": {},
   "source": [
    "Below, we can find the SPARQL template query and SHACL shape for the 1.3 use case.\n",
    "The Turtle string is converted into bindings."
   ]
  },
  {
   "cell_type": "code",
   "execution_count": 3,
   "metadata": {},
   "outputs": [],
   "source": [
    "const mandataris_1_6_query: string = `\n",
    "    PREFIX besluit: <http://data.vlaanderen.be/ns/besluit#>\n",
    "    PREFIX mandaat: <http://data.vlaanderen.be/ns/mandaat#>\n",
    "    PREFIX org: <http://www.w3.org/ns/org#>\n",
    "    PREFIX lmb: <http://lblod.data.gift/vocabularies/lmb/>\n",
    "\n",
    "    select DISTINCT ($this as ?this) ?value\n",
    "    where {\n",
    "        $this a mandaat:Mandataris .\n",
    "        FILTER NOT EXISTS {\n",
    "            $this mandaat:start ?start .\n",
    "        }\n",
    "       \n",
    "        BIND (\"Mandataris heeft geen startdatum.\" as ?value)\n",
    "    }`;\n",
    "    \n",
    "const mandataris_1_6_shape: string = `\n",
    "@prefix sh: <http://www.w3.org/ns/shacl#> .\n",
    "\n",
    "<http://example.org/mandataris_1_6_blueprint>\n",
    "  a sh:NodeShape ;\n",
    "  sh:targetClass <http://data.vlaanderen.be/ns/mandaat#Mandataris> ;\n",
    "  sh:sparql [\n",
    "\t\tsh:select \"\"\"${mandataris_1_6_query}\"\"\" ;\n",
    "        sh:message 'Mandataris heeft geen startdatum.'\n",
    "] .`;\n",
    "\n",
    "const mandataris_1_6_bindings: Bindings[] = await getBindingsFromTurtleContent(mandataris_1_6_shape);"
   ]
  },
  {
   "cell_type": "markdown",
   "metadata": {},
   "source": [
    "To test the shape, we retrieved a subject from the triple store that is applicable. In this case, we choose a mandataris URI.\n",
    "Then, the template query from above is applied on this subject.\n",
    "Next, a Comunica URL is generated to debug the results of this validation."
   ]
  },
  {
   "cell_type": "code",
   "execution_count": 4,
   "metadata": {},
   "outputs": [
    {
     "name": "stdout",
     "output_type": "stream",
     "text": [
      "https://query.linkeddatafragments.org/#datasources=http%3A%2F%2Flocalhost%3A8890%2Fsparql%2F%3Fdefault-graph-uri%3D%26query%3D%250A%2520%2520%2520%2520construct%2520%257B%250A%2520%2520%2520%2520%2520%2520%2520%2520%253Fs%2520%253Fp%2520%253Fo%2520.%250A%2520%2520%2520%2520%257D%250A%2520%2520%2520%2520where%2520%257B%250A%2520%2520%2520%2520%2520%2520%2520%2520graph%2520%253Chttp%253A%252F%252Fmu.semte.ch%252Fgraphs%252Forganizations%252Fd168033a9bac278fa744c425e078eeabd304397f953feaaf5327b4e039aecacb%252FLoketLB-mandaatGebruiker%253E%2520%257B%250A%2520%2520%2520%2520%2520%2520%2520%2520%2520%2520%2520%2520%253Fs%2520%253Fp%2520%253Fo%2520.%250A%2520%2520%2520%2520%2520%2520%2520%2520%257D%250A%2520%2520%2520%2520%257D%250A%2520%2520%2520%2520&query=%0A%20%20%20%20PREFIX%20besluit%3A%20%3Chttp%3A%2F%2Fdata.vlaanderen.be%2Fns%2Fbesluit%23%3E%0A%20%20%20%20PREFIX%20mandaat%3A%20%3Chttp%3A%2F%2Fdata.vlaanderen.be%2Fns%2Fmandaat%23%3E%0A%20%20%20%20PREFIX%20org%3A%20%3Chttp%3A%2F%2Fwww.w3.org%2Fns%2Forg%23%3E%0A%20%20%20%20PREFIX%20lmb%3A%20%3Chttp%3A%2F%2Flblod.data.gift%2Fvocabularies%2Flmb%2F%3E%0A%0A%20%20%20%20select%20DISTINCT%20(%3Chttp%3A%2F%2Fdata.lblod.info%2Fid%2Fmandatarissen%2F4a979b34-e796-4db4-b102-f2e5b9b65b4d%3E%20as%20%3Fthis)%20%3Fvalue%0A%20%20%20%20where%20%7B%0A%20%20%20%20%20%20%20%20%3Chttp%3A%2F%2Fdata.lblod.info%2Fid%2Fmandatarissen%2F4a979b34-e796-4db4-b102-f2e5b9b65b4d%3E%20a%20mandaat%3AMandataris%20.%0A%20%20%20%20%20%20%20%20FILTER%20NOT%20EXISTS%20%7B%0A%20%20%20%20%20%20%20%20%20%20%20%20%3Chttp%3A%2F%2Fdata.lblod.info%2Fid%2Fmandatarissen%2F4a979b34-e796-4db4-b102-f2e5b9b65b4d%3E%20mandaat%3Astart%20%3Fstart%20.%0A%20%20%20%20%20%20%20%20%7D%0A%20%20%20%20%20%20%20%0A%20%20%20%20%20%20%20%20BIND%20(%22Mandataris%20heeft%20geen%20startdatum.%22%20as%20%3Fvalue)%0A%20%20%20%20%7D\n"
     ]
    }
   ],
   "source": [
    "// Test subject\n",
    "const subject = 'http://data.lblod.info/id/mandatarissen/4a979b34-e796-4db4-b102-f2e5b9b65b4d';\n",
    "const mandataris_1_6_subject_query = mandataris_1_6_query.replaceAll('$this', `<${subject}>`);\n",
    "\n",
    "const mandataris_1_6_comunica = `https://query.linkeddatafragments.org/#datasources=${encodeURIComponent(bestuurseenheidUrl)}&query=${encodeURIComponent(mandataris_1_6_subject_query)}`;\n",
    "console.log(mandataris_1_6_comunica);"
   ]
  },
  {
   "cell_type": "markdown",
   "metadata": {},
   "source": [
    "The full validation on all mandatarissen happens below:"
   ]
  },
  {
   "cell_type": "code",
   "execution_count": 5,
   "metadata": {},
   "outputs": [
    {
     "data": {
      "application/json": {
       "classes": [
        {
         "className": "Mandataris",
         "classURI": "http://data.vlaanderen.be/ns/mandaat#Mandataris",
         "count": 88,
         "objects": [
          {
           "class": "http://data.vlaanderen.be/ns/mandaat#Mandataris",
           "className": "Mandataris",
           "properties": [],
           "shapeName": "mandataris_1_5_blueprint",
           "sparqlValidationResults": [],
           "totalCount": 0,
           "uri": "http://data.lblod.info/id/mandatarissen/5eb2389e-c552-42e2-8af6-ae68ba643cce",
           "usedShape": "http://example.org/mandataris_1_5_blueprint",
           "validCount": 0
          },
          {
           "class": "http://data.vlaanderen.be/ns/mandaat#Mandataris",
           "className": "Mandataris",
           "properties": [],
           "shapeName": "mandataris_1_5_blueprint",
           "sparqlValidationResults": [
            {
             "focusNode": "http://data.lblod.info/id/mandatarissen/6116217CB7632D0008000032",
             "resultMessage": "Mandataris heeft geen publicatiestatus.",
             "value": "Mandataris heeft geen status."
            }
           ],
           "totalCount": 0,
           "uri": "http://data.lblod.info/id/mandatarissen/6116217CB7632D0008000032",
           "usedShape": "http://example.org/mandataris_1_5_blueprint",
           "validCount": 0
          },
          {
           "class": "http://data.vlaanderen.be/ns/mandaat#Mandataris",
           "className": "Mandataris",
           "properties": [],
           "shapeName": "mandataris_1_5_blueprint",
           "sparqlValidationResults": [],
           "totalCount": 0,
           "uri": "http://data.lblod.info/id/mandatarissen/61C2F761E4465300080002D9",
           "usedShape": "http://example.org/mandataris_1_5_blueprint",
           "validCount": 0
          },
          {
           "class": "http://data.vlaanderen.be/ns/mandaat#Mandataris",
           "className": "Mandataris",
           "properties": [],
           "shapeName": "mandataris_1_5_blueprint",
           "sparqlValidationResults": [
            {
             "focusNode": "http://data.lblod.info/id/mandatarissen/61f98d07bfd0a81323d835707799faba47ad618304309e1949ca122272f85914",
             "resultMessage": "Mandataris heeft geen publicatiestatus.",
             "value": "Mandataris heeft geen status."
            }
           ],
           "totalCount": 0,
           "uri": "http://data.lblod.info/id/mandatarissen/61f98d07bfd0a81323d835707799faba47ad618304309e1949ca122272f85914",
           "usedShape": "http://example.org/mandataris_1_5_blueprint",
           "validCount": 0
          },
          {
           "class": "http://data.vlaanderen.be/ns/mandaat#Mandataris",
           "className": "Mandataris",
           "properties": [],
           "shapeName": "mandataris_1_5_blueprint",
           "sparqlValidationResults": [],
           "totalCount": 0,
           "uri": "http://data.lblod.info/id/mandatarissen/657854A5F32FEB6FCD78B2B2",
           "usedShape": "http://example.org/mandataris_1_5_blueprint",
           "validCount": 0
          },
          {
           "class": "http://data.vlaanderen.be/ns/mandaat#Mandataris",
           "className": "Mandataris",
           "properties": [],
           "shapeName": "mandataris_1_5_blueprint",
           "sparqlValidationResults": [],
           "totalCount": 0,
           "uri": "http://data.lblod.info/id/mandatarissen/65785517F32FEB6FCD78B2B3",
           "usedShape": "http://example.org/mandataris_1_5_blueprint",
           "validCount": 0
          },
          {
           "class": "http://data.vlaanderen.be/ns/mandaat#Mandataris",
           "className": "Mandataris",
           "properties": [],
           "shapeName": "mandataris_1_5_blueprint",
           "sparqlValidationResults": [
            {
             "focusNode": "http://data.lblod.info/id/mandatarissen/66776faeaaac846527b17f1f6f425ea2b74cc00c0f126af6937e37533f806cd8",
             "resultMessage": "Mandataris heeft geen publicatiestatus.",
             "value": "Mandataris heeft geen status."
            }
           ],
           "totalCount": 0,
           "uri": "http://data.lblod.info/id/mandatarissen/66776faeaaac846527b17f1f6f425ea2b74cc00c0f126af6937e37533f806cd8",
           "usedShape": "http://example.org/mandataris_1_5_blueprint",
           "validCount": 0
          },
          {
           "class": "http://data.vlaanderen.be/ns/mandaat#Mandataris",
           "className": "Mandataris",
           "properties": [],
           "shapeName": "mandataris_1_5_blueprint",
           "sparqlValidationResults": [],
           "totalCount": 0,
           "uri": "http://data.lblod.info/id/mandatarissen/671B6DB10C2BDDC7570103F2",
           "usedShape": "http://example.org/mandataris_1_5_blueprint",
           "validCount": 0
          },
          {
           "class": "http://data.vlaanderen.be/ns/mandaat#Mandataris",
           "className": "Mandataris",
           "properties": [],
           "shapeName": "mandataris_1_5_blueprint",
           "sparqlValidationResults": [],
           "totalCount": 0,
           "uri": "http://data.lblod.info/id/mandatarissen/671B6DB20C2BDDC7570103F3",
           "usedShape": "http://example.org/mandataris_1_5_blueprint",
           "validCount": 0
          },
          {
           "class": "http://data.vlaanderen.be/ns/mandaat#Mandataris",
           "className": "Mandataris",
           "properties": [],
           "shapeName": "mandataris_1_5_blueprint",
           "sparqlValidationResults": [],
           "totalCount": 0,
           "uri": "http://data.lblod.info/id/mandatarissen/671B6DB20C2BDDC7570103F4",
           "usedShape": "http://example.org/mandataris_1_5_blueprint",
           "validCount": 0
          },
          {
           "class": "http://data.vlaanderen.be/ns/mandaat#Mandataris",
           "className": "Mandataris",
           "properties": [],
           "shapeName": "mandataris_1_5_blueprint",
           "sparqlValidationResults": [
            {
             "focusNode": "http://data.lblod.info/id/mandatarissen/704b64995b214484a277d7fbbfdc39a6a6b96b32e96e26c453d7a85d5044c290",
             "resultMessage": "Mandataris heeft geen publicatiestatus.",
             "value": "Mandataris heeft geen status."
            }
           ],
           "totalCount": 0,
           "uri": "http://data.lblod.info/id/mandatarissen/704b64995b214484a277d7fbbfdc39a6a6b96b32e96e26c453d7a85d5044c290",
           "usedShape": "http://example.org/mandataris_1_5_blueprint",
           "validCount": 0
          },
          {
           "class": "http://data.vlaanderen.be/ns/mandaat#Mandataris",
           "className": "Mandataris",
           "properties": [],
           "shapeName": "mandataris_1_5_blueprint",
           "sparqlValidationResults": [
            {
             "focusNode": "http://data.lblod.info/id/mandatarissen/7a126014fc04089745d22e385007ed1d2c31db14e28c791f1c6eb8039d384ee9",
             "resultMessage": "Mandataris heeft geen publicatiestatus.",
             "value": "Mandataris heeft geen status."
            }
           ],
           "totalCount": 0,
           "uri": "http://data.lblod.info/id/mandatarissen/7a126014fc04089745d22e385007ed1d2c31db14e28c791f1c6eb8039d384ee9",
           "usedShape": "http://example.org/mandataris_1_5_blueprint",
           "validCount": 0
          },
          {
           "class": "http://data.vlaanderen.be/ns/mandaat#Mandataris",
           "className": "Mandataris",
           "properties": [],
           "shapeName": "mandataris_1_5_blueprint",
           "sparqlValidationResults": [
            {
             "focusNode": "http://data.lblod.info/id/mandatarissen/7a9c9434c0abb0dd7e1609627329f4a9839ea82d49a2015ce8f0cbd77fdd815c",
             "resultMessage": "Mandataris heeft geen publicatiestatus.",
             "value": "Mandataris heeft geen status."
            }
           ],
           "totalCount": 0,
           "uri": "http://data.lblod.info/id/mandatarissen/7a9c9434c0abb0dd7e1609627329f4a9839ea82d49a2015ce8f0cbd77fdd815c",
           "usedShape": "http://example.org/mandataris_1_5_blueprint",
           "validCount": 0
          },
          {
           "class": "http://data.vlaanderen.be/ns/mandaat#Mandataris",
           "className": "Mandataris",
           "properties": [],
           "shapeName": "mandataris_1_5_blueprint",
           "sparqlValidationResults": [
            {
             "focusNode": "http://data.lblod.info/id/mandatarissen/7aea365e-e96c-4992-b4e2-cb8719f63323",
             "resultMessage": "Mandataris heeft geen publicatiestatus.",
             "value": "Mandataris heeft geen status."
            }
           ],
           "totalCount": 0,
           "uri": "http://data.lblod.info/id/mandatarissen/7aea365e-e96c-4992-b4e2-cb8719f63323",
           "usedShape": "http://example.org/mandataris_1_5_blueprint",
           "validCount": 0
          },
          {
           "class": "http://data.vlaanderen.be/ns/mandaat#Mandataris",
           "className": "Mandataris",
           "properties": [],
           "shapeName": "mandataris_1_5_blueprint",
           "sparqlValidationResults": [
            {
             "focusNode": "http://data.lblod.info/id/mandatarissen/84f20e8f910bb37ac210ae29bf05447ad6a303f186276754389f786f5d4253d6",
             "resultMessage": "Mandataris heeft geen publicatiestatus.",
             "value": "Mandataris heeft geen status."
            }
           ],
           "totalCount": 0,
           "uri": "http://data.lblod.info/id/mandatarissen/84f20e8f910bb37ac210ae29bf05447ad6a303f186276754389f786f5d4253d6",
           "usedShape": "http://example.org/mandataris_1_5_blueprint",
           "validCount": 0
          },
          {
           "class": "http://data.vlaanderen.be/ns/mandaat#Mandataris",
           "className": "Mandataris",
           "properties": [],
           "shapeName": "mandataris_1_5_blueprint",
           "sparqlValidationResults": [
            {
             "focusNode": "http://data.lblod.info/id/mandatarissen/909fcdc70340afd2698dff9c9ca66d27441ee4f18946725e5cc62bb917e943e6",
             "resultMessage": "Mandataris heeft geen publicatiestatus.",
             "value": "Mandataris heeft geen status."
            }
           ],
           "totalCount": 0,
           "uri": "http://data.lblod.info/id/mandatarissen/909fcdc70340afd2698dff9c9ca66d27441ee4f18946725e5cc62bb917e943e6",
           "usedShape": "http://example.org/mandataris_1_5_blueprint",
           "validCount": 0
          },
          {
           "class": "http://data.vlaanderen.be/ns/mandaat#Mandataris",
           "className": "Mandataris",
           "properties": [],
           "shapeName": "mandataris_1_5_blueprint",
           "sparqlValidationResults": [
            {
             "focusNode": "http://data.lblod.info/id/mandatarissen/919658ac10912fc8aac6d6850aac840d8363beb92e4b408e8409c8192c3e9e40",
             "resultMessage": "Mandataris heeft geen publicatiestatus.",
             "value": "Mandataris heeft geen status."
            }
           ],
           "totalCount": 0,
           "uri": "http://data.lblod.info/id/mandatarissen/919658ac10912fc8aac6d6850aac840d8363beb92e4b408e8409c8192c3e9e40",
           "usedShape": "http://example.org/mandataris_1_5_blueprint",
           "validCount": 0
          },
          {
           "class": "http://data.vlaanderen.be/ns/mandaat#Mandataris",
           "className": "Mandataris",
           "properties": [],
           "shapeName": "mandataris_1_5_blueprint",
           "sparqlValidationResults": [
            {
             "focusNode": "http://data.lblod.info/id/mandatarissen/975bbb789c57fb22a2cfa7d256baa9ed508d0e0369d6203250d181d07db5e3a3",
             "resultMessage": "Mandataris heeft geen publicatiestatus.",
             "value": "Mandataris heeft geen status."
            }
           ],
           "totalCount": 0,
           "uri": "http://data.lblod.info/id/mandatarissen/975bbb789c57fb22a2cfa7d256baa9ed508d0e0369d6203250d181d07db5e3a3",
           "usedShape": "http://example.org/mandataris_1_5_blueprint",
           "validCount": 0
          },
          {
           "class": "http://data.vlaanderen.be/ns/mandaat#Mandataris",
           "className": "Mandataris",
           "properties": [],
           "shapeName": "mandataris_1_5_blueprint",
           "sparqlValidationResults": [
            {
             "focusNode": "http://data.lblod.info/id/mandatarissen/a003e3ab4a0e246ef59267ce8b8dabd4519b839feab505738f6e18507bb4eada",
             "resultMessage": "Mandataris heeft geen publicatiestatus.",
             "value": "Mandataris heeft geen status."
            }
           ],
           "totalCount": 0,
           "uri": "http://data.lblod.info/id/mandatarissen/a003e3ab4a0e246ef59267ce8b8dabd4519b839feab505738f6e18507bb4eada",
           "usedShape": "http://example.org/mandataris_1_5_blueprint",
           "validCount": 0
          },
          {
           "class": "http://data.vlaanderen.be/ns/mandaat#Mandataris",
           "className": "Mandataris",
           "properties": [],
           "shapeName": "mandataris_1_5_blueprint",
           "sparqlValidationResults": [
            {
             "focusNode": "http://data.lblod.info/id/mandatarissen/a44017f9348a118a6cb835597ac9bfe29ddc1b78ee8417fd0e319c48d3191141",
             "resultMessage": "Mandataris heeft geen publicatiestatus.",
             "value": "Mandataris heeft geen status."
            }
           ],
           "totalCount": 0,
           "uri": "http://data.lblod.info/id/mandatarissen/a44017f9348a118a6cb835597ac9bfe29ddc1b78ee8417fd0e319c48d3191141",
           "usedShape": "http://example.org/mandataris_1_5_blueprint",
           "validCount": 0
          },
          {
           "class": "http://data.vlaanderen.be/ns/mandaat#Mandataris",
           "className": "Mandataris",
           "properties": [],
           "shapeName": "mandataris_1_5_blueprint",
           "sparqlValidationResults": [
            {
             "focusNode": "http://data.lblod.info/id/mandatarissen/a4e077cd825800bb166f71132f4ee90d14f5ed5ad45d5d66b13e7ff11afdf221",
             "resultMessage": "Mandataris heeft geen publicatiestatus.",
             "value": "Mandataris heeft geen status."
            }
           ],
           "totalCount": 0,
           "uri": "http://data.lblod.info/id/mandatarissen/a4e077cd825800bb166f71132f4ee90d14f5ed5ad45d5d66b13e7ff11afdf221",
           "usedShape": "http://example.org/mandataris_1_5_blueprint",
           "validCount": 0
          },
          {
           "class": "http://data.vlaanderen.be/ns/mandaat#Mandataris",
           "className": "Mandataris",
           "properties": [],
           "shapeName": "mandataris_1_5_blueprint",
           "sparqlValidationResults": [
            {
             "focusNode": "http://data.lblod.info/id/mandatarissen/ae1efffe4039a3894cdc831b2dedbb018273c1046f0c59ed34086fcbe4a3e573",
             "resultMessage": "Mandataris heeft geen publicatiestatus.",
             "value": "Mandataris heeft geen status."
            }
           ],
           "totalCount": 0,
           "uri": "http://data.lblod.info/id/mandatarissen/ae1efffe4039a3894cdc831b2dedbb018273c1046f0c59ed34086fcbe4a3e573",
           "usedShape": "http://example.org/mandataris_1_5_blueprint",
           "validCount": 0
          },
          {
           "class": "http://data.vlaanderen.be/ns/mandaat#Mandataris",
           "className": "Mandataris",
           "properties": [],
           "shapeName": "mandataris_1_5_blueprint",
           "sparqlValidationResults": [
            {
             "focusNode": "http://data.lblod.info/id/mandatarissen/ca0426441b05ecabc282e5ae1b61d196b625930454fbfb5b6578aea789a641bf",
             "resultMessage": "Mandataris heeft geen publicatiestatus.",
             "value": "Mandataris heeft geen status."
            }
           ],
           "totalCount": 0,
           "uri": "http://data.lblod.info/id/mandatarissen/ca0426441b05ecabc282e5ae1b61d196b625930454fbfb5b6578aea789a641bf",
           "usedShape": "http://example.org/mandataris_1_5_blueprint",
           "validCount": 0
          },
          {
           "class": "http://data.vlaanderen.be/ns/mandaat#Mandataris",
           "className": "Mandataris",
           "properties": [],
           "shapeName": "mandataris_1_5_blueprint",
           "sparqlValidationResults": [],
           "totalCount": 0,
           "uri": "http://data.lblod.info/id/mandatarissen/cc0416ef-6083-407c-a18c-fb2dfbeb6704",
           "usedShape": "http://example.org/mandataris_1_5_blueprint",
           "validCount": 0
          },
          {
           "class": "http://data.vlaanderen.be/ns/mandaat#Mandataris",
           "className": "Mandataris",
           "properties": [],
           "shapeName": "mandataris_1_5_blueprint",
           "sparqlValidationResults": [
            {
             "focusNode": "http://data.lblod.info/id/mandatarissen/d45efd88e5859228ead505f0e6cc7db689c7083c73677b37c4aa9b0c34aed926",
             "resultMessage": "Mandataris heeft geen publicatiestatus.",
             "value": "Mandataris heeft geen status."
            }
           ],
           "totalCount": 0,
           "uri": "http://data.lblod.info/id/mandatarissen/d45efd88e5859228ead505f0e6cc7db689c7083c73677b37c4aa9b0c34aed926",
           "usedShape": "http://example.org/mandataris_1_5_blueprint",
           "validCount": 0
          },
          {
           "class": "http://data.vlaanderen.be/ns/mandaat#Mandataris",
           "className": "Mandataris",
           "properties": [],
           "shapeName": "mandataris_1_5_blueprint",
           "sparqlValidationResults": [],
           "totalCount": 0,
           "uri": "http://data.lblod.info/id/mandatarissen/dce31ef7-d71e-4d23-a385-9435a65072d3",
           "usedShape": "http://example.org/mandataris_1_5_blueprint",
           "validCount": 0
          },
          {
           "class": "http://data.vlaanderen.be/ns/mandaat#Mandataris",
           "className": "Mandataris",
           "properties": [],
           "shapeName": "mandataris_1_5_blueprint",
           "sparqlValidationResults": [
            {
             "focusNode": "http://data.lblod.info/id/mandatarissen/e4bef75511ed38b8a50eb368fae90f4af5cdf6297fda6c3dd78f95d6276ca34b",
             "resultMessage": "Mandataris heeft geen publicatiestatus.",
             "value": "Mandataris heeft geen status."
            }
           ],
           "totalCount": 0,
           "uri": "http://data.lblod.info/id/mandatarissen/e4bef75511ed38b8a50eb368fae90f4af5cdf6297fda6c3dd78f95d6276ca34b",
           "usedShape": "http://example.org/mandataris_1_5_blueprint",
           "validCount": 0
          },
          {
           "class": "http://data.vlaanderen.be/ns/mandaat#Mandataris",
           "className": "Mandataris",
           "properties": [],
           "shapeName": "mandataris_1_5_blueprint",
           "sparqlValidationResults": [
            {
             "focusNode": "http://data.lblod.info/id/mandatarissen/edeebb667848d3073475ca1221f5a1771c9d92b0823fcda694b46267d4d24e4b",
             "resultMessage": "Mandataris heeft geen publicatiestatus.",
             "value": "Mandataris heeft geen status."
            }
           ],
           "totalCount": 0,
           "uri": "http://data.lblod.info/id/mandatarissen/edeebb667848d3073475ca1221f5a1771c9d92b0823fcda694b46267d4d24e4b",
           "usedShape": "http://example.org/mandataris_1_5_blueprint",
           "validCount": 0
          },
          {
           "class": "http://data.vlaanderen.be/ns/mandaat#Mandataris",
           "className": "Mandataris",
           "properties": [],
           "shapeName": "mandataris_1_5_blueprint",
           "sparqlValidationResults": [
            {
             "focusNode": "http://data.lblod.info/id/mandatarissen/f241cfa4c2de5eb1514935ee76ea6801850facc63ca4a926ac42d2c8168cb86d",
             "resultMessage": "Mandataris heeft geen publicatiestatus.",
             "value": "Mandataris heeft geen status."
            }
           ],
           "totalCount": 0,
           "uri": "http://data.lblod.info/id/mandatarissen/f241cfa4c2de5eb1514935ee76ea6801850facc63ca4a926ac42d2c8168cb86d",
           "usedShape": "http://example.org/mandataris_1_5_blueprint",
           "validCount": 0
          },
          {
           "class": "http://data.vlaanderen.be/ns/mandaat#Mandataris",
           "className": "Mandataris",
           "properties": [],
           "shapeName": "mandataris_1_5_blueprint",
           "sparqlValidationResults": [
            {
             "focusNode": "http://data.lblod.info/id/mandatarissen/f2ddbeff0a0912bd4b0037abcf52dfa80382a91cc13e2c84c8cf292d1953084f",
             "resultMessage": "Mandataris heeft geen publicatiestatus.",
             "value": "Mandataris heeft geen status."
            }
           ],
           "totalCount": 0,
           "uri": "http://data.lblod.info/id/mandatarissen/f2ddbeff0a0912bd4b0037abcf52dfa80382a91cc13e2c84c8cf292d1953084f",
           "usedShape": "http://example.org/mandataris_1_5_blueprint",
           "validCount": 0
          },
          {
           "class": "http://data.vlaanderen.be/ns/mandaat#Mandataris",
           "className": "Mandataris",
           "properties": [],
           "shapeName": "mandataris_1_5_blueprint",
           "sparqlValidationResults": [
            {
             "focusNode": "http://data.lblod.info/id/mandatarissen/f4ec3e1d6328e5463ea865583b9cb426e736e433a0f89dee0de9a9fd6442782f",
             "resultMessage": "Mandataris heeft geen publicatiestatus.",
             "value": "Mandataris heeft geen status."
            }
           ],
           "totalCount": 0,
           "uri": "http://data.lblod.info/id/mandatarissen/f4ec3e1d6328e5463ea865583b9cb426e736e433a0f89dee0de9a9fd6442782f",
           "usedShape": "http://example.org/mandataris_1_5_blueprint",
           "validCount": 0
          },
          {
           "class": "http://data.vlaanderen.be/ns/mandaat#Mandataris",
           "className": "Mandataris",
           "properties": [],
           "shapeName": "mandataris_1_5_blueprint",
           "sparqlValidationResults": [
            {
             "focusNode": "http://data.lblod.info/id/mandatarissen/f81545221e57f5681febd0cd0f53c567a959e6afb8aaa0407dd55582bdd94206",
             "resultMessage": "Mandataris heeft geen publicatiestatus.",
             "value": "Mandataris heeft geen status."
            }
           ],
           "totalCount": 0,
           "uri": "http://data.lblod.info/id/mandatarissen/f81545221e57f5681febd0cd0f53c567a959e6afb8aaa0407dd55582bdd94206",
           "usedShape": "http://example.org/mandataris_1_5_blueprint",
           "validCount": 0
          },
          {
           "class": "http://data.vlaanderen.be/ns/mandaat#Mandataris",
           "className": "Mandataris",
           "properties": [],
           "shapeName": "mandataris_1_5_blueprint",
           "sparqlValidationResults": [
            {
             "focusNode": "http://data.lblod.info/id/mandatarissen/fd7b73c0f8b244b7f040b08ad2b2325e27e90aa77efe82da04c5a4d3b0788159",
             "resultMessage": "Mandataris heeft geen publicatiestatus.",
             "value": "Mandataris heeft geen status."
            }
           ],
           "totalCount": 0,
           "uri": "http://data.lblod.info/id/mandatarissen/fd7b73c0f8b244b7f040b08ad2b2325e27e90aa77efe82da04c5a4d3b0788159",
           "usedShape": "http://example.org/mandataris_1_5_blueprint",
           "validCount": 0
          },
          {
           "class": "http://data.vlaanderen.be/ns/mandaat#Mandataris",
           "className": "Mandataris",
           "properties": [],
           "shapeName": "mandataris_1_5_blueprint",
           "sparqlValidationResults": [
            {
             "focusNode": "http://data.lblod.info/id/mandatarissen/0a20b4d31a54cb0f80c5512b43b0d0a53ce79c6cfd3a5ba0cc7a7b61eea1bb52",
             "resultMessage": "Mandataris heeft geen publicatiestatus.",
             "value": "Mandataris heeft geen status."
            }
           ],
           "totalCount": 0,
           "uri": "http://data.lblod.info/id/mandatarissen/0a20b4d31a54cb0f80c5512b43b0d0a53ce79c6cfd3a5ba0cc7a7b61eea1bb52",
           "usedShape": "http://example.org/mandataris_1_5_blueprint",
           "validCount": 0
          },
          {
           "class": "http://data.vlaanderen.be/ns/mandaat#Mandataris",
           "className": "Mandataris",
           "properties": [],
           "shapeName": "mandataris_1_5_blueprint",
           "sparqlValidationResults": [],
           "totalCount": 0,
           "uri": "http://data.lblod.info/id/mandatarissen/0b7d7d4d-bc09-43d9-957c-3adea1f1bb1f",
           "usedShape": "http://example.org/mandataris_1_5_blueprint",
           "validCount": 0
          },
          {
           "class": "http://data.vlaanderen.be/ns/mandaat#Mandataris",
           "className": "Mandataris",
           "properties": [],
           "shapeName": "mandataris_1_5_blueprint",
           "sparqlValidationResults": [
            {
             "focusNode": "http://data.lblod.info/id/mandatarissen/0be74b796f2ad3337653c9ec55f435864ec8254e73ed6ebbd8fc15aea0086179",
             "resultMessage": "Mandataris heeft geen publicatiestatus.",
             "value": "Mandataris heeft geen status."
            }
           ],
           "totalCount": 0,
           "uri": "http://data.lblod.info/id/mandatarissen/0be74b796f2ad3337653c9ec55f435864ec8254e73ed6ebbd8fc15aea0086179",
           "usedShape": "http://example.org/mandataris_1_5_blueprint",
           "validCount": 0
          },
          {
           "class": "http://data.vlaanderen.be/ns/mandaat#Mandataris",
           "className": "Mandataris",
           "properties": [],
           "shapeName": "mandataris_1_5_blueprint",
           "sparqlValidationResults": [
            {
             "focusNode": "http://data.lblod.info/id/mandatarissen/0e6b8d04482fde9f8eef81a81737e9a5297d32ca63f81c78da94c1e917bdbc46",
             "resultMessage": "Mandataris heeft geen publicatiestatus.",
             "value": "Mandataris heeft geen status."
            }
           ],
           "totalCount": 0,
           "uri": "http://data.lblod.info/id/mandatarissen/0e6b8d04482fde9f8eef81a81737e9a5297d32ca63f81c78da94c1e917bdbc46",
           "usedShape": "http://example.org/mandataris_1_5_blueprint",
           "validCount": 0
          },
          {
           "class": "http://data.vlaanderen.be/ns/mandaat#Mandataris",
           "className": "Mandataris",
           "properties": [],
           "shapeName": "mandataris_1_5_blueprint",
           "sparqlValidationResults": [],
           "totalCount": 0,
           "uri": "http://data.lblod.info/id/mandatarissen/13c112a3-2376-4128-89d4-17449425a165",
           "usedShape": "http://example.org/mandataris_1_5_blueprint",
           "validCount": 0
          },
          {
           "class": "http://data.vlaanderen.be/ns/mandaat#Mandataris",
           "className": "Mandataris",
           "properties": [],
           "shapeName": "mandataris_1_5_blueprint",
           "sparqlValidationResults": [],
           "totalCount": 0,
           "uri": "http://data.lblod.info/id/mandatarissen/15218ee9-b467-460c-8eeb-27d6fc0ff641",
           "usedShape": "http://example.org/mandataris_1_5_blueprint",
           "validCount": 0
          },
          {
           "class": "http://data.vlaanderen.be/ns/mandaat#Mandataris",
           "className": "Mandataris",
           "properties": [],
           "shapeName": "mandataris_1_5_blueprint",
           "sparqlValidationResults": [
            {
             "focusNode": "http://data.lblod.info/id/mandatarissen/15d29eccac38097ce31dd2d47df247ce9e4da7abe40ab4f52ad147a89e19ae41",
             "resultMessage": "Mandataris heeft geen publicatiestatus.",
             "value": "Mandataris heeft geen status."
            }
           ],
           "totalCount": 0,
           "uri": "http://data.lblod.info/id/mandatarissen/15d29eccac38097ce31dd2d47df247ce9e4da7abe40ab4f52ad147a89e19ae41",
           "usedShape": "http://example.org/mandataris_1_5_blueprint",
           "validCount": 0
          },
          {
           "class": "http://data.vlaanderen.be/ns/mandaat#Mandataris",
           "className": "Mandataris",
           "properties": [],
           "shapeName": "mandataris_1_5_blueprint",
           "sparqlValidationResults": [
            {
             "focusNode": "http://data.lblod.info/id/mandatarissen/204e075cb6e10526c233c737fa3febc61c6c3cb5a1c585ae7972cd73ab8c27c9",
             "resultMessage": "Mandataris heeft geen publicatiestatus.",
             "value": "Mandataris heeft geen status."
            }
           ],
           "totalCount": 0,
           "uri": "http://data.lblod.info/id/mandatarissen/204e075cb6e10526c233c737fa3febc61c6c3cb5a1c585ae7972cd73ab8c27c9",
           "usedShape": "http://example.org/mandataris_1_5_blueprint",
           "validCount": 0
          },
          {
           "class": "http://data.vlaanderen.be/ns/mandaat#Mandataris",
           "className": "Mandataris",
           "properties": [],
           "shapeName": "mandataris_1_5_blueprint",
           "sparqlValidationResults": [
            {
             "focusNode": "http://data.lblod.info/id/mandatarissen/2a826c2e9427542738e872e9289cfffb76f6f6a93ad00754f5ed132c2b943438",
             "resultMessage": "Mandataris heeft geen publicatiestatus.",
             "value": "Mandataris heeft geen status."
            }
           ],
           "totalCount": 0,
           "uri": "http://data.lblod.info/id/mandatarissen/2a826c2e9427542738e872e9289cfffb76f6f6a93ad00754f5ed132c2b943438",
           "usedShape": "http://example.org/mandataris_1_5_blueprint",
           "validCount": 0
          },
          {
           "class": "http://data.vlaanderen.be/ns/mandaat#Mandataris",
           "className": "Mandataris",
           "properties": [],
           "shapeName": "mandataris_1_5_blueprint",
           "sparqlValidationResults": [],
           "totalCount": 0,
           "uri": "http://data.lblod.info/id/mandatarissen/2ad2db14-67da-48ac-b30e-181962aafe3a",
           "usedShape": "http://example.org/mandataris_1_5_blueprint",
           "validCount": 0
          },
          {
           "class": "http://data.vlaanderen.be/ns/mandaat#Mandataris",
           "className": "Mandataris",
           "properties": [],
           "shapeName": "mandataris_1_5_blueprint",
           "sparqlValidationResults": [],
           "totalCount": 0,
           "uri": "http://data.lblod.info/id/mandatarissen/2fafdd24-17ad-43df-abad-65fa08c6d35c",
           "usedShape": "http://example.org/mandataris_1_5_blueprint",
           "validCount": 0
          },
          {
           "class": "http://data.vlaanderen.be/ns/mandaat#Mandataris",
           "className": "Mandataris",
           "properties": [],
           "shapeName": "mandataris_1_5_blueprint",
           "sparqlValidationResults": [],
           "totalCount": 0,
           "uri": "http://data.lblod.info/id/mandatarissen/301f6e33-6245-453a-b7d0-89b494f155da",
           "usedShape": "http://example.org/mandataris_1_5_blueprint",
           "validCount": 0
          },
          {
           "class": "http://data.vlaanderen.be/ns/mandaat#Mandataris",
           "className": "Mandataris",
           "properties": [],
           "shapeName": "mandataris_1_5_blueprint",
           "sparqlValidationResults": [
            {
             "focusNode": "http://data.lblod.info/id/mandatarissen/38d3af110dba0b6e6874cc4db4ade30ea1a63382e9a9cf5a919c5d48b72a965b",
             "resultMessage": "Mandataris heeft geen publicatiestatus.",
             "value": "Mandataris heeft geen status."
            }
           ],
           "totalCount": 0,
           "uri": "http://data.lblod.info/id/mandatarissen/38d3af110dba0b6e6874cc4db4ade30ea1a63382e9a9cf5a919c5d48b72a965b",
           "usedShape": "http://example.org/mandataris_1_5_blueprint",
           "validCount": 0
          },
          {
           "class": "http://data.vlaanderen.be/ns/mandaat#Mandataris",
           "className": "Mandataris",
           "properties": [],
           "shapeName": "mandataris_1_5_blueprint",
           "sparqlValidationResults": [],
           "totalCount": 0,
           "uri": "http://data.lblod.info/id/mandatarissen/3c5ac9c8-406d-46c2-9ec0-7d201f640bf1",
           "usedShape": "http://example.org/mandataris_1_5_blueprint",
           "validCount": 0
          },
          {
           "class": "http://data.vlaanderen.be/ns/mandaat#Mandataris",
           "className": "Mandataris",
           "properties": [],
           "shapeName": "mandataris_1_5_blueprint",
           "sparqlValidationResults": [],
           "totalCount": 0,
           "uri": "http://data.lblod.info/id/mandatarissen/3ea37179-5b3d-4a50-8c5d-491c1bf86864",
           "usedShape": "http://example.org/mandataris_1_5_blueprint",
           "validCount": 0
          },
          {
           "class": "http://data.vlaanderen.be/ns/mandaat#Mandataris",
           "className": "Mandataris",
           "properties": [],
           "shapeName": "mandataris_1_5_blueprint",
           "sparqlValidationResults": [],
           "totalCount": 0,
           "uri": "http://data.lblod.info/id/mandatarissen/4a979b34-e796-4db4-b102-f2e5b9b65b4d",
           "usedShape": "http://example.org/mandataris_1_5_blueprint",
           "validCount": 0
          },
          {
           "class": "http://data.vlaanderen.be/ns/mandaat#Mandataris",
           "className": "Mandataris",
           "properties": [],
           "shapeName": "mandataris_1_5_blueprint",
           "sparqlValidationResults": [
            {
             "focusNode": "http://data.lblod.info/id/mandatarissen/513c6f58430856864fd770e1de8f4371aca71723304fc4a0c1df25b946916b10",
             "resultMessage": "Mandataris heeft geen publicatiestatus.",
             "value": "Mandataris heeft geen status."
            }
           ],
           "totalCount": 0,
           "uri": "http://data.lblod.info/id/mandatarissen/513c6f58430856864fd770e1de8f4371aca71723304fc4a0c1df25b946916b10",
           "usedShape": "http://example.org/mandataris_1_5_blueprint",
           "validCount": 0
          },
          {
           "class": "http://data.vlaanderen.be/ns/mandaat#Mandataris",
           "className": "Mandataris",
           "properties": [],
           "shapeName": "mandataris_1_5_blueprint",
           "sparqlValidationResults": [
            {
             "focusNode": "http://data.lblod.info/id/mandatarissen/54920fb796943ecd1f9ed01a2a17612f369f5aea8e4881e7a901b98cc968a511",
             "resultMessage": "Mandataris heeft geen publicatiestatus.",
             "value": "Mandataris heeft geen status."
            }
           ],
           "totalCount": 0,
           "uri": "http://data.lblod.info/id/mandatarissen/54920fb796943ecd1f9ed01a2a17612f369f5aea8e4881e7a901b98cc968a511",
           "usedShape": "http://example.org/mandataris_1_5_blueprint",
           "validCount": 0
          },
          {
           "class": "http://data.vlaanderen.be/ns/mandaat#Mandataris",
           "className": "Mandataris",
           "properties": [],
           "shapeName": "mandataris_1_5_blueprint",
           "sparqlValidationResults": [],
           "totalCount": 0,
           "uri": "http://data.lblod.info/id/mandatarissen/5BB371B898360D00090003BA",
           "usedShape": "http://example.org/mandataris_1_5_blueprint",
           "validCount": 0
          },
          {
           "class": "http://data.vlaanderen.be/ns/mandaat#Mandataris",
           "className": "Mandataris",
           "properties": [],
           "shapeName": "mandataris_1_5_blueprint",
           "sparqlValidationResults": [
            {
             "focusNode": "http://data.lblod.info/id/mandatarissen/5BB3737198360D00090003CA",
             "resultMessage": "Mandataris heeft geen publicatiestatus.",
             "value": "Mandataris heeft geen status."
            }
           ],
           "totalCount": 0,
           "uri": "http://data.lblod.info/id/mandatarissen/5BB3737198360D00090003CA",
           "usedShape": "http://example.org/mandataris_1_5_blueprint",
           "validCount": 0
          },
          {
           "class": "http://data.vlaanderen.be/ns/mandaat#Mandataris",
           "className": "Mandataris",
           "properties": [],
           "shapeName": "mandataris_1_5_blueprint",
           "sparqlValidationResults": [
            {
             "focusNode": "http://data.lblod.info/id/mandatarissen/5BB3740398360D00090003CF",
             "resultMessage": "Mandataris heeft geen publicatiestatus.",
             "value": "Mandataris heeft geen status."
            }
           ],
           "totalCount": 0,
           "uri": "http://data.lblod.info/id/mandatarissen/5BB3740398360D00090003CF",
           "usedShape": "http://example.org/mandataris_1_5_blueprint",
           "validCount": 0
          },
          {
           "class": "http://data.vlaanderen.be/ns/mandaat#Mandataris",
           "className": "Mandataris",
           "properties": [],
           "shapeName": "mandataris_1_5_blueprint",
           "sparqlValidationResults": [],
           "totalCount": 0,
           "uri": "http://data.lblod.info/id/mandatarissen/5C41F5AA57753A0009000253",
           "usedShape": "http://example.org/mandataris_1_5_blueprint",
           "validCount": 0
          },
          {
           "class": "http://data.vlaanderen.be/ns/mandaat#Mandataris",
           "className": "Mandataris",
           "properties": [],
           "shapeName": "mandataris_1_5_blueprint",
           "sparqlValidationResults": [],
           "totalCount": 0,
           "uri": "http://data.lblod.info/id/mandatarissen/671B591E0C2BDDC757010387",
           "usedShape": "http://example.org/mandataris_1_5_blueprint",
           "validCount": 0
          },
          {
           "class": "http://data.vlaanderen.be/ns/mandaat#Mandataris",
           "className": "Mandataris",
           "properties": [],
           "shapeName": "mandataris_1_5_blueprint",
           "sparqlValidationResults": [],
           "totalCount": 0,
           "uri": "http://data.lblod.info/id/mandatarissen/671B591F0C2BDDC757010388",
           "usedShape": "http://example.org/mandataris_1_5_blueprint",
           "validCount": 0
          },
          {
           "class": "http://data.vlaanderen.be/ns/mandaat#Mandataris",
           "className": "Mandataris",
           "properties": [],
           "shapeName": "mandataris_1_5_blueprint",
           "sparqlValidationResults": [],
           "totalCount": 0,
           "uri": "http://data.lblod.info/id/mandatarissen/671B6DA60C2BDDC7570103E2",
           "usedShape": "http://example.org/mandataris_1_5_blueprint",
           "validCount": 0
          },
          {
           "class": "http://data.vlaanderen.be/ns/mandaat#Mandataris",
           "className": "Mandataris",
           "properties": [],
           "shapeName": "mandataris_1_5_blueprint",
           "sparqlValidationResults": [],
           "totalCount": 0,
           "uri": "http://data.lblod.info/id/mandatarissen/671B6DA80C2BDDC7570103E4",
           "usedShape": "http://example.org/mandataris_1_5_blueprint",
           "validCount": 0
          },
          {
           "class": "http://data.vlaanderen.be/ns/mandaat#Mandataris",
           "className": "Mandataris",
           "properties": [],
           "shapeName": "mandataris_1_5_blueprint",
           "sparqlValidationResults": [],
           "totalCount": 0,
           "uri": "http://data.lblod.info/id/mandatarissen/671B6DA90C2BDDC7570103E6",
           "usedShape": "http://example.org/mandataris_1_5_blueprint",
           "validCount": 0
          },
          {
           "class": "http://data.vlaanderen.be/ns/mandaat#Mandataris",
           "className": "Mandataris",
           "properties": [],
           "shapeName": "mandataris_1_5_blueprint",
           "sparqlValidationResults": [],
           "totalCount": 0,
           "uri": "http://data.lblod.info/id/mandatarissen/671B6DA90C2BDDC7570103E7",
           "usedShape": "http://example.org/mandataris_1_5_blueprint",
           "validCount": 0
          },
          {
           "class": "http://data.vlaanderen.be/ns/mandaat#Mandataris",
           "className": "Mandataris",
           "properties": [],
           "shapeName": "mandataris_1_5_blueprint",
           "sparqlValidationResults": [],
           "totalCount": 0,
           "uri": "http://data.lblod.info/id/mandatarissen/671B6DAA0C2BDDC7570103E8",
           "usedShape": "http://example.org/mandataris_1_5_blueprint",
           "validCount": 0
          },
          {
           "class": "http://data.vlaanderen.be/ns/mandaat#Mandataris",
           "className": "Mandataris",
           "properties": [],
           "shapeName": "mandataris_1_5_blueprint",
           "sparqlValidationResults": [],
           "totalCount": 0,
           "uri": "http://data.lblod.info/id/mandatarissen/671B6DAB0C2BDDC7570103E9",
           "usedShape": "http://example.org/mandataris_1_5_blueprint",
           "validCount": 0
          },
          {
           "class": "http://data.vlaanderen.be/ns/mandaat#Mandataris",
           "className": "Mandataris",
           "properties": [],
           "shapeName": "mandataris_1_5_blueprint",
           "sparqlValidationResults": [],
           "totalCount": 0,
           "uri": "http://data.lblod.info/id/mandatarissen/671B6DAB0C2BDDC7570103EA",
           "usedShape": "http://example.org/mandataris_1_5_blueprint",
           "validCount": 0
          },
          {
           "class": "http://data.vlaanderen.be/ns/mandaat#Mandataris",
           "className": "Mandataris",
           "properties": [],
           "shapeName": "mandataris_1_5_blueprint",
           "sparqlValidationResults": [],
           "totalCount": 0,
           "uri": "http://data.lblod.info/id/mandatarissen/671B6DAC0C2BDDC7570103EB",
           "usedShape": "http://example.org/mandataris_1_5_blueprint",
           "validCount": 0
          },
          {
           "class": "http://data.vlaanderen.be/ns/mandaat#Mandataris",
           "className": "Mandataris",
           "properties": [],
           "shapeName": "mandataris_1_5_blueprint",
           "sparqlValidationResults": [],
           "totalCount": 0,
           "uri": "http://data.lblod.info/id/mandatarissen/671B6DAD0C2BDDC7570103ED",
           "usedShape": "http://example.org/mandataris_1_5_blueprint",
           "validCount": 0
          },
          {
           "class": "http://data.vlaanderen.be/ns/mandaat#Mandataris",
           "className": "Mandataris",
           "properties": [],
           "shapeName": "mandataris_1_5_blueprint",
           "sparqlValidationResults": [],
           "totalCount": 0,
           "uri": "http://data.lblod.info/id/mandatarissen/671B6DAE0C2BDDC7570103EE",
           "usedShape": "http://example.org/mandataris_1_5_blueprint",
           "validCount": 0
          },
          {
           "class": "http://data.vlaanderen.be/ns/mandaat#Mandataris",
           "className": "Mandataris",
           "properties": [],
           "shapeName": "mandataris_1_5_blueprint",
           "sparqlValidationResults": [],
           "totalCount": 0,
           "uri": "http://data.lblod.info/id/mandatarissen/671B6DAE0C2BDDC7570103EF",
           "usedShape": "http://example.org/mandataris_1_5_blueprint",
           "validCount": 0
          },
          {
           "class": "http://data.vlaanderen.be/ns/mandaat#Mandataris",
           "className": "Mandataris",
           "properties": [],
           "shapeName": "mandataris_1_5_blueprint",
           "sparqlValidationResults": [],
           "totalCount": 0,
           "uri": "http://data.lblod.info/id/mandatarissen/671B6DAF0C2BDDC7570103F0",
           "usedShape": "http://example.org/mandataris_1_5_blueprint",
           "validCount": 0
          },
          {
           "class": "http://data.vlaanderen.be/ns/mandaat#Mandataris",
           "className": "Mandataris",
           "properties": [],
           "shapeName": "mandataris_1_5_blueprint",
           "sparqlValidationResults": [],
           "totalCount": 0,
           "uri": "http://data.lblod.info/id/mandatarissen/671B6DB00C2BDDC7570103F1",
           "usedShape": "http://example.org/mandataris_1_5_blueprint",
           "validCount": 0
          },
          {
           "class": "http://data.vlaanderen.be/ns/mandaat#Mandataris",
           "className": "Mandataris",
           "properties": [],
           "shapeName": "mandataris_1_5_blueprint",
           "sparqlValidationResults": [],
           "totalCount": 0,
           "uri": "http://data.lblod.info/id/mandatarissen/671B6DB30C2BDDC7570103F5",
           "usedShape": "http://example.org/mandataris_1_5_blueprint",
           "validCount": 0
          },
          {
           "class": "http://data.vlaanderen.be/ns/mandaat#Mandataris",
           "className": "Mandataris",
           "properties": [],
           "shapeName": "mandataris_1_5_blueprint",
           "sparqlValidationResults": [],
           "totalCount": 0,
           "uri": "http://data.lblod.info/id/mandatarissen/71d1f9d3-11f1-4830-b801-3cd9efdd40f1",
           "usedShape": "http://example.org/mandataris_1_5_blueprint",
           "validCount": 0
          },
          {
           "class": "http://data.vlaanderen.be/ns/mandaat#Mandataris",
           "className": "Mandataris",
           "properties": [],
           "shapeName": "mandataris_1_5_blueprint",
           "sparqlValidationResults": [],
           "totalCount": 0,
           "uri": "http://data.lblod.info/id/mandatarissen/7c985192-bf54-4c76-9eda-bc1278a78df3",
           "usedShape": "http://example.org/mandataris_1_5_blueprint",
           "validCount": 0
          },
          {
           "class": "http://data.vlaanderen.be/ns/mandaat#Mandataris",
           "className": "Mandataris",
           "properties": [],
           "shapeName": "mandataris_1_5_blueprint",
           "sparqlValidationResults": [],
           "totalCount": 0,
           "uri": "http://data.lblod.info/id/mandatarissen/800e80dc-b5c9-4681-8f0b-b96968cb2668",
           "usedShape": "http://example.org/mandataris_1_5_blueprint",
           "validCount": 0
          },
          {
           "class": "http://data.vlaanderen.be/ns/mandaat#Mandataris",
           "className": "Mandataris",
           "properties": [],
           "shapeName": "mandataris_1_5_blueprint",
           "sparqlValidationResults": [],
           "totalCount": 0,
           "uri": "http://data.lblod.info/id/mandatarissen/8e7167a0-f67f-4f57-8ec0-37c3a8e14c91",
           "usedShape": "http://example.org/mandataris_1_5_blueprint",
           "validCount": 0
          },
          {
           "class": "http://data.vlaanderen.be/ns/mandaat#Mandataris",
           "className": "Mandataris",
           "properties": [],
           "shapeName": "mandataris_1_5_blueprint",
           "sparqlValidationResults": [],
           "totalCount": 0,
           "uri": "http://data.lblod.info/id/mandatarissen/a98cb145-1635-43ee-8887-a96b25c05e91",
           "usedShape": "http://example.org/mandataris_1_5_blueprint",
           "validCount": 0
          },
          {
           "class": "http://data.vlaanderen.be/ns/mandaat#Mandataris",
           "className": "Mandataris",
           "properties": [],
           "shapeName": "mandataris_1_5_blueprint",
           "sparqlValidationResults": [],
           "totalCount": 0,
           "uri": "http://data.lblod.info/id/mandatarissen/abbd0fd2-ab00-44ae-a156-e4e96b9c434f",
           "usedShape": "http://example.org/mandataris_1_5_blueprint",
           "validCount": 0
          },
          {
           "class": "http://data.vlaanderen.be/ns/mandaat#Mandataris",
           "className": "Mandataris",
           "properties": [],
           "shapeName": "mandataris_1_5_blueprint",
           "sparqlValidationResults": [],
           "totalCount": 0,
           "uri": "http://data.lblod.info/id/mandatarissen/aef431ab-74c8-4633-b873-1a2b8357bb07",
           "usedShape": "http://example.org/mandataris_1_5_blueprint",
           "validCount": 0
          },
          {
           "class": "http://data.vlaanderen.be/ns/mandaat#Mandataris",
           "className": "Mandataris",
           "properties": [],
           "shapeName": "mandataris_1_5_blueprint",
           "sparqlValidationResults": [],
           "totalCount": 0,
           "uri": "http://data.lblod.info/id/mandatarissen/b7a535ea-c778-46f5-b514-f1983c66b4ad",
           "usedShape": "http://example.org/mandataris_1_5_blueprint",
           "validCount": 0
          },
          {
           "class": "http://data.vlaanderen.be/ns/mandaat#Mandataris",
           "className": "Mandataris",
           "properties": [],
           "shapeName": "mandataris_1_5_blueprint",
           "sparqlValidationResults": [],
           "totalCount": 0,
           "uri": "http://data.lblod.info/id/mandatarissen/c86726a6-d94a-496e-9933-3497f241b05d",
           "usedShape": "http://example.org/mandataris_1_5_blueprint",
           "validCount": 0
          },
          {
           "class": "http://data.vlaanderen.be/ns/mandaat#Mandataris",
           "className": "Mandataris",
           "properties": [],
           "shapeName": "mandataris_1_5_blueprint",
           "sparqlValidationResults": [],
           "totalCount": 0,
           "uri": "http://data.lblod.info/id/mandatarissen/c99034ce-648d-4b71-85f9-c3b455f88f1b",
           "usedShape": "http://example.org/mandataris_1_5_blueprint",
           "validCount": 0
          },
          {
           "class": "http://data.vlaanderen.be/ns/mandaat#Mandataris",
           "className": "Mandataris",
           "properties": [],
           "shapeName": "mandataris_1_5_blueprint",
           "sparqlValidationResults": [],
           "totalCount": 0,
           "uri": "http://data.lblod.info/id/mandatarissen/d2adda8b-8900-4d0a-b795-3cf8d1ab5522",
           "usedShape": "http://example.org/mandataris_1_5_blueprint",
           "validCount": 0
          },
          {
           "class": "http://data.vlaanderen.be/ns/mandaat#Mandataris",
           "className": "Mandataris",
           "properties": [],
           "shapeName": "mandataris_1_5_blueprint",
           "sparqlValidationResults": [],
           "totalCount": 0,
           "uri": "http://data.lblod.info/id/mandatarissen/d5548b99-e38f-4b6a-8a6d-c6ef0732028c",
           "usedShape": "http://example.org/mandataris_1_5_blueprint",
           "validCount": 0
          },
          {
           "class": "http://data.vlaanderen.be/ns/mandaat#Mandataris",
           "className": "Mandataris",
           "properties": [],
           "shapeName": "mandataris_1_5_blueprint",
           "sparqlValidationResults": [],
           "totalCount": 0,
           "uri": "http://data.lblod.info/id/mandatarissen/fbfc8fe7-7b65-46c2-b2ca-37857a98622a",
           "usedShape": "http://example.org/mandataris_1_5_blueprint",
           "validCount": 0
          },
          {
           "class": "http://data.vlaanderen.be/ns/mandaat#Mandataris",
           "className": "Mandataris",
           "properties": [],
           "shapeName": "mandataris_1_5_blueprint",
           "sparqlValidationResults": [],
           "totalCount": 0,
           "uri": "http://data.lblod.info/id/mandatarissen/671B6DA50C2BDDC7570103E1",
           "usedShape": "http://example.org/mandataris_1_5_blueprint",
           "validCount": 0
          },
          {
           "class": "http://data.vlaanderen.be/ns/mandaat#Mandataris",
           "className": "Mandataris",
           "properties": [],
           "shapeName": "mandataris_1_5_blueprint",
           "sparqlValidationResults": [],
           "totalCount": 0,
           "uri": "http://data.lblod.info/id/mandatarissen/671B6DA70C2BDDC7570103E3",
           "usedShape": "http://example.org/mandataris_1_5_blueprint",
           "validCount": 0
          },
          {
           "class": "http://data.vlaanderen.be/ns/mandaat#Mandataris",
           "className": "Mandataris",
           "properties": [],
           "shapeName": "mandataris_1_5_blueprint",
           "sparqlValidationResults": [],
           "totalCount": 0,
           "uri": "http://data.lblod.info/id/mandatarissen/671B6DA80C2BDDC7570103E5",
           "usedShape": "http://example.org/mandataris_1_5_blueprint",
           "validCount": 0
          },
          {
           "class": "http://data.vlaanderen.be/ns/mandaat#Mandataris",
           "className": "Mandataris",
           "properties": [],
           "shapeName": "mandataris_1_5_blueprint",
           "sparqlValidationResults": [],
           "totalCount": 0,
           "uri": "http://data.lblod.info/id/mandatarissen/671B6DAC0C2BDDC7570103EC",
           "usedShape": "http://example.org/mandataris_1_5_blueprint",
           "validCount": 0
          }
         ]
        }
       ],
       "maturity": "Niveau 3"
      }
     },
     "metadata": {},
     "output_type": "display_data"
    }
   ],
   "source": [
    "const mandataris_1_6_validationReport = await validateDocument(bestuurseenheidBindings, mandataris_1_6_bindings);\n",
    "await display({ \"application/json\": mandataris_1_6_validationReport},{ raw: true });"
   ]
  }
 ],
 "metadata": {
  "kernelspec": {
   "display_name": "Deno",
   "language": "typescript",
   "name": "deno"
  },
  "language_info": {
   "codemirror_mode": "typescript",
   "file_extension": ".ts",
   "mimetype": "text/x.typescript",
   "name": "typescript",
   "nbconvert_exporter": "script",
   "pygments_lexer": "typescript",
   "version": "5.6.2"
  }
 },
 "nbformat": 4,
 "nbformat_minor": 4
}
